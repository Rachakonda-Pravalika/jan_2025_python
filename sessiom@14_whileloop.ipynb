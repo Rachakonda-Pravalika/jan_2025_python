{
 "cells": [
  {
   "cell_type": "markdown",
   "id": "581fb496-7ad8-4b09-aa0d-1e2a98f589eb",
   "metadata": {},
   "source": [
    "## while loop"
   ]
  },
  {
   "cell_type": "markdown",
   "id": "7b6ec5b3-ef03-4ee0-a187-1ede16225df2",
   "metadata": {},
   "source": [
    "- initialization to start\n",
    "\n",
    "- increment or decrement\n",
    "\n",
    "- condition to stop"
   ]
  },
  {
   "cell_type": "code",
   "execution_count": null,
   "id": "69a2a7df-ea46-4a11-ae99-c5f1e4e3ea56",
   "metadata": {},
   "outputs": [],
   "source": [
    "for i in range(1,10)\n",
    "in a single line we have start=1 increment +1 stop 10-1=9"
   ]
  },
  {
   "cell_type": "code",
   "execution_count": null,
   "id": "d71de65a-dfa4-44a2-8e73-f8d5a6c03dad",
   "metadata": {},
   "outputs": [],
   "source": [
    "<initialization>\n",
    "\n",
    "while <condition>:\n",
    "    #=======python\n",
    "\n",
    "    increment/decrement"
   ]
  },
  {
   "cell_type": "code",
   "execution_count": 1,
   "id": "9d1ba664-db94-4941-b78d-a04075a101c0",
   "metadata": {
    "scrolled": true
   },
   "outputs": [
    {
     "name": "stdout",
     "output_type": "stream",
     "text": [
      "1 2 3 4 5 6 7 8 9 "
     ]
    }
   ],
   "source": [
    "# for i n range(1,10):\n",
    "#     print(i,end=' ')\n",
    "\n",
    "\n",
    "i=1 \n",
    "while i<10:\n",
    "    print(i,end=' ')\n",
    "    i=i+1\n",
    "\n",
    "# step-1: i=1 while 1<3 true point(1) i=1+1=2 \n",
    "# step-2: i=2 while 2<3 true point(2) i=2+1=3\n",
    "# step-3: i=3 while 3<3 False"
   ]
  },
  {
   "cell_type": "code",
   "execution_count": null,
   "id": "7d4af34b-6f13-4577-a4db-98bc52e067f4",
   "metadata": {
    "jupyter": {
     "source_hidden": true
    }
   },
   "outputs": [],
   "source": [
    "# Q1) print 1 to 10\n",
    "# Q2) print 10 to 1\n",
    "# Q3) print"
   ]
  },
  {
   "cell_type": "code",
   "execution_count": 5,
   "id": "23b806e3-985f-40f9-897f-7b792618f35a",
   "metadata": {},
   "outputs": [
    {
     "name": "stdout",
     "output_type": "stream",
     "text": [
      "10 9 8 7 6 5 4 3 2 "
     ]
    }
   ],
   "source": [
    "i=10\n",
    "while i>1:\n",
    "    print(i,end=' ')\n",
    "    i=i-1"
   ]
  },
  {
   "cell_type": "code",
   "execution_count": 3,
   "id": "69820c2a-22cb-4d4a-9a4b-1cf13a11891a",
   "metadata": {},
   "outputs": [
    {
     "name": "stdout",
     "output_type": "stream",
     "text": [
      "-1 -2 -3 -4 -5 -6 -7 -8 -9 "
     ]
    }
   ],
   "source": [
    "i=-1 \n",
    "while i>-10:\n",
    "    print(i,end=' ')\n",
    "    i=i-1"
   ]
  },
  {
   "cell_type": "code",
   "execution_count": 3,
   "id": "84b7cef4-60ba-42fb-8889-19952b009507",
   "metadata": {},
   "outputs": [
    {
     "name": "stdout",
     "output_type": "stream",
     "text": [
      "-10 -9 -8 -7 -6 -5 -4 -3 -2 -1 "
     ]
    }
   ],
   "source": [
    "i=-10\n",
    "while i<0:\n",
    "    print(i,end=' ')\n",
    "    i=i+1"
   ]
  },
  {
   "cell_type": "code",
   "execution_count": null,
   "id": "8202dde7-7cd0-495b-b44f-ccb93cd9b3ea",
   "metadata": {},
   "outputs": [],
   "source": [
    "i=10\n",
    "while i>=1:\n",
    "    print(i)\n",
    "    i=i-1\n",
    "\n",
    "i=10\n",
    "while true:\n",
    "    print(i)\n",
    "    i=i-1\n",
    "    if i==0\n",
    "    break"
   ]
  },
  {
   "cell_type": "code",
   "execution_count": null,
   "id": "45841ac4-1faa-44e2-ad72-11b3ca9662b8",
   "metadata": {},
   "outputs": [],
   "source": []
  },
  {
   "cell_type": "code",
   "execution_count": null,
   "id": "751475f2-714f-4317-b438-a5ee1d75ca5c",
   "metadata": {},
   "outputs": [],
   "source": []
  }
 ],
 "metadata": {
  "kernelspec": {
   "display_name": "Python 3 (ipykernel)",
   "language": "python",
   "name": "python3"
  },
  "language_info": {
   "codemirror_mode": {
    "name": "ipython",
    "version": 3
   },
   "file_extension": ".py",
   "mimetype": "text/x-python",
   "name": "python",
   "nbconvert_exporter": "python",
   "pygments_lexer": "ipython3",
   "version": "3.12.7"
  }
 },
 "nbformat": 4,
 "nbformat_minor": 5
}
