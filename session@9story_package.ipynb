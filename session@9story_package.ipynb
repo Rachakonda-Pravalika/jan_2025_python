{
 "cells": [
  {
   "cell_type": "code",
   "execution_count": 2,
   "id": "25e4f793-1496-4853-9d7c-2642cc2e74bb",
   "metadata": {},
   "outputs": [
    {
     "name": "stdout",
     "output_type": "stream",
     "text": [
      "son: hi papa\n",
      "fa: hi beta\n",
      "son: im going to school\n",
      "fa: ok beta, i heard ur results came out\n",
      "son: yes papa\n",
      "fa: so how much have you scored\n",
      "son: do you want to play a guessing game\n",
      "fa: sure!\n",
      "80 93 88 90 87 93\n",
      "88.5\n",
      "89\n"
     ]
    }
   ],
   "source": [
    "import random\n",
    "import math \n",
    "import time\n",
    "print(\"son: hi papa\")\n",
    "time.sleep(2)\n",
    "print(\"fa: hi beta\")\n",
    "time.sleep(2)\n",
    "print(\"son: im going to school\")\n",
    "time.sleep(2)\n",
    "print(\"fa: ok beta, i heard ur results came out\")\n",
    "time.sleep(2)\n",
    "print(\"son: yes papa\")\n",
    "time.sleep(2)\n",
    "print(\"fa: so how much have you scored\")\n",
    "time.sleep(2)\n",
    "print(\"son: do you want to play a guessing game\")\n",
    "time.sleep(2)\n",
    "print(\"fa: sure!\")\n",
    "t = random.randint(80,90)\n",
    "h = random.randint(85,95)\n",
    "en = random.randint(80,90)\n",
    "m = random.randint(90,100)\n",
    "sci = random.randint(85,92)\n",
    "soc = random.randint(87,93)\n",
    "avg = (t+h+en+m+sci+soc)/6\n",
    "time.sleep(2)\n",
    "print(t, h, en, m, sci, soc)\n",
    "print(avg)\n",
    "print(math.ceil(avg))"
   ]
  },
  {
   "cell_type": "code",
   "execution_count": null,
   "id": "1c977ab5-0bda-4664-9bc2-78b60cf5b254",
   "metadata": {},
   "outputs": [],
   "source": []
  }
 ],
 "metadata": {
  "kernelspec": {
   "display_name": "Python 3 (ipykernel)",
   "language": "python",
   "name": "python3"
  },
  "language_info": {
   "codemirror_mode": {
    "name": "ipython",
    "version": 3
   },
   "file_extension": ".py",
   "mimetype": "text/x-python",
   "name": "python",
   "nbconvert_exporter": "python",
   "pygments_lexer": "ipython3",
   "version": "3.12.7"
  }
 },
 "nbformat": 4,
 "nbformat_minor": 5
}
