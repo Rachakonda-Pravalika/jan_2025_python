{
 "cells": [
  {
   "cell_type": "markdown",
   "id": "6b1fe406-e22f-4a18-a458-22bf8dbe7e8a",
   "metadata": {},
   "source": [
    "## conditional statements \n",
    "\n",
    "- conditional statements are used to execute the code base on some condition\n",
    "\n",
    "- assume a statement\n",
    "\n",
    "     - if rain comes i will stay at hostel\n",
    "\n",
    "     - if rain comes i will stay at hostel otherwise i will go to play cricket\n",
    "\n",
    "     - if rain comes i will stay at hostel otherwise i will go to ground but if omkar sir call i will go to NareshIT\n",
    "\n",
    "- if rain comes i will stay at hostel else i will go to play cricket\n",
    "\n",
    "- **if**\n",
    "\n",
    "- **if-else**\n",
    "\n",
    "- **if-elif-else**"
   ]
  },
  {
   "cell_type": "markdown",
   "id": "830b70b3-8ae0-47e8-9e46-ca029b40c49e",
   "metadata": {},
   "source": [
    "# in english instead of otherwise we have to use else\n",
    "\n",
    "#### case-1:if"
   ]
  },
  {
   "cell_type": "code",
   "execution_count": null,
   "id": "362c7f14-7ca2-44e3-80cd-2ebc5acfc737",
   "metadata": {},
   "outputs": [],
   "source": [
    "if <condition>:\n",
    "    # write your code here \n",
    "\n",
    "# whenever the condition is true\n",
    "# then python will go inside the if area then the lines will be execute"
   ]
  },
  {
   "cell_type": "code",
   "execution_count": 2,
   "id": "d6445ac7-5030-4c03-b7dd-3bada03ac827",
   "metadata": {},
   "outputs": [
    {
     "name": "stdout",
     "output_type": "stream",
     "text": [
      "False\n",
      "True\n",
      "False\n",
      "False\n",
      "True\n",
      "True\n"
     ]
    }
   ],
   "source": [
    "num=10 # assignment 10 is a value stored in a variable name\n",
    "print(num==100)# F # conditon check num value equla t 10\n",
    "print(num==10) # T\n",
    "print(num>10) # F\n",
    "print(num<10) # F\n",
    "print(num>=10) # T\n",
    "print(num<=10) # T\n"
   ]
  },
  {
   "cell_type": "code",
   "execution_count": 3,
   "id": "0a6428e1-106c-4c79-9c1d-0fd5cffc5edd",
   "metadata": {},
   "outputs": [
    {
     "name": "stdout",
     "output_type": "stream",
     "text": [
      "hello\n"
     ]
    }
   ],
   "source": [
    "if 100>10:\n",
    "    print('hello')\n",
    "\n",
    "# step-1: 100>10 True\n",
    "# step-2: hello"
   ]
  },
  {
   "cell_type": "markdown",
   "id": "776aa7f4-464b-4603-aedd-af1583b52480",
   "metadata": {},
   "source": [
    "**mistake-1**\n",
    "\n",
    "**indentation error**\n",
    "\n",
    "- whenever a line starts with keyword at ladt : will be there\n",
    "\n",
    "- whenever : there the we have indentation"
   ]
  },
  {
   "cell_type": "code",
   "execution_count": 7,
   "id": "39664ca2-224f-422a-9c7a-4f88e36f3de9",
   "metadata": {},
   "outputs": [
    {
     "name": "stdout",
     "output_type": "stream",
     "text": [
      "hello\n"
     ]
    }
   ],
   "source": [
    "if 100>10:\n",
    "    print(\"hello\")"
   ]
  },
  {
   "cell_type": "markdown",
   "id": "2447c685-584d-4880-a129-618edbaa7736",
   "metadata": {},
   "source": [
    "**mistake-2**"
   ]
  },
  {
   "cell_type": "code",
   "execution_count": 1,
   "id": "0acc1c56-4ecd-43c0-b165-efb35cf3519d",
   "metadata": {},
   "outputs": [
    {
     "ename": "SyntaxError",
     "evalue": "expected ':' (4173596931.py, line 1)",
     "output_type": "error",
     "traceback": [
      "\u001b[1;36m  Cell \u001b[1;32mIn[1], line 1\u001b[1;36m\u001b[0m\n\u001b[1;33m    if 100>10\u001b[0m\n\u001b[1;37m             ^\u001b[0m\n\u001b[1;31mSyntaxError\u001b[0m\u001b[1;31m:\u001b[0m expected ':'\n"
     ]
    }
   ],
   "source": [
    "if 100>10\n",
    "    print(\"hello\")"
   ]
  },
  {
   "cell_type": "code",
   "execution_count": 10,
   "id": "3d256cce-5252-4484-bb02-dd835801f658",
   "metadata": {},
   "outputs": [],
   "source": [
    "if 100<10:\n",
    "    print('hello')\n",
    "\n",
    "# step-1: 100<10  False"
   ]
  },
  {
   "cell_type": "code",
   "execution_count": 11,
   "id": "50152270-e0be-4bfc-8d46-70deff91c623",
   "metadata": {},
   "outputs": [
    {
     "data": {
      "text/plain": [
       "True"
      ]
     },
     "execution_count": 11,
     "metadata": {},
     "output_type": "execute_result"
    }
   ],
   "source": [
    "100>10"
   ]
  },
  {
   "cell_type": "code",
   "execution_count": 12,
   "id": "4c5094fe-ce77-4082-be1b-3228ffeeef5f",
   "metadata": {},
   "outputs": [
    {
     "name": "stdout",
     "output_type": "stream",
     "text": [
      "hello\n"
     ]
    }
   ],
   "source": [
    "if True:\n",
    "    print('hello')"
   ]
  },
  {
   "cell_type": "code",
   "execution_count": 13,
   "id": "5772c41b-8210-4500-aab7-5e999a8a1263",
   "metadata": {},
   "outputs": [],
   "source": [
    "if False: \n",
    "    print('hello')"
   ]
  },
  {
   "cell_type": "code",
   "execution_count": 14,
   "id": "a1fc192d-ac7d-4c94-855e-f755d1234567",
   "metadata": {},
   "outputs": [
    {
     "data": {
      "text/plain": [
       "True"
      ]
     },
     "execution_count": 14,
     "metadata": {},
     "output_type": "execute_result"
    }
   ],
   "source": [
    "bool(100)"
   ]
  },
  {
   "cell_type": "code",
   "execution_count": 17,
   "id": "2240fd58-04ac-4e8e-90d9-3ac4f0caed99",
   "metadata": {},
   "outputs": [
    {
     "name": "stdout",
     "output_type": "stream",
     "text": [
      "hello\n",
      "hello\n",
      "hello\n"
     ]
    }
   ],
   "source": [
    "if 100>10:\n",
    "    print('hello')\n",
    "\n",
    "if True:\n",
    "    print('hello')\n",
    "\n",
    "if bool(100):\n",
    "    print('hello')"
   ]
  },
  {
   "cell_type": "code",
   "execution_count": 1,
   "id": "4ebbf123-b979-43b8-a7dd-49d77e34816c",
   "metadata": {},
   "outputs": [
    {
     "name": "stdout",
     "output_type": "stream",
     "text": [
      "hello\n",
      "hai\n",
      "im with condition bye\n",
      "im with out condition bye\n"
     ]
    }
   ],
   "source": [
    "if 100>10:\n",
    "    print('hello')\n",
    "    print('hai')\n",
    "    print('im with condition bye')\n",
    "###################################    \n",
    "print('im with out condition bye')"
   ]
  },
  {
   "cell_type": "code",
   "execution_count": null,
   "id": "bc2a78fc-1d67-44a0-9781-649be0eceb30",
   "metadata": {},
   "outputs": [],
   "source": [
    "if <con> :\n",
    "    <write our code here>"
   ]
  },
  {
   "cell_type": "markdown",
   "id": "8c63845f-8060-417e-98ff-4aeda1e8fc04",
   "metadata": {},
   "source": [
    "### case-2: if-else"
   ]
  },
  {
   "cell_type": "markdown",
   "id": "d965485d-d59f-4ef3-a0ca-31bc9db468f8",
   "metadata": {},
   "source": [
    "- if conditin is true the if statements will execute\n",
    "\n",
    "- if condition is false the else statements will execute\n",
    "\n",
    "- one condition two outputs \n",
    "\n",
    "- if needs condition but not else"
   ]
  },
  {
   "cell_type": "code",
   "execution_count": 1,
   "id": "677ce81b-4193-4ba8-b863-50c872061d46",
   "metadata": {},
   "outputs": [
    {
     "ename": "SyntaxError",
     "evalue": "invalid syntax (1836954807.py, line 2)",
     "output_type": "error",
     "traceback": [
      "\u001b[1;36m  Cell \u001b[1;32mIn[1], line 2\u001b[1;36m\u001b[0m\n\u001b[1;33m    if <condition>:\u001b[0m\n\u001b[1;37m       ^\u001b[0m\n\u001b[1;31mSyntaxError\u001b[0m\u001b[1;31m:\u001b[0m invalid syntax\n"
     ]
    }
   ],
   "source": [
    "# syntax\n",
    "if <condition>:\n",
    "    <write your code here>\n",
    "else:\n",
    "    <write your code here>"
   ]
  },
  {
   "cell_type": "code",
   "execution_count": 4,
   "id": "9d7e6194-2c17-4257-8686-55255ab0f3a0",
   "metadata": {},
   "outputs": [
    {
     "name": "stdout",
     "output_type": "stream",
     "text": [
      "hello\n"
     ]
    }
   ],
   "source": [
    "print(\"hello\")"
   ]
  },
  {
   "cell_type": "code",
   "execution_count": 2,
   "id": "6b99dc48-a150-4c5c-b773-47f173d4c95b",
   "metadata": {},
   "outputs": [
    {
     "name": "stdout",
     "output_type": "stream",
     "text": [
      "hello\n"
     ]
    }
   ],
   "source": [
    "friend='yes'\n",
    "if friend=='yes': # if 'yes'=='yes'\n",
    "    print('hello')"
   ]
  },
  {
   "cell_type": "code",
   "execution_count": 5,
   "id": "4c4de640-b85e-473e-b509-a204c70eb5ac",
   "metadata": {},
   "outputs": [
    {
     "name": "stdout",
     "output_type": "stream",
     "text": [
      "30\n"
     ]
    }
   ],
   "source": [
    "a=10\n",
    "b=20\n",
    "c=a+b\n",
    "print(c)"
   ]
  },
  {
   "cell_type": "code",
   "execution_count": 6,
   "id": "c59ef209-9f2d-4f6b-86e7-ad0f5fe027ad",
   "metadata": {},
   "outputs": [
    {
     "name": "stdout",
     "output_type": "stream",
     "text": [
      "positive number\n"
     ]
    }
   ],
   "source": [
    "if 100>0:\n",
    "    print('positive number')\n",
    "else:\n",
    "    print('negative number')"
   ]
  },
  {
   "cell_type": "code",
   "execution_count": 7,
   "id": "4bdd9312-a826-477e-b740-5984e368a8d4",
   "metadata": {},
   "outputs": [
    {
     "name": "stdout",
     "output_type": "stream",
     "text": [
      "positive number\n"
     ]
    }
   ],
   "source": [
    "n = 20\n",
    "if n>0:\n",
    "    print('positive number')\n",
    "else:\n",
    "    print('negative number')"
   ]
  },
  {
   "cell_type": "code",
   "execution_count": 9,
   "id": "36d6e458-00b6-4f09-a79f-b118c5b53129",
   "metadata": {},
   "outputs": [
    {
     "name": "stdin",
     "output_type": "stream",
     "text": [
      "enter the number: 20\n"
     ]
    },
    {
     "name": "stdout",
     "output_type": "stream",
     "text": [
      "positive number\n"
     ]
    }
   ],
   "source": [
    "n=eval(input('enter the number:'))\n",
    "if n>0:\n",
    "    print('positive number')\n",
    "else:\n",
    "    print('negative number')"
   ]
  },
  {
   "cell_type": "code",
   "execution_count": 14,
   "id": "ccaff9db-e094-41e4-a452-799eb65a0a76",
   "metadata": {},
   "outputs": [
    {
     "name": "stdout",
     "output_type": "stream",
     "text": [
      "75\n",
      "75 is a positive number\n"
     ]
    }
   ],
   "source": [
    "import random\n",
    "n=random.randint(-100,100)\n",
    "print(n)\n",
    "if n>0:\n",
    "    print(f'{n} is a positive number')\n",
    "else:\n",
    "    print(f'{n}is a negative number')"
   ]
  },
  {
   "cell_type": "code",
   "execution_count": null,
   "id": "c1de80c2-c6c5-48c4-b77d-d3df87a1fd4e",
   "metadata": {},
   "outputs": [],
   "source": [
    "if 100>0:\n",
    "print('postive number')\n",
    "else:\n",
    "print('negtaive numbers')\n",
    "##########################################\n",
    "n=100\n",
    "if n>0:\n",
    "print('postive number')\n",
    "else:\n",
    "print('negtaive numbers')\n",
    "#################################################\n",
    "n=eval(input('enter the number:'))\n",
    "if n>0:\n",
    "print('postive number')\n",
    "else:\n",
    "print('negtaive numbers')\n",
    "#####################################################\n",
    "import random\n",
    "n=random.randint(-100,100)\n",
    "if n>0:\n",
    "print(f'{n} is a postive number')\n",
    "else:\n",
    "print(f'{n} is a negtaive number')"
   ]
  },
  {
   "cell_type": "code",
   "execution_count": 16,
   "id": "a3e358b9-c570-47b4-b150-5e7a214c6cb5",
   "metadata": {},
   "outputs": [
    {
     "name": "stdout",
     "output_type": "stream",
     "text": [
      "hello\n",
      "positive number\n",
      "condition is false\n"
     ]
    }
   ],
   "source": [
    "print('hello')\n",
    "if 100>0:\n",
    "    print('positive number')\n",
    "    print('condition is false')\n",
    "else:\n",
    "    print('negative number')\n",
    "    print('condition is false')"
   ]
  },
  {
   "cell_type": "code",
   "execution_count": 17,
   "id": "3d23652b-bc9f-49f1-b245-c31931d42132",
   "metadata": {},
   "outputs": [
    {
     "ename": "SyntaxError",
     "evalue": "invalid syntax (3650903988.py, line 6)",
     "output_type": "error",
     "traceback": [
      "\u001b[1;36m  Cell \u001b[1;32mIn[17], line 6\u001b[1;36m\u001b[0m\n\u001b[1;33m    else:\u001b[0m\n\u001b[1;37m    ^\u001b[0m\n\u001b[1;31mSyntaxError\u001b[0m\u001b[1;31m:\u001b[0m invalid syntax\n"
     ]
    }
   ],
   "source": [
    "print('hello')\n",
    "if 100>0:\n",
    "    print('positive number')\n",
    "    print('condition is false')\n",
    "print('why are you in middle')    \n",
    "else:\n",
    "    print('negative number')\n",
    "    print('condition is false')\n",
    "print('bye')\n",
    "\n",
    "# if else shoukd come together\n"
   ]
  },
  {
   "cell_type": "code",
   "execution_count": 20,
   "id": "d0a7ba37-c791-44a8-a899-3a7aace0cfe3",
   "metadata": {},
   "outputs": [
    {
     "ename": "SyntaxError",
     "evalue": "invalid syntax (1919999056.py, line 3)",
     "output_type": "error",
     "traceback": [
      "\u001b[1;36m  Cell \u001b[1;32mIn[20], line 3\u001b[1;36m\u001b[0m\n\u001b[1;33m    print(\" this is positive\")print(\" this is middle\")\u001b[0m\n\u001b[1;37m                              ^\u001b[0m\n\u001b[1;31mSyntaxError\u001b[0m\u001b[1;31m:\u001b[0m invalid syntax\n"
     ]
    }
   ],
   "source": [
    "print('hello')\n",
    "if (100>0):\n",
    "    print(\" this is positive\")print(\" this is middle\")    \n",
    "else:\n",
    "    print(\" this is negative\")\n"
   ]
  },
  {
   "cell_type": "code",
   "execution_count": 24,
   "id": "11005a49-8f87-4502-ad1b-b4403b1035b3",
   "metadata": {},
   "outputs": [
    {
     "name": "stdin",
     "output_type": "stream",
     "text": [
      " 20\n",
      " 30\n"
     ]
    },
    {
     "name": "stdout",
     "output_type": "stream",
     "text": [
      "30 is greater\n"
     ]
    }
   ],
   "source": [
    "#Q1) wap ask the user enter two numbers\n",
    "# find the greast number\n",
    "\n",
    "a = eval(input('ente n1:'))\n",
    "b = eval(input())\n",
    "if(a>b):\n",
    "    print(a,\"is greater\")\n",
    "else :\n",
    "    print(b,\"is greater\")\n"
   ]
  },
  {
   "cell_type": "code",
   "execution_count": 25,
   "id": "279e017f-6cfe-4da5-b15e-b41906b6d4a6",
   "metadata": {},
   "outputs": [
    {
     "name": "stdout",
     "output_type": "stream",
     "text": [
      "n1:27 is greater number\n"
     ]
    }
   ],
   "source": [
    "#Q1) wap ask the user enter two numbers\n",
    "# find the greatest number\n",
    "\n",
    "import random\n",
    "n1=random.randint(1,100)\n",
    "n2=random.randint(1,100)\n",
    "if n1>n2:\n",
    "    print(f\"n1:{n1} is greater number\")\n",
    "else:\n",
    "    print(f\"n2:{n2} is greater number\")\n"
   ]
  },
  {
   "cell_type": "code",
   "execution_count": 5,
   "id": "391d9e55-5df3-42ba-a845-e06dbde3febf",
   "metadata": {},
   "outputs": [
    {
     "name": "stdin",
     "output_type": "stream",
     "text": [
      "enetr the distance in km: 30\n",
      "enter the charge per km: 5\n"
     ]
    },
    {
     "name": "stdout",
     "output_type": "stream",
     "text": [
      "total charge is:150 INR\n"
     ]
    }
   ],
   "source": [
    "#Q2) wap ask the user enter the distance\n",
    "# if distance greater than 25km\n",
    "# then ask the charge per km\n",
    "# then calculate total charge\n",
    "# otherwise print free ride \n",
    "\n",
    "dis = eval(input('enetr the distance in km:'))\n",
    "if(dis>25):\n",
    "    charge=eval(input('enter the charge per km:'))\n",
    "    total=charge*dis\n",
    "    print(f\"total charge is:{total} INR\")\n",
    "else:\n",
    "    print(\"free ride\")\n"
   ]
  },
  {
   "cell_type": "code",
   "execution_count": 6,
   "id": "650a1002-0fd3-457f-8445-145747cbe750",
   "metadata": {},
   "outputs": [
    {
     "name": "stdin",
     "output_type": "stream",
     "text": [
      "enter the distance 50\n",
      "enter the km 40\n",
      "enter the charge 15\n"
     ]
    }
   ],
   "source": [
    "#Q3) #Q2) wap ask the user enter the distance\n",
    "# enter the free_distance (assume that 25km)\n",
    "# if distance greater than 25km\n",
    "   # then ask the charge per km: 10rs\n",
    "   # distance_covered=distance-freee_distance : 50-25=25km\n",
    "   # then calculate total charge\n",
    "#otherwise print free ride \n",
    "\n",
    "travel_distance = eval(input('enter the distance'))\n",
    "free_distance = eval(input('enter the km'))\n",
    "if(travel_distance>free_distance):\n",
    "    charge = eval(input('enter the charge'))\n",
    "    actual_distance = travel_distance-free_distance\n",
    "else:\n",
    "    print(\"free ride\")\n",
    "    "
   ]
  },
  {
   "cell_type": "code",
   "execution_count": 38,
   "id": "91941816-a0a8-413f-b297-25ebfd859ca0",
   "metadata": {},
   "outputs": [
    {
     "name": "stdin",
     "output_type": "stream",
     "text": [
      "enter the number between 20 to 30 5\n"
     ]
    },
    {
     "name": "stdout",
     "output_type": "stream",
     "text": [
      "double lucky lost\n"
     ]
    }
   ],
   "source": [
    "#Q4) \n",
    "# wap ask the user enter a number from keyboard n1\n",
    "# ask the user get a random number between 1,10  n2\n",
    "# if n1 equal to n2 print you won\n",
    "# otherwise print you lost\n",
    "\n",
    "import random\n",
    "n1 = eval(input('enter the number between 20 to 30'))\n",
    "n2 = random.randint(20,30)\n",
    "if(n1==n2):\n",
    "    print('lucky won')\n",
    "else:\n",
    "    print('double lucky lost')"
   ]
  },
  {
   "cell_type": "code",
   "execution_count": 3,
   "id": "1f00a2ee-1585-46a9-95ff-3d681264a15f",
   "metadata": {},
   "outputs": [
    {
     "name": "stdin",
     "output_type": "stream",
     "text": [
      "enter the course name: data_science\n",
      "enter the institute name: naresh_it\n"
     ]
    },
    {
     "name": "stdout",
     "output_type": "stream",
     "text": [
      "you are at safe place\n"
     ]
    }
   ],
   "source": [
    "#Q5) \n",
    "# course name = data science\n",
    "# institute name = Nraesh it\n",
    "\n",
    "# Ask the user enter course_name\n",
    "#         user enter inst_name\n",
    "# if course_name equal to data_science and inst_name naresh-it\n",
    "# then print you are at safe place\n",
    "# otherwise\n",
    "# print katam zindagi\n",
    "\n",
    "course = (input(\"enter the course name:\"))\n",
    "institute = (input(\"enter the institute name:\"))\n",
    "if(course=='data_science' and institute=='naresh_it'):\n",
    "   print('you are at safe place')\n",
    "else:\n",
    "    print('katam zindagi')"
   ]
  },
  {
   "cell_type": "code",
   "execution_count": 1,
   "id": "d1e242a1-d6f6-4de5-9dae-10b2b02d2480",
   "metadata": {},
   "outputs": [
    {
     "name": "stdin",
     "output_type": "stream",
     "text": [
      "enter the number: 19\n"
     ]
    },
    {
     "name": "stdout",
     "output_type": "stream",
     "text": [
      "19 is an odd\n"
     ]
    }
   ],
   "source": [
    "# Q6) even-odd\n",
    "# ask the user enter a number\n",
    "# print if it is even number or odd number\n",
    "# idea: if any number divide by 2 then it gives\n",
    "# the reminder equal to zero then it is even number\n",
    "\n",
    "num=eval(input('enter the number:'))\n",
    "if num%2==0:\n",
    "    print(f\"{num} is an even\")\n",
    "else:\n",
    "    print(f\"{num} is an odd\")"
   ]
  },
  {
   "cell_type": "markdown",
   "id": "89605ecd-14b3-4b89-9a84-df522c517303",
   "metadata": {},
   "source": [
    "**if-elif-else**\n",
    "\n",
    "- whenever we have multiple conditions we will do **if-else-else**\n",
    "\n",
    "- if single condition is there we will go if-else\n",
    "\n",
    "   - two answes\n",
    "\n",
    "   - if needs condition then else does not require any condition\n",
    "\n",
    "- if two conditions are there we will go if-elif-else\n",
    "\n",
    "  - three answers\n",
    "\n",
    "  - if and elif need condition ellse does not require any condition\n",
    "\n",
    "- if three conditions are there we will go if-elif-else\n",
    "\n",
    "   - four answers\n",
    "\n",
    "   - if and elif need condition ellse does not require any condition\n",
    "   "
   ]
  },
  {
   "cell_type": "code",
   "execution_count": null,
   "id": "bdfe780a-965b-4e0c-a644-25ffe0b8ab0f",
   "metadata": {},
   "outputs": [],
   "source": [
    "if <condition>:\n",
    "    <write your code here>\n",
    "elif <condition>:\n",
    "   <write your code here>\n",
    "elif <condition>:\n",
    "    write your code here\n",
    "else:\n",
    "    <write your code here>"
   ]
  },
  {
   "cell_type": "code",
   "execution_count": 4,
   "id": "4486b0d8-9cc9-474e-b3d4-e5bfbd58c78c",
   "metadata": {},
   "outputs": [
    {
     "name": "stdin",
     "output_type": "stream",
     "text": [
      "enter a number: 1\n"
     ]
    },
    {
     "name": "stdout",
     "output_type": "stream",
     "text": [
      "one\n"
     ]
    }
   ],
   "source": [
    "#Q1) wap ask the user enter a number\n",
    "   \n",
    "\n",
    "num = eval(input('enter a number:'))\n",
    "if num==1:\n",
    "    print('one')\n",
    "elif num==2:\n",
    "    print('two')\n",
    "elif num==3:\n",
    "    print('two')\n",
    "else:\n",
    "    print('enter a valid number')"
   ]
  },
  {
   "cell_type": "code",
   "execution_count": 18,
   "id": "64af8b40-a255-491d-ba35-95b2e684a5a4",
   "metadata": {},
   "outputs": [
    {
     "name": "stdin",
     "output_type": "stream",
     "text": [
      "enter the percentage of marks 70\n"
     ]
    },
    {
     "name": "stdout",
     "output_type": "stream",
     "text": [
      "A grade\n"
     ]
    }
   ],
   "source": [
    "#Q2)\n",
    "\n",
    "\n",
    "\n",
    "per = eval(input('enter the percentage of marks'))\n",
    "if marks==90:\n",
    "     print('A grade')\n",
    "elif marks==(70,90):\n",
    "     print('B grade')\n",
    "elif marks==(50,70):\n",
    "     print('C grade')\n",
    "elif marks==(35,50):\n",
    "     print('D grade')\n",
    "else:\n",
    "     print('fail')           "
   ]
  },
  {
   "cell_type": "code",
   "execution_count": 22,
   "id": "c1fb048d-a256-4d8f-9e07-1d4fd900f823",
   "metadata": {},
   "outputs": [
    {
     "name": "stdin",
     "output_type": "stream",
     "text": [
      "enter the percentage of marks 99\n"
     ]
    },
    {
     "name": "stdout",
     "output_type": "stream",
     "text": [
      "A grade\n"
     ]
    }
   ],
   "source": [
    "per = eval(input('enter the percentage of marks'))\n",
    "if per>=90:  # false\n",
    "     print('A grade')\n",
    "elif per>=70: # 65>=70 False\n",
    "     print('B grade')\n",
    "elif per>=50: # 65>=50 True\n",
    "     print('C grade')\n",
    "elif per>=35: # 65>=35 True\n",
    "     print('D grade')\n",
    "else:\n",
    "     print('fail')"
   ]
  },
  {
   "cell_type": "code",
   "execution_count": null,
   "id": "9ebaf277-528b-4833-acba-ffdd74a17292",
   "metadata": {},
   "outputs": [],
   "source": [
    "if -elif\n",
    "\n",
    "if fails ==== elif\n",
    "\n",
    "if-if\n",
    "if fail or pass ===== if"
   ]
  },
  {
   "cell_type": "code",
   "execution_count": 24,
   "id": "61aa63eb-5b09-45b7-be46-a91496a1533a",
   "metadata": {},
   "outputs": [
    {
     "name": "stdin",
     "output_type": "stream",
     "text": [
      "enter the age 95\n"
     ]
    },
    {
     "name": "stdout",
     "output_type": "stream",
     "text": [
      "unlucky\n",
      "old guy\n",
      "middle age\n",
      "young\n",
      "rteenage\n"
     ]
    }
   ],
   "source": [
    "#Q3)\n",
    "\n",
    "\n",
    "\n",
    "\n",
    "age = eval(input('enter the age'))\n",
    "if per>=90:\n",
    "    print('unlucky')\n",
    "if per>=80:\n",
    "    print('old guy')\n",
    "if per>=60:\n",
    "    print('middle age')\n",
    "if per>=40:\n",
    "    print('young')\n",
    "if per>=20:\n",
    "    print('rteenage')\n",
    "else:\n",
    "    print('kid')\n"
   ]
  },
  {
   "cell_type": "code",
   "execution_count": 38,
   "id": "52e2e11f-a734-41f7-807b-fae741843e68",
   "metadata": {},
   "outputs": [
    {
     "ename": "SyntaxError",
     "evalue": "invalid syntax. Maybe you meant '==' or ':=' instead of '='? (764252985.py, line 16)",
     "output_type": "error",
     "traceback": [
      "\u001b[1;36m  Cell \u001b[1;32mIn[38], line 16\u001b[1;36m\u001b[0m\n\u001b[1;33m    if gender = \"female:\"\u001b[0m\n\u001b[1;37m       ^\u001b[0m\n\u001b[1;31mSyntaxError\u001b[0m\u001b[1;31m:\u001b[0m invalid syntax. Maybe you meant '==' or ':=' instead of '='?\n"
     ]
    }
   ],
   "source": [
    "#Q4)\n",
    "\n",
    "\n",
    "gender = input('enter the gender')\n",
    "if gender==\" male \":\n",
    "   print('enter the age')\n",
    "if age>=60:\n",
    "   print('ss')\n",
    "if age>=30:\n",
    "   print('MA MAN')\n",
    "if age>=15:\n",
    "   print('young man')\n",
    "else:\n",
    "    print('boy')\n",
    "\n",
    "if gender = \"female:\"\n",
    " age=eval(inpu('enter the age:')\n",
    "   print('enter the age')\n",
    "elif age>=60:\n",
    "   print('ss')\n",
    "elif age>=30:\n",
    "   print('MAW')\n",
    "elif age>=15:\n",
    "   print('young girl')\n",
    "else:\n",
    "    print('girl')\n",
    "\n"
   ]
  },
  {
   "cell_type": "code",
   "execution_count": 51,
   "id": "5f70d117-68f5-4ab6-b3ee-c01105cb8987",
   "metadata": {},
   "outputs": [
    {
     "name": "stdin",
     "output_type": "stream",
     "text": [
      "enter the number: 4\n"
     ]
    },
    {
     "name": "stdout",
     "output_type": "stream",
     "text": [
      "positive\n"
     ]
    }
   ],
   "source": [
    "#Q5)\n",
    "\n",
    "\n",
    "num = eval(input('enter the number:'))\n",
    "if num>=0:\n",
    "    if num>0:\n",
    "       print('positive')\n",
    "    else:\n",
    "       print('zero')\n",
    "else:\n",
    "     print('negative')"
   ]
  },
  {
   "cell_type": "code",
   "execution_count": null,
   "id": "9dad06ea-63c0-45d9-a37d-18ab132cc1e8",
   "metadata": {},
   "outputs": [],
   "source": [
    "#Q6)\n",
    "\n",
    "num = input('enter 1 addition')\n",
    "num = input('enter 2 subtraction')\n",
    "num = input('enter 3 mul')\n",
    "num = input('enter 4 div')\n",
    "\n",
    "num = input('enter number between 1to4:')\n",
    "if "
   ]
  }
 ],
 "metadata": {
  "kernelspec": {
   "display_name": "Python 3 (ipykernel)",
   "language": "python",
   "name": "python3"
  },
  "language_info": {
   "codemirror_mode": {
    "name": "ipython",
    "version": 3
   },
   "file_extension": ".py",
   "mimetype": "text/x-python",
   "name": "python",
   "nbconvert_exporter": "python",
   "pygments_lexer": "ipython3",
   "version": "3.12.7"
  }
 },
 "nbformat": 4,
 "nbformat_minor": 5
}
