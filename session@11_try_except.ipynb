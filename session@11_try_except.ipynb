{
 "cells": [
  {
   "cell_type": "markdown",
   "id": "284871ff-59c8-4e87-9c29-c23f4ed753ad",
   "metadata": {},
   "source": [
    "- variables\n",
    "\n",
    "- eval input\n",
    "\n",
    "- basic python questions\n",
    "\n",
    "- packages\n",
    "\n",
    "- if-else\n",
    "\n",
    "- try-except"
   ]
  },
  {
   "cell_type": "markdown",
   "id": "0449fcde-654b-4d6a-9e63-2c226664ed8f",
   "metadata": {},
   "source": [
    "#### try-except\n",
    "\n",
    "   - try and except is a concept of exception handling\n",
    "\n",
    "   - there are two blocks\n",
    "\n",
    "        - 1.try block\n",
    "    \n",
    "        - 2.except block\n",
    "    \n",
    "   - original code will run under try block\n",
    "\n",
    "   - if any error occures in try block,the error will catch by except block\n",
    "\n",
    "   - usecase-1:The code should catch the errors automatically\n",
    "\n",
    "   - usecase-2:The code should continue eventhough we got the error"
   ]
  },
  {
   "cell_type": "code",
   "execution_count": 1,
   "id": "a7b8c7cd-1be9-4400-ba2a-d097d9404321",
   "metadata": {},
   "outputs": [
    {
     "ename": "ZeroDivisionError",
     "evalue": "division by zero",
     "output_type": "error",
     "traceback": [
      "\u001b[1;31m---------------------------------------------------------------------------\u001b[0m",
      "\u001b[1;31mZeroDivisionError\u001b[0m                         Traceback (most recent call last)",
      "Cell \u001b[1;32mIn[1], line 3\u001b[0m\n\u001b[0;32m      1\u001b[0m a\u001b[38;5;241m=\u001b[39m\u001b[38;5;241m10\u001b[39m\n\u001b[0;32m      2\u001b[0m b\u001b[38;5;241m=\u001b[39m\u001b[38;5;241m0\u001b[39m\n\u001b[1;32m----> 3\u001b[0m c\u001b[38;5;241m=\u001b[39ma\u001b[38;5;241m/\u001b[39mb  \u001b[38;5;66;03m# this is not a important line\u001b[39;00m\n\u001b[0;32m      4\u001b[0m        \u001b[38;5;66;03m# even though we are getting error nothing will happend \u001b[39;00m\n\u001b[0;32m      5\u001b[0m        \u001b[38;5;66;03m# my python code should not stop here\u001b[39;00m\n\u001b[0;32m      6\u001b[0m        \u001b[38;5;66;03m# i want to create a log in that i want catch \u001b[39;00m\n\u001b[0;32m      7\u001b[0m \u001b[38;5;28mprint\u001b[39m(\u001b[38;5;124m'\u001b[39m\u001b[38;5;124mhello\u001b[39m\u001b[38;5;124m'\u001b[39m)\n",
      "\u001b[1;31mZeroDivisionError\u001b[0m: division by zero"
     ]
    }
   ],
   "source": [
    "a=10\n",
    "b=0\n",
    "c=a/b  # this is not a important line\n",
    "       # even though we are getting error nothing will happend \n",
    "       # my python code should not stop here\n",
    "       # i want to create a log in that i want catch \n",
    "print('hello')"
   ]
  },
  {
   "cell_type": "code",
   "execution_count": 2,
   "id": "bf3f93c5-bbf2-4ebb-ab99-cceca2649ff9",
   "metadata": {},
   "outputs": [
    {
     "name": "stdout",
     "output_type": "stream",
     "text": [
      "error coming in try block\n",
      "zero division error\n"
     ]
    }
   ],
   "source": [
    "try:\n",
    "    a=10\n",
    "    b=0\n",
    "    c=a/b # we will get error\n",
    "except:\n",
    "    print('error coming in try block')\n",
    "    print('zero division error')"
   ]
  },
  {
   "cell_type": "code",
   "execution_count": 3,
   "id": "a6e5e0a0-eae9-4731-bb6e-2ee984d96ff6",
   "metadata": {},
   "outputs": [
    {
     "name": "stdout",
     "output_type": "stream",
     "text": [
      "1.0\n"
     ]
    }
   ],
   "source": [
    "try:\n",
    "    a=10\n",
    "    b=10\n",
    "    c=a/b # we will get error\n",
    "    print(c)\n",
    "except:\n",
    "    print('error coming in try block')\n",
    "    print('zero division error')"
   ]
  },
  {
   "cell_type": "markdown",
   "id": "1eb68826-ce09-4b41-a61b-9d2fea751d8d",
   "metadata": {},
   "source": [
    "#### Note:\n",
    "\n",
    "- except block will run when we got then error in try block\n",
    "\n",
    "- if code is correct only try block executed\n",
    "\n",
    "\n",
    "- syntax error\n",
    "\n",
    "- attribute error\n",
    "\n",
    "- name error\n",
    "\n",
    "- type error\n",
    "\n",
    "- indentation error\n",
    "\n",
    "- module not found error\n",
    "\n",
    "- zero division error\n",
    "\n",
    "- object not callable error"
   ]
  },
  {
   "cell_type": "code",
   "execution_count": 5,
   "id": "9bdc64b5-7f49-4a3f-b4a7-03e350fe77ca",
   "metadata": {},
   "outputs": [
    {
     "ename": "SyntaxError",
     "evalue": "incomplete input (1116166254.py, line 4)",
     "output_type": "error",
     "traceback": [
      "\u001b[1;36m  Cell \u001b[1;32mIn[5], line 4\u001b[1;36m\u001b[0m\n\u001b[1;33m    print(c\u001b[0m\n\u001b[1;37m           ^\u001b[0m\n\u001b[1;31mSyntaxError\u001b[0m\u001b[1;31m:\u001b[0m incomplete input\n"
     ]
    }
   ],
   "source": [
    "a=10\n",
    "b=20\n",
    "c=a+b\n",
    "print(c"
   ]
  },
  {
   "cell_type": "markdown",
   "id": "7c4e6af3-6d3a-4ee6-88f1-63034571e2b6",
   "metadata": {},
   "source": [
    "- syntax error will not catch\n",
    "\n",
    "- minimum expectation every one should write a code with out syntax erroe"
   ]
  },
  {
   "cell_type": "code",
   "execution_count": 6,
   "id": "d8bc378f-c9d6-447a-a8a5-cb62af57790a",
   "metadata": {},
   "outputs": [
    {
     "ename": "ModuleNotFoundError",
     "evalue": "No module named 'nareshit'",
     "output_type": "error",
     "traceback": [
      "\u001b[1;31m---------------------------------------------------------------------------\u001b[0m",
      "\u001b[1;31mModuleNotFoundError\u001b[0m                       Traceback (most recent call last)",
      "Cell \u001b[1;32mIn[6], line 1\u001b[0m\n\u001b[1;32m----> 1\u001b[0m \u001b[38;5;28;01mimport\u001b[39;00m \u001b[38;5;21;01mnareshit\u001b[39;00m\n",
      "\u001b[1;31mModuleNotFoundError\u001b[0m: No module named 'nareshit'"
     ]
    }
   ],
   "source": [
    "import nareshit"
   ]
  },
  {
   "cell_type": "code",
   "execution_count": 7,
   "id": "5f464d2c-ce26-46ef-a1e0-65fe0f12bfd7",
   "metadata": {},
   "outputs": [
    {
     "ename": "AttributeError",
     "evalue": "module 'random' has no attribute 'pushpa'",
     "output_type": "error",
     "traceback": [
      "\u001b[1;31m---------------------------------------------------------------------------\u001b[0m",
      "\u001b[1;31mAttributeError\u001b[0m                            Traceback (most recent call last)",
      "Cell \u001b[1;32mIn[7], line 2\u001b[0m\n\u001b[0;32m      1\u001b[0m \u001b[38;5;28;01mimport\u001b[39;00m \u001b[38;5;21;01mrandom\u001b[39;00m\n\u001b[1;32m----> 2\u001b[0m random\u001b[38;5;241m.\u001b[39mpushpa\n",
      "\u001b[1;31mAttributeError\u001b[0m: module 'random' has no attribute 'pushpa'"
     ]
    }
   ],
   "source": [
    "import random\n",
    "random.pushpa"
   ]
  },
  {
   "cell_type": "code",
   "execution_count": 8,
   "id": "9189850c-6c50-4c87-9ed7-369e99212891",
   "metadata": {},
   "outputs": [
    {
     "ename": "NameError",
     "evalue": "name 'num1' is not defined",
     "output_type": "error",
     "traceback": [
      "\u001b[1;31m---------------------------------------------------------------------------\u001b[0m",
      "\u001b[1;31mNameError\u001b[0m                                 Traceback (most recent call last)",
      "Cell \u001b[1;32mIn[8], line 1\u001b[0m\n\u001b[1;32m----> 1\u001b[0m c\u001b[38;5;241m=\u001b[39mnum1\u001b[38;5;241m+\u001b[39mnum2\n",
      "\u001b[1;31mNameError\u001b[0m: name 'num1' is not defined"
     ]
    }
   ],
   "source": [
    "c=num1+num2"
   ]
  },
  {
   "cell_type": "code",
   "execution_count": 9,
   "id": "8df53ded-4b07-4614-a994-f3198aeb2274",
   "metadata": {},
   "outputs": [
    {
     "ename": "TypeError",
     "evalue": "can't multiply sequence by non-int of type 'str'",
     "output_type": "error",
     "traceback": [
      "\u001b[1;31m---------------------------------------------------------------------------\u001b[0m",
      "\u001b[1;31mTypeError\u001b[0m                                 Traceback (most recent call last)",
      "Cell \u001b[1;32mIn[9], line 1\u001b[0m\n\u001b[1;32m----> 1\u001b[0m \u001b[38;5;124m'\u001b[39m\u001b[38;5;124m10\u001b[39m\u001b[38;5;124m'\u001b[39m\u001b[38;5;241m*\u001b[39m\u001b[38;5;124m'\u001b[39m\u001b[38;5;124m10\u001b[39m\u001b[38;5;124m'\u001b[39m\n",
      "\u001b[1;31mTypeError\u001b[0m: can't multiply sequence by non-int of type 'str'"
     ]
    }
   ],
   "source": [
    "'10'*'10'"
   ]
  },
  {
   "cell_type": "code",
   "execution_count": 10,
   "id": "0dbf62a3-c1ba-4706-82fd-115c4db8c324",
   "metadata": {},
   "outputs": [
    {
     "ename": "IndentationError",
     "evalue": "expected an indented block after 'if' statement on line 1 (3173271649.py, line 2)",
     "output_type": "error",
     "traceback": [
      "\u001b[1;36m  Cell \u001b[1;32mIn[10], line 2\u001b[1;36m\u001b[0m\n\u001b[1;33m    a=10\u001b[0m\n\u001b[1;37m    ^\u001b[0m\n\u001b[1;31mIndentationError\u001b[0m\u001b[1;31m:\u001b[0m expected an indented block after 'if' statement on line 1\n"
     ]
    }
   ],
   "source": [
    "if True:\n",
    "a=10"
   ]
  },
  {
   "cell_type": "code",
   "execution_count": 11,
   "id": "8b408a92-a483-40c7-be4e-2ad4d9c4cac6",
   "metadata": {},
   "outputs": [
    {
     "ename": "TypeError",
     "evalue": "'module' object is not callable. Did you mean: 'random.random(...)'?",
     "output_type": "error",
     "traceback": [
      "\u001b[1;31m---------------------------------------------------------------------------\u001b[0m",
      "\u001b[1;31mTypeError\u001b[0m                                 Traceback (most recent call last)",
      "Cell \u001b[1;32mIn[11], line 1\u001b[0m\n\u001b[1;32m----> 1\u001b[0m random()\n",
      "\u001b[1;31mTypeError\u001b[0m: 'module' object is not callable. Did you mean: 'random.random(...)'?"
     ]
    }
   ],
   "source": [
    "random()"
   ]
  },
  {
   "cell_type": "code",
   "execution_count": 12,
   "id": "7986ff10-b237-4757-b8b4-62cd1b085285",
   "metadata": {},
   "outputs": [
    {
     "name": "stdin",
     "output_type": "stream",
     "text": [
      "enter n1: 10\n",
      "enter n2: 20\n"
     ]
    },
    {
     "name": "stdout",
     "output_type": "stream",
     "text": [
      "the div is: 0.5\n"
     ]
    }
   ],
   "source": [
    "n1=eval(input('enter n1:'))\n",
    "n2=eval(input('enter n2:'))\n",
    "div=n1/n2\n",
    "print('the div is:',div)"
   ]
  },
  {
   "cell_type": "code",
   "execution_count": 14,
   "id": "83e81dbd-71f9-42c6-8dd8-acb5bf00202e",
   "metadata": {},
   "outputs": [
    {
     "name": "stdin",
     "output_type": "stream",
     "text": [
      "enter n1: 30\n",
      "enter n2: 40\n"
     ]
    },
    {
     "name": "stdout",
     "output_type": "stream",
     "text": [
      "the div is: 0.75\n"
     ]
    }
   ],
   "source": [
    "try:\n",
    "    n1=eval(input('enter n1:'))\n",
    "    n2=eval(input('enter n2:'))\n",
    "    div=n1/n2\n",
    "    print('the div is:',div)\n",
    "except Exception as e:\n",
    "    print(e)"
   ]
  },
  {
   "cell_type": "code",
   "execution_count": null,
   "id": "6a4f4a3a-19a3-4666-81e4-cee9043265b3",
   "metadata": {},
   "outputs": [],
   "source": [
    "try:\n",
    "    import nareshit\n",
    "except EXCEption as e:\n",
    "    print(e)"
   ]
  },
  {
   "cell_type": "code",
   "execution_count": null,
   "id": "13714939-8046-4250-a8d7-a54f800787ab",
   "metadata": {},
   "outputs": [],
   "source": [
    "try:\n",
    "    import random\n",
    "    random.pushpa\n",
    "except Exception as e:\n",
    "    print(e)"
   ]
  },
  {
   "cell_type": "code",
   "execution_count": 18,
   "id": "5fe55aed-c09f-40ba-8f8e-9bb2b61dd467",
   "metadata": {},
   "outputs": [
    {
     "name": "stdin",
     "output_type": "stream",
     "text": [
      "enter n1: 10\n"
     ]
    },
    {
     "data": {
      "text/plain": [
       "10"
      ]
     },
     "execution_count": 18,
     "metadata": {},
     "output_type": "execute_result"
    }
   ],
   "source": [
    "eval(input('enter n1:'))"
   ]
  },
  {
   "cell_type": "code",
   "execution_count": 19,
   "id": "d8a51240-8a41-4a49-91f3-4b1a7c178494",
   "metadata": {},
   "outputs": [
    {
     "name": "stdout",
     "output_type": "stream",
     "text": [
      "unsupported operand type(s) for /: 'int' and 'str'\n"
     ]
    }
   ],
   "source": [
    "try:\n",
    "    a=1\n",
    "    b='a'\n",
    "    c=a/b\n",
    "except Exception as e:\n",
    "    print(e)"
   ]
  },
  {
   "cell_type": "markdown",
   "id": "1a1f9bdb-497a-4bb3-8933-8488612f4c71",
   "metadata": {},
   "source": [
    "- step-1:are you able to write the code with out silly mistakes\n",
    "\n",
    "- step-2:are you able to understand the logic\n",
    "\n",
    "- step-3:are you able to implement the logic"
   ]
  },
  {
   "cell_type": "code",
   "execution_count": 1,
   "id": "4fdafcc3-765c-4a55-9e2f-d124cb5f8f5f",
   "metadata": {},
   "outputs": [
    {
     "name": "stdin",
     "output_type": "stream",
     "text": [
      "enter the number: 20\n"
     ]
    },
    {
     "name": "stdout",
     "output_type": "stream",
     "text": [
      "20 is an even\n"
     ]
    }
   ],
   "source": [
    "n1=eval(input('enter the number:'))\n",
    "if n1%2==0:\n",
    "    print(f\"{n1} is an even\")\n",
    "else:\n",
    "    print(f\"{n2} is an odd\")"
   ]
  },
  {
   "cell_type": "code",
   "execution_count": null,
   "id": "695add67-cab2-40c5-af57-5ba7734af9c2",
   "metadata": {},
   "outputs": [],
   "source": [
    "try:\n",
    "    n1=eval(input('enter the number:'))\n",
    "    if n1%2==0:\n",
    "         print(f\"{n21} is an even\")\n",
    "    else:\n",
    "        print(f\"{n21} is an odd\")\n",
    "except Exception as e:\n",
    "    print(e)\n",
    "    a=10\n",
    "    b=20\n",
    "    print('a+b:',a+b)\n",
    "\n",
    "# step-1: n1=45\n",
    "# step-2: if 45%2==0  False\n",
    "# step-3: else  n21 error\n",
    "# step-4: exception block catch the error\n",
    "# step-5:  a=10 b=20 30"
   ]
  },
  {
   "cell_type": "code",
   "execution_count": 4,
   "id": "cb05d4b9-aaf0-4370-93e2-9255402f52fd",
   "metadata": {},
   "outputs": [
    {
     "name": "stdin",
     "output_type": "stream",
     "text": [
      "enter number : 20\n"
     ]
    },
    {
     "name": "stdout",
     "output_type": "stream",
     "text": [
      "20 is even number\n"
     ]
    }
   ],
   "source": [
    "try:\n",
    "    n1=eval(input(\"enter number :\"))\n",
    "    if n1%2==0:\n",
    "        print(f\"{n1} is even number\")\n",
    "    else:\n",
    "        print(f\"{n1} is odd number\")\n",
    "except Exception as e:\n",
    "    print(e)    "
   ]
  },
  {
   "cell_type": "code",
   "execution_count": null,
   "id": "b66c582f-c029-43f7-b7e8-ffb0f8485df7",
   "metadata": {},
   "outputs": [],
   "source": [
    "basic qns: 7-8 practice\n",
    "if-else : 7-8 practice\n"
   ]
  }
 ],
 "metadata": {
  "kernelspec": {
   "display_name": "Python 3 (ipykernel)",
   "language": "python",
   "name": "python3"
  },
  "language_info": {
   "codemirror_mode": {
    "name": "ipython",
    "version": 3
   },
   "file_extension": ".py",
   "mimetype": "text/x-python",
   "name": "python",
   "nbconvert_exporter": "python",
   "pygments_lexer": "ipython3",
   "version": "3.12.7"
  }
 },
 "nbformat": 4,
 "nbformat_minor": 5
}
