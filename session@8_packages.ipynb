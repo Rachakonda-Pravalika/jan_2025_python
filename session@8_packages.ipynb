{
 "cells": [
  {
   "cell_type": "code",
   "execution_count": null,
   "id": "0de0f8c5-dbc1-4be6-9bd2-cffa91a66b06",
   "metadata": {},
   "outputs": [],
   "source": [
    "# wap take the radidus of a circle calculate area of the circle\n",
    "# var: radidus var: pi=3.14\n",
    "# formuale: pi*radius*radius\n",
    "# print the answers using f string and format\n",
    "\n",
    "# wap take the breadth and height of a right angle triangle\n",
    "# calculate the area\n",
    "# var1: bredath var2: height\n",
    "# formuale : 0.5*breadth*heigh\n",
    "\n",
    "# wap take the bill amount and tip amount\n",
    "# calculate total bill\n",
    "# var1: bill amount var2: tip amount\n",
    "# formuale\n",
    "\n",
    "# wap take the length and breadth of a rectangle calculate area\n",
    "# var1: length var2: breadth\n",
    "# formulae: length * breadth"
   ]
  },
  {
   "cell_type": "code",
   "execution_count": null,
   "id": "4dac4d72-7710-4dd1-9c4b-c9f0b8827628",
   "metadata": {},
   "outputs": [],
   "source": [
    "# if you are not able to do\n",
    "# take pen and book\n",
    "# 3rd\n",
    "# on the notes you need write that"
   ]
  },
  {
   "cell_type": "code",
   "execution_count": null,
   "id": "9d528cf6-0fe9-4333-9c6f-70703510dca2",
   "metadata": {},
   "outputs": [],
   "source": []
  },
  {
   "cell_type": "code",
   "execution_count": null,
   "id": "46e46643-9a74-4436-84b4-f9519cb43a4f",
   "metadata": {},
   "outputs": [],
   "source": [
    "# wap take the radidus of a circle calculate area of the circle\n",
    "# var: radidus var: pi=3.14\n",
    "# formuale: pi*radius*radius\n",
    "# print the answers using f string and format"
   ]
  },
  {
   "cell_type": "code",
   "execution_count": null,
   "id": "e04f648c-8878-4b04-a914-147d659c2348",
   "metadata": {},
   "outputs": [],
   "source": []
  }
 ],
 "metadata": {
  "kernelspec": {
   "display_name": "Python 3 (ipykernel)",
   "language": "python",
   "name": "python3"
  },
  "language_info": {
   "codemirror_mode": {
    "name": "ipython",
    "version": 3
   },
   "file_extension": ".py",
   "mimetype": "text/x-python",
   "name": "python",
   "nbconvert_exporter": "python",
   "pygments_lexer": "ipython3",
   "version": "3.12.7"
  }
 },
 "nbformat": 4,
 "nbformat_minor": 5
}
