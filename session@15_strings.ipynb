{
 "cells": [
  {
   "cell_type": "markdown",
   "id": "2870cac7-b384-43fb-8b2b-904d6555b9f9",
   "metadata": {},
   "source": [
    "========================= Basic python ==================================\n",
    "- Variables\n",
    "\n",
    "- Data types\n",
    "\n",
    "- Type conversion\n",
    "\n",
    "- print\n",
    "\n",
    "- eval and input\n",
    "\n",
    "- Basic codes\n",
    "\n",
    "- packages\n",
    "\n",
    "- conditional statements\n",
    "\n",
    "- try and except\n",
    "\n",
    "- functions\n",
    "\n",
    "- for loop\n",
    "\n",
    "- while loop \n",
    "\n",
    "============================ Intermediate python ==================================\n",
    "\n",
    "- strings\n",
    "\n",
    "- Lists\n",
    "\n",
    "- Lists comprehension\n",
    "\n",
    "- Tuple \n",
    "\n",
    "- sets\n",
    "\n",
    "- Dictionary\n",
    "\n",
    "- Lambda functions\n",
    "\n",
    "- file handling\n",
    "\n",
    "============================ OOPs Concepts ========================================="
   ]
  },
  {
   "cell_type": "markdown",
   "id": "08fa56da-b667-4268-b142-82dd0bd4aa9b",
   "metadata": {},
   "source": [
    "- Basic representations\n",
    "\n",
    "- Inbuilt functions\n",
    "\n",
    "     - print\n",
    "\n",
    "     - type\n",
    "\n",
    "     - len\n",
    "\n",
    "     - sum\n",
    "\n",
    "     - max\n",
    "\n",
    "     - min\n",
    "\n",
    "     - sorted\n",
    "\n",
    "     - reversed\n",
    "\n",
    "- concentation\n",
    "\n",
    "- indexing\n",
    "\n",
    "- mutable or inmutable concept\n",
    "\n",
    "- slice\n",
    "\n",
    "- methods"
   ]
  },
  {
   "cell_type": "markdown",
   "id": "7b40befa-25d0-4a36-9062-a5e738cbe072",
   "metadata": {},
   "source": [
    "**Basic Representations**"
   ]
  },
  {
   "cell_type": "code",
   "execution_count": 1,
   "id": "be5bf97c-5b08-4951-9747-d8cce27998a8",
   "metadata": {},
   "outputs": [
    {
     "data": {
      "text/plain": [
       "'python'"
      ]
     },
     "execution_count": 1,
     "metadata": {},
     "output_type": "execute_result"
    }
   ],
   "source": [
    "name='python'\n",
    "name"
   ]
  },
  {
   "cell_type": "code",
   "execution_count": 2,
   "id": "602dacab-e839-43e6-b550-5491986c8e7a",
   "metadata": {},
   "outputs": [
    {
     "name": "stdout",
     "output_type": "stream",
     "text": [
      "python\n"
     ]
    }
   ],
   "source": [
    "print(name)"
   ]
  },
  {
   "cell_type": "code",
   "execution_count": 3,
   "id": "ededb7e3-4c5d-4a62-8d0a-f16ee3026936",
   "metadata": {},
   "outputs": [
    {
     "data": {
      "text/plain": [
       "'python'"
      ]
     },
     "execution_count": 3,
     "metadata": {},
     "output_type": "execute_result"
    }
   ],
   "source": [
    "name=\"python\"\n",
    "name"
   ]
  },
  {
   "cell_type": "markdown",
   "id": "080f91b1-bd58-4462-b323-1a14e336a068",
   "metadata": {},
   "source": [
    "- python by default gives output in **single quotes**\n",
    "\n",
    "- when we print the string output display **without quotes**"
   ]
  },
  {
   "cell_type": "code",
   "execution_count": 5,
   "id": "96a2e024-3e3a-449a-9810-35d3c7d748c2",
   "metadata": {},
   "outputs": [
    {
     "name": "stdout",
     "output_type": "stream",
     "text": [
      "I love 'python'\n"
     ]
    }
   ],
   "source": [
    "str1=\"I love 'python'\"\n",
    "print(str1)"
   ]
  },
  {
   "cell_type": "code",
   "execution_count": 6,
   "id": "b71ec0d2-8467-4267-9192-e3d21b2e988c",
   "metadata": {},
   "outputs": [
    {
     "name": "stdout",
     "output_type": "stream",
     "text": [
      "I love \"python\"\n"
     ]
    }
   ],
   "source": [
    "str2='I love \"python\"'\n",
    "print(str2)"
   ]
  },
  {
   "cell_type": "markdown",
   "id": "2163983f-0394-492b-b34d-eccc19cc7b25",
   "metadata": {},
   "source": [
    "**Doc String**\n",
    "\n",
    "- triple quotes also called as doc string\n",
    "\n",
    "- triple quotes means the user try to convey some information"
   ]
  },
  {
   "cell_type": "markdown",
   "id": "e96db9dc-2ea3-4890-832e-be2d36bd9404",
   "metadata": {},
   "source": [
    "**type**"
   ]
  },
  {
   "cell_type": "code",
   "execution_count": 7,
   "id": "b5bc608b-dacd-4ff8-ac95-49a142147e95",
   "metadata": {},
   "outputs": [
    {
     "data": {
      "text/plain": [
       "str"
      ]
     },
     "execution_count": 7,
     "metadata": {},
     "output_type": "execute_result"
    }
   ],
   "source": [
    "name='python'\n",
    "type(name)"
   ]
  },
  {
   "cell_type": "markdown",
   "id": "8e6573aa-13e1-4d39-966d-180a80f52081",
   "metadata": {},
   "source": [
    "**Len**"
   ]
  },
  {
   "cell_type": "code",
   "execution_count": 8,
   "id": "3ded0f96-6e56-4a28-9b1b-1dc529b5f0c0",
   "metadata": {},
   "outputs": [
    {
     "data": {
      "text/plain": [
       "6"
      ]
     },
     "execution_count": 8,
     "metadata": {},
     "output_type": "execute_result"
    }
   ],
   "source": [
    "name='python'\n",
    "len(name)"
   ]
  },
  {
   "cell_type": "code",
   "execution_count": 22,
   "id": "d4be10ab-eeb0-4be3-a256-eabdf604ff48",
   "metadata": {},
   "outputs": [
    {
     "data": {
      "text/plain": [
       "15"
      ]
     },
     "execution_count": 22,
     "metadata": {},
     "output_type": "execute_result"
    }
   ],
   "source": [
    "len('hai how are you')"
   ]
  },
  {
   "cell_type": "markdown",
   "id": "ef7ddec9-ff04-4d31-b10d-003b445e4f5a",
   "metadata": {},
   "source": [
    "**Max**"
   ]
  },
  {
   "cell_type": "code",
   "execution_count": 9,
   "id": "b88acd5c-bac8-41cd-b50b-6d60d127cf2b",
   "metadata": {},
   "outputs": [
    {
     "data": {
      "text/plain": [
       "'y'"
      ]
     },
     "execution_count": 9,
     "metadata": {},
     "output_type": "execute_result"
    }
   ],
   "source": [
    "name='python'\n",
    "max(name)"
   ]
  },
  {
   "cell_type": "code",
   "execution_count": 24,
   "id": "cd3b2fea-8047-4833-a09e-467bc98d9a31",
   "metadata": {},
   "outputs": [
    {
     "name": "stdout",
     "output_type": "stream",
     "text": [
      "112 p\n",
      "121 y\n",
      "116 t\n",
      "104 h\n",
      "111 o\n",
      "110 n\n"
     ]
    }
   ],
   "source": [
    "for i in 'python':\n",
    "    print(ord(i),i)"
   ]
  },
  {
   "cell_type": "markdown",
   "id": "dc71867a-c682-4aa3-aaf7-5de215173125",
   "metadata": {},
   "source": [
    "**Min**"
   ]
  },
  {
   "cell_type": "code",
   "execution_count": 11,
   "id": "36021f6a-a66d-4369-b779-b373ac9b042c",
   "metadata": {},
   "outputs": [
    {
     "data": {
      "text/plain": [
       "'h'"
      ]
     },
     "execution_count": 11,
     "metadata": {},
     "output_type": "execute_result"
    }
   ],
   "source": [
    "name='python'\n",
    "min(name)"
   ]
  },
  {
   "cell_type": "markdown",
   "id": "f0599d83-e3d0-42bd-8571-7d802c60d0ba",
   "metadata": {},
   "source": [
    "**Sum**"
   ]
  },
  {
   "cell_type": "code",
   "execution_count": 16,
   "id": "dceabaa7-65f0-4e70-909e-ab6ed9feccb8",
   "metadata": {},
   "outputs": [
    {
     "name": "stdin",
     "output_type": "stream",
     "text": [
      "enter a number: 10\n",
      "enter a number: 20\n"
     ]
    },
    {
     "name": "stdout",
     "output_type": "stream",
     "text": [
      "30\n"
     ]
    }
   ],
   "source": [
    "n1=eval(input('enter a number:'))\n",
    "n2=eval(input('enter a number:'))\n",
    "sum=n1+n2\n",
    "print(sum)"
   ]
  },
  {
   "cell_type": "markdown",
   "id": "564c1e5b-febe-4cf3-af9d-c0a598065918",
   "metadata": {},
   "source": [
    "**Sorted**"
   ]
  },
  {
   "cell_type": "markdown",
   "id": "0f031f2e-9b2d-480e-9498-6e5b3e65a7f4",
   "metadata": {},
   "source": [
    "- sorted means either ascending or descending order\n",
    "\n",
    "- ascending order:samll to big \n",
    "\n",
    "- descending order:big to small"
   ]
  },
  {
   "cell_type": "code",
   "execution_count": 13,
   "id": "bbbd5fdf-4322-451e-8d26-b0be3654d320",
   "metadata": {},
   "outputs": [
    {
     "data": {
      "text/plain": [
       "['h', 'n', 'o', 'p', 't', 'y']"
      ]
     },
     "execution_count": 13,
     "metadata": {},
     "output_type": "execute_result"
    }
   ],
   "source": [
    "name='python'\n",
    "sorted(name)"
   ]
  },
  {
   "cell_type": "markdown",
   "id": "b2946e50-b79c-42cf-8996-f27c567adcc2",
   "metadata": {},
   "source": [
    "**iterable**: Anything that can be print using loop\n",
    "\n",
    "/"
   ]
  },
  {
   "cell_type": "code",
   "execution_count": 14,
   "id": "68984021-02c1-4080-a8a0-6443878cc5e8",
   "metadata": {},
   "outputs": [
    {
     "data": {
      "text/plain": [
       "<reversed at 0x198dc7cc7f0>"
      ]
     },
     "execution_count": 14,
     "metadata": {},
     "output_type": "execute_result"
    }
   ],
   "source": [
    "name='python'\n",
    "reversed(name)"
   ]
  },
  {
   "cell_type": "code",
   "execution_count": 18,
   "id": "e7e8968f-5093-417a-873e-89d8a1264f0f",
   "metadata": {},
   "outputs": [
    {
     "name": "stdout",
     "output_type": "stream",
     "text": [
      "30\n"
     ]
    }
   ],
   "source": [
    "def add(a,b):\n",
    "    print(a+b)\n",
    "add(a=10,b=20)  # works"
   ]
  },
  {
   "cell_type": "code",
   "execution_count": 23,
   "id": "07a09394-0fb8-4e31-9b6e-05503da0856f",
   "metadata": {},
   "outputs": [
    {
     "ename": "TypeError",
     "evalue": "add() got some positional-only arguments passed as keyword arguments: 'a'",
     "output_type": "error",
     "traceback": [
      "\u001b[1;31m---------------------------------------------------------------------------\u001b[0m",
      "\u001b[1;31mTypeError\u001b[0m                                 Traceback (most recent call last)",
      "Cell \u001b[1;32mIn[23], line 3\u001b[0m\n\u001b[0;32m      1\u001b[0m \u001b[38;5;28;01mdef\u001b[39;00m \u001b[38;5;21madd\u001b[39m(a,\u001b[38;5;241m/\u001b[39m,b):\n\u001b[0;32m      2\u001b[0m     \u001b[38;5;28mprint\u001b[39m(a\u001b[38;5;241m+\u001b[39mb)\n\u001b[1;32m----> 3\u001b[0m add(a\u001b[38;5;241m=\u001b[39m\u001b[38;5;241m10\u001b[39m,b\u001b[38;5;241m=\u001b[39m\u001b[38;5;241m20\u001b[39m)\n",
      "\u001b[1;31mTypeError\u001b[0m: add() got some positional-only arguments passed as keyword arguments: 'a'"
     ]
    }
   ],
   "source": [
    "def add(a,/,b):\n",
    "    print(a+b)\n",
    "add(a=10,b=20)   # fails"
   ]
  },
  {
   "cell_type": "code",
   "execution_count": 20,
   "id": "f2267965-79b6-4a30-a3fc-74ec15dd8954",
   "metadata": {},
   "outputs": [
    {
     "name": "stdout",
     "output_type": "stream",
     "text": [
      "30\n"
     ]
    }
   ],
   "source": [
    "def add(a,/,b):\n",
    "    print(a+b)\n",
    "add(10,b=20   # works"
   ]
  },
  {
   "cell_type": "code",
   "execution_count": 21,
   "id": "88b51c60-4f04-4eae-98cd-1ce202a06ee0",
   "metadata": {},
   "outputs": [
    {
     "ename": "SyntaxError",
     "evalue": "positional argument follows keyword argument (3787002837.py, line 3)",
     "output_type": "error",
     "traceback": [
      "\u001b[1;36m  Cell \u001b[1;32mIn[21], line 3\u001b[1;36m\u001b[0m\n\u001b[1;33m    add(a=10,20)\u001b[0m\n\u001b[1;37m               ^\u001b[0m\n\u001b[1;31mSyntaxError\u001b[0m\u001b[1;31m:\u001b[0m positional argument follows keyword argument\n"
     ]
    }
   ],
   "source": [
    "def add(a,/,b):\n",
    "    print(a+b)\n",
    "add(a=10,20)   # fails"
   ]
  },
  {
   "cell_type": "markdown",
   "id": "0e78020a-306d-42fb-959a-9062176cb34f",
   "metadata": {},
   "source": [
    "**Note:** \n",
    "\n",
    "- / before dont use argument name\n",
    "\n",
    "- / after you can use argument name, that is our wish\n",
    "\n",
    "- (*) indicates no need maintain the order of the arguments"
   ]
  },
  {
   "cell_type": "code",
   "execution_count": 25,
   "id": "0c7c9580-9b5d-42b2-9a2b-b0770f9e768c",
   "metadata": {},
   "outputs": [
    {
     "ename": "TypeError",
     "evalue": "add() got an unexpected keyword argument 'b'",
     "output_type": "error",
     "traceback": [
      "\u001b[1;31m---------------------------------------------------------------------------\u001b[0m",
      "\u001b[1;31mTypeError\u001b[0m                                 Traceback (most recent call last)",
      "Cell \u001b[1;32mIn[25], line 4\u001b[0m\n\u001b[0;32m      1\u001b[0m \u001b[38;5;28;01mdef\u001b[39;00m \u001b[38;5;21madd\u001b[39m(a,\u001b[38;5;241m/\u001b[39m,\u001b[38;5;241m*\u001b[39mb,c):\n\u001b[0;32m      2\u001b[0m     \u001b[38;5;28mprint\u001b[39m(a\u001b[38;5;241m+\u001b[39mb\u001b[38;5;241m+\u001b[39mc)\n\u001b[1;32m----> 4\u001b[0m add(\u001b[38;5;241m10\u001b[39m,c\u001b[38;5;241m=\u001b[39m\u001b[38;5;241m20\u001b[39m,b\u001b[38;5;241m=\u001b[39m\u001b[38;5;241m30\u001b[39m)\n",
      "\u001b[1;31mTypeError\u001b[0m: add() got an unexpected keyword argument 'b'"
     ]
    }
   ],
   "source": [
    "def add(a,/,*b,c):\n",
    "    print(a+b+c)\n",
    "\n",
    "add(10,c=20,b=30)"
   ]
  },
  {
   "cell_type": "markdown",
   "id": "c61f2e4b-cec4-4f7a-9de8-438c06891541",
   "metadata": {},
   "source": [
    "**Note:**\n",
    "\n",
    "(*)indicates provide the argument name"
   ]
  },
  {
   "cell_type": "code",
   "execution_count": 26,
   "id": "a19affba-7ec8-4027-9730-19ec488176ab",
   "metadata": {},
   "outputs": [
    {
     "data": {
      "text/plain": [
       "['y', 't', 'p', 'o', 'n', 'h']"
      ]
     },
     "execution_count": 26,
     "metadata": {},
     "output_type": "execute_result"
    }
   ],
   "source": [
    "sorted('python',reverse=True)"
   ]
  },
  {
   "cell_type": "code",
   "execution_count": null,
   "id": "11ff5f5b-be55-4d01-a274-996979c886f8",
   "metadata": {},
   "outputs": [],
   "source": [
    "sorted('python') # w\n",
    "sorted(iterable='python')  # F\n",
    "sorted('python',reverse=True)   # W\n",
    "sorted(iterable='python',reverse=True) # F\n",
    "sorted('python',True) # F"
   ]
  },
  {
   "cell_type": "markdown",
   "id": "dcac5ac3-f11b-4f90-81ab-88f054f23abe",
   "metadata": {},
   "source": [
    "**reveresd**"
   ]
  },
  {
   "cell_type": "code",
   "execution_count": 28,
   "id": "2c8647c0-5c16-49b6-8010-46753358d4d0",
   "metadata": {},
   "outputs": [
    {
     "ename": "TypeError",
     "evalue": "reversed() takes no keyword arguments",
     "output_type": "error",
     "traceback": [
      "\u001b[1;31m---------------------------------------------------------------------------\u001b[0m",
      "\u001b[1;31mTypeError\u001b[0m                                 Traceback (most recent call last)",
      "Cell \u001b[1;32mIn[28], line 1\u001b[0m\n\u001b[1;32m----> 1\u001b[0m \u001b[38;5;28mreversed\u001b[39m(sequence\u001b[38;5;241m=\u001b[39m\u001b[38;5;124m'\u001b[39m\u001b[38;5;124mprashanth\u001b[39m\u001b[38;5;124m'\u001b[39m)\n",
      "\u001b[1;31mTypeError\u001b[0m: reversed() takes no keyword arguments"
     ]
    }
   ],
   "source": [
    "reversed(sequence='prashanth')"
   ]
  },
  {
   "cell_type": "code",
   "execution_count": 29,
   "id": "55d2bf8d-b631-48d2-b23d-5caf07016fab",
   "metadata": {},
   "outputs": [
    {
     "data": {
      "text/plain": [
       "<reversed at 0x198dca69360>"
      ]
     },
     "execution_count": 29,
     "metadata": {},
     "output_type": "execute_result"
    }
   ],
   "source": [
    "reversed('prashanth')"
   ]
  },
  {
   "cell_type": "code",
   "execution_count": 31,
   "id": "113d99d9-6995-4bb6-a72f-f26a241a9443",
   "metadata": {},
   "outputs": [
    {
     "data": {
      "text/plain": [
       "<reversed at 0x198dca6a290>"
      ]
     },
     "execution_count": 31,
     "metadata": {},
     "output_type": "execute_result"
    }
   ],
   "source": [
    "ans=reversed('prashanth')\n",
    "ans"
   ]
  },
  {
   "cell_type": "markdown",
   "id": "96163ecf-dd82-47e9-b0be-15c87f72a157",
   "metadata": {},
   "source": [
    "- Answer saved at address memory loaction\n",
    "\n",
    "- we can see the answer by using for loop  or list\n",
    "\n",
    "- whenever we see less than greater than symbol answer\n",
    "\n",
    "- try to apply for loop or list"
   ]
  },
  {
   "cell_type": "code",
   "execution_count": 32,
   "id": "e1ffd3c9-1423-43bb-ad0d-cac03e50e7bb",
   "metadata": {},
   "outputs": [
    {
     "name": "stdout",
     "output_type": "stream",
     "text": [
      "h\n",
      "t\n",
      "n\n",
      "a\n",
      "h\n",
      "s\n",
      "a\n",
      "r\n",
      "p\n"
     ]
    }
   ],
   "source": [
    "for i in ans:\n",
    "    print(i)"
   ]
  },
  {
   "cell_type": "code",
   "execution_count": 33,
   "id": "024931d1-ea72-4f7b-840a-1bb9fdc7b385",
   "metadata": {},
   "outputs": [
    {
     "data": {
      "text/plain": [
       "['h', 't', 'n', 'a', 'h', 's', 'a', 'r', 'p']"
      ]
     },
     "execution_count": 33,
     "metadata": {},
     "output_type": "execute_result"
    }
   ],
   "source": [
    "ans=reversed('prashanth')\n",
    "list(ans)"
   ]
  },
  {
   "cell_type": "markdown",
   "id": "52046240-3d09-4e8e-9d63-3cb3956553ee",
   "metadata": {},
   "source": [
    "**Concatenation**"
   ]
  },
  {
   "cell_type": "code",
   "execution_count": null,
   "id": "aa2122c6-2b8c-4d67-92be-b368cff53e5c",
   "metadata": {},
   "outputs": [],
   "source": [
    "str1='hello'\n"
   ]
  },
  {
   "cell_type": "code",
   "execution_count": 34,
   "id": "c8d2e8e4-aeac-48fa-913b-a237cc108cbb",
   "metadata": {},
   "outputs": [
    {
     "data": {
      "text/plain": [
       "'hellopython'"
      ]
     },
     "execution_count": 34,
     "metadata": {},
     "output_type": "execute_result"
    }
   ],
   "source": [
    "str1='hello'\n",
    "str2='python'\n",
    "str1+str2"
   ]
  },
  {
   "cell_type": "code",
   "execution_count": 35,
   "id": "7647d6a0-1db6-4999-8583-8871cc9eb27e",
   "metadata": {},
   "outputs": [
    {
     "ename": "TypeError",
     "evalue": "unsupported operand type(s) for -: 'str' and 'str'",
     "output_type": "error",
     "traceback": [
      "\u001b[1;31m---------------------------------------------------------------------------\u001b[0m",
      "\u001b[1;31mTypeError\u001b[0m                                 Traceback (most recent call last)",
      "Cell \u001b[1;32mIn[35], line 3\u001b[0m\n\u001b[0;32m      1\u001b[0m str1\u001b[38;5;241m=\u001b[39m\u001b[38;5;124m'\u001b[39m\u001b[38;5;124mhello\u001b[39m\u001b[38;5;124m'\u001b[39m\n\u001b[0;32m      2\u001b[0m str2\u001b[38;5;241m=\u001b[39m\u001b[38;5;124m'\u001b[39m\u001b[38;5;124mpython\u001b[39m\u001b[38;5;124m'\u001b[39m\n\u001b[1;32m----> 3\u001b[0m str1\u001b[38;5;241m-\u001b[39mstr2\n",
      "\u001b[1;31mTypeError\u001b[0m: unsupported operand type(s) for -: 'str' and 'str'"
     ]
    }
   ],
   "source": [
    "str1='hello'\n",
    "str2='python'\n",
    "str1-str2"
   ]
  },
  {
   "cell_type": "code",
   "execution_count": 37,
   "id": "86effa6f-44d5-4084-80fe-03511c6c8ba3",
   "metadata": {},
   "outputs": [
    {
     "data": {
      "text/plain": [
       "'pythonpythonpython'"
      ]
     },
     "execution_count": 37,
     "metadata": {},
     "output_type": "execute_result"
    }
   ],
   "source": [
    "'python'*3"
   ]
  },
  {
   "cell_type": "code",
   "execution_count": 38,
   "id": "5eb92356-5228-44c7-af6c-6adbec081b18",
   "metadata": {},
   "outputs": [
    {
     "data": {
      "text/plain": [
       "'hello python'"
      ]
     },
     "execution_count": 38,
     "metadata": {},
     "output_type": "execute_result"
    }
   ],
   "source": [
    "str1='hello '\n",
    "str2='python'\n",
    "str1+str2"
   ]
  },
  {
   "cell_type": "code",
   "execution_count": 39,
   "id": "d9b8fb35-bf62-4998-907e-3fa909037250",
   "metadata": {},
   "outputs": [
    {
     "data": {
      "text/plain": [
       "'hello python'"
      ]
     },
     "execution_count": 39,
     "metadata": {},
     "output_type": "execute_result"
    }
   ],
   "source": [
    "str1='hello'\n",
    "str2=' python'\n",
    "str1+str2"
   ]
  },
  {
   "cell_type": "code",
   "execution_count": 40,
   "id": "2d9c42eb-ef0e-43eb-88ac-077380412227",
   "metadata": {},
   "outputs": [
    {
     "data": {
      "text/plain": [
       "'hello python'"
      ]
     },
     "execution_count": 40,
     "metadata": {},
     "output_type": "execute_result"
    }
   ],
   "source": [
    "str1='hello'\n",
    "str2='python'\n",
    "str1+' '+str2"
   ]
  },
  {
   "cell_type": "markdown",
   "id": "85cd9e66-7df6-4a21-b108-d7e207c7d255",
   "metadata": {},
   "source": [
    "**index**"
   ]
  },
  {
   "cell_type": "code",
   "execution_count": 1,
   "id": "06a03e92-4136-405a-bb9d-c50469e2b5a4",
   "metadata": {},
   "outputs": [
    {
     "data": {
      "text/plain": [
       "'python'"
      ]
     },
     "execution_count": 1,
     "metadata": {},
     "output_type": "execute_result"
    }
   ],
   "source": [
    "str1='python'\n",
    "str1"
   ]
  },
  {
   "cell_type": "code",
   "execution_count": null,
   "id": "43194433-fe9d-4296-af9a-ae09573725d8",
   "metadata": {},
   "outputs": [],
   "source": [
    "-6 -5 -4 -3 -2 -1\n",
    "p  y  t  h  o  n\n",
    "0  1  2  3  4  5"
   ]
  },
  {
   "cell_type": "markdown",
   "id": "5b25df15-5809-4dbf-bd66-438fe100549e",
   "metadata": {},
   "source": [
    "- access the characters or elements use square bracket"
   ]
  },
  {
   "cell_type": "code",
   "execution_count": 6,
   "id": "ea61d1a0-b6aa-4e92-b676-630930d2db82",
   "metadata": {},
   "outputs": [
    {
     "data": {
      "text/plain": [
       "('n', 'n')"
      ]
     },
     "execution_count": 6,
     "metadata": {},
     "output_type": "execute_result"
    }
   ],
   "source": [
    "str1[0],str1[-6]\n",
    "str1[1],str1[-5]\n",
    "str1[2],str1[-4]\n",
    "str1[3],str1[-3]\n",
    "str1[4],str1[-2]\n",
    "str1[5],str1[-1]"
   ]
  },
  {
   "cell_type": "code",
   "execution_count": null,
   "id": "8e1fe22f-9c98-4627-b902-8ae9785057c0",
   "metadata": {},
   "outputs": [],
   "source": [
    "str1[0]\n",
    "str1[1]\n",
    "str1[2]\n",
    "str1[3]\n",
    "str1[4]\n",
    "str1[5]\n",
    "\n",
    "str1[i]"
   ]
  },
  {
   "cell_type": "code",
   "execution_count": 12,
   "id": "3f91aa3d-8910-4a17-a354-aeb5753f075e",
   "metadata": {},
   "outputs": [
    {
     "name": "stdout",
     "output_type": "stream",
     "text": [
      "p\n",
      "y\n",
      "t\n",
      "h\n",
      "o\n",
      "n\n"
     ]
    }
   ],
   "source": [
    "for i in range(0,6):\n",
    "    print(str1[i])"
   ]
  },
  {
   "cell_type": "code",
   "execution_count": 14,
   "id": "b74c461c-6970-49bb-b2a0-f7b4307bdc3f",
   "metadata": {},
   "outputs": [
    {
     "name": "stdout",
     "output_type": "stream",
     "text": [
      "h\n",
      "e\n",
      "l\n",
      "l\n",
      "o\n",
      " \n",
      "h\n",
      "o\n",
      "w\n",
      " \n",
      "a\n",
      "r\n",
      "e\n",
      " \n",
      "y\n",
      "o\n",
      "u\n"
     ]
    }
   ],
   "source": [
    "str1='hello how are you'\n",
    "n=len(str1)\n",
    "for i in range(0,n):\n",
    "    print(str1[i])"
   ]
  },
  {
   "cell_type": "code",
   "execution_count": null,
   "id": "7703fae5-2f11-4dcc-9cc4-36dc66c1c7b1",
   "metadata": {},
   "outputs": [],
   "source": [
    "# Q1) \n",
    "# the positive index of p is 0\n",
    "# the positive index of y is 1\n",
    "# the positive index of n is 2\n",
    "\n",
    "# Q2)\n",
    "# the negative index of p is -6\n",
    "# the negative index of y is -5\n",
    "# the negative index of n is -4 and so on \n",
    "\n",
    "# Q3)\n",
    "# the positive index is 0 and negative "
   ]
  },
  {
   "cell_type": "code",
   "execution_count": 18,
   "id": "05600beb-46d2-4b2e-8550-94be775f7229",
   "metadata": {},
   "outputs": [
    {
     "name": "stdout",
     "output_type": "stream",
     "text": [
      "p\n",
      "y\n",
      "t\n"
     ]
    }
   ],
   "source": [
    "str1='python'\n",
    "for i in range(0,3):\n",
    "    print(str1[i])"
   ]
  },
  {
   "cell_type": "code",
   "execution_count": 25,
   "id": "6bf4f2cc-9684-448d-a156-58a5d35a94ed",
   "metadata": {},
   "outputs": [
    {
     "name": "stdout",
     "output_type": "stream",
     "text": [
      "the positive index of p is: {0}\n",
      "the positive index of y is: {1}\n",
      "the positive index of t is: {2}\n",
      "the positive index of h is: {3}\n",
      "the positive index of o is: {4}\n",
      "the positive index of n is: {5}\n"
     ]
    }
   ],
   "source": [
    "str1='python'\n",
    "for i in range(0,6):\n",
    "    print(f'the positive index of {str1[i]} is:', {i})    "
   ]
  },
  {
   "cell_type": "code",
   "execution_count": 28,
   "id": "5db842d9-9b5b-4132-b787-8fa4e4ce23cf",
   "metadata": {},
   "outputs": [
    {
     "name": "stdout",
     "output_type": "stream",
     "text": [
      "the negative index of p is: {-6}\n",
      "the negative index of y is: {-5}\n",
      "the negative index of t is: {-4}\n",
      "the negative index of h is: {-3}\n",
      "the negative index of o is: {-2}\n",
      "the negative index of n is: {-1}\n"
     ]
    }
   ],
   "source": [
    "str1='python'\n",
    "for i in range(-6,0):\n",
    "    print(f'the negative index of {str1[i]} is:', {i})"
   ]
  },
  {
   "cell_type": "code",
   "execution_count": 8,
   "id": "d4051ef6-a083-4ec9-b5d0-a839e299b495",
   "metadata": {},
   "outputs": [
    {
     "name": "stdout",
     "output_type": "stream",
     "text": [
      "0 -6\n",
      "the positive index is 0,negative index is -6 for : p\n",
      "the poistive index is 0 for: p\n",
      "the negative index is -6 for: p\n",
      "1 -5\n",
      "the positive index is 1,negative index is -5 for : y\n",
      "the poistive index is 1 for: y\n",
      "the negative index is -5 for: y\n",
      "2 -4\n",
      "the positive index is 2,negative index is -4 for : t\n",
      "the poistive index is 2 for: t\n",
      "the negative index is -4 for: t\n",
      "3 -3\n",
      "the positive index is 3,negative index is -3 for : h\n",
      "the poistive index is 3 for: h\n",
      "the negative index is -3 for: h\n",
      "4 -2\n",
      "the positive index is 4,negative index is -2 for : o\n",
      "the poistive index is 4 for: o\n",
      "the negative index is -2 for: o\n",
      "5 -1\n",
      "the positive index is 5,negative index is -1 for : n\n",
      "the poistive index is 5 for: n\n",
      "the negative index is -1 for: n\n"
     ]
    }
   ],
   "source": [
    "for i in range(0,6):\n",
    "    print(i,i-6)\n",
    "    print(f'the positive index is {i},negative index is {i-6} for : {str1[i]}')   \n",
    "    print(f'the poistive index is {i} for: {str1[i]}')\n",
    "    print(f'the negative index is {i-6} for: {str1[i]}') "
   ]
  },
  {
   "cell_type": "markdown",
   "id": "18532051-b4a7-4a27-879e-a02ae4347e79",
   "metadata": {},
   "source": [
    "**whem to use **in**-when to us range operator**"
   ]
  },
  {
   "cell_type": "markdown",
   "id": "4c0efa67-6c40-44db-9fd0-89e54eb54b36",
   "metadata": {},
   "source": [
    "- **in** operator directly access the elements\n",
    "\n",
    "- **range** operator access the elements using index or numbers\n",
    "\n",
    "- any problem statement if you need numbers then go\n",
    "\n",
    "- otherwise go for in operator directly"
   ]
  },
  {
   "cell_type": "code",
   "execution_count": 14,
   "id": "21bb895b-eb79-497e-8047-ca16bbd0b0c4",
   "metadata": {},
   "outputs": [
    {
     "name": "stdout",
     "output_type": "stream",
     "text": [
      "p\n",
      "y\n",
      "t\n",
      "h\n",
      "o\n",
      "n\n",
      "0 p\n",
      "1 y\n",
      "2 t\n",
      "3 h\n",
      "4 o\n",
      "5 n\n"
     ]
    }
   ],
   "source": [
    "str1='python'\n",
    "for i in str1:\n",
    "    print(i)\n",
    "\n",
    "for i in range(0,6):\n",
    "    print(i,str1[i])"
   ]
  },
  {
   "cell_type": "code",
   "execution_count": 34,
   "id": "f770d1a4-a26d-4a7c-ad58-a5e62027944b",
   "metadata": {},
   "outputs": [
    {
     "name": "stdout",
     "output_type": "stream",
     "text": [
      "0 o\n",
      "1 l\n",
      "2 a\n",
      "3  \n",
      "4 o\n",
      "5 l\n",
      "6 a\n",
      "7  \n",
      "8 o\n",
      "9 l\n",
      "10 a\n"
     ]
    }
   ],
   "source": [
    "# Q4) write a program to find the index of 'a' in a given string \n",
    "#     str1='ola ola ola'\n",
    "\n",
    "str1='ola ola ola'\n",
    "for i in range(len(str1)):\n",
    "       print(i,str1 [i]) \n",
    "         "
   ]
  },
  {
   "cell_type": "code",
   "execution_count": 37,
   "id": "371dd948-4014-425d-b927-95f2f7fdd09b",
   "metadata": {},
   "outputs": [
    {
     "name": "stdout",
     "output_type": "stream",
     "text": [
      "2\n",
      "6\n",
      "10\n"
     ]
    }
   ],
   "source": [
    "str1='ola ola ola'\n",
    "for i in range(len(str1)):\n",
    "    if str1[i]=='a':\n",
    "       print(i)\n"
   ]
  },
  {
   "cell_type": "code",
   "execution_count": null,
   "id": "5dc5fdcc-4353-407c-8cd3-7cb96a7cad09",
   "metadata": {},
   "outputs": [],
   "source": [
    "# Q5)\n",
    "\n"
   ]
  },
  {
   "cell_type": "code",
   "execution_count": 4,
   "id": "f89e95e6-fcec-4102-8676-788aa16f229d",
   "metadata": {},
   "outputs": [
    {
     "ename": "NameError",
     "evalue": "name 'str1' is not defined",
     "output_type": "error",
     "traceback": [
      "\u001b[1;31m---------------------------------------------------------------------------\u001b[0m",
      "\u001b[1;31mNameError\u001b[0m                                 Traceback (most recent call last)",
      "Cell \u001b[1;32mIn[4], line 2\u001b[0m\n\u001b[0;32m      1\u001b[0m count\u001b[38;5;241m=\u001b[39m\u001b[38;5;241m0\u001b[39m\n\u001b[1;32m----> 2\u001b[0m \u001b[38;5;28;01mfor\u001b[39;00m i \u001b[38;5;129;01min\u001b[39;00m str1:\n\u001b[0;32m      3\u001b[0m     \u001b[38;5;28;01mif\u001b[39;00m i\u001b[38;5;241m==\u001b[39m\u001b[38;5;124m'\u001b[39m\u001b[38;5;124ma\u001b[39m\u001b[38;5;124m'\u001b[39m:\n\u001b[0;32m      4\u001b[0m        count\u001b[38;5;241m=\u001b[39mcount\u001b[38;5;241m+\u001b[39m\u001b[38;5;241m1\u001b[39m\n",
      "\u001b[1;31mNameError\u001b[0m: name 'str1' is not defined"
     ]
    }
   ],
   "source": [
    "count=0\n",
    "for i in str1:\n",
    "    if i=='a':\n",
    "       count=count+1"
   ]
  },
  {
   "cell_type": "code",
   "execution_count": 7,
   "id": "0b40b7f8-c528-4447-a1dc-a5d493174564",
   "metadata": {},
   "outputs": [
    {
     "name": "stdout",
     "output_type": "stream",
     "text": [
      "0\n",
      "a\n",
      "1\n",
      "i\n",
      "2\n",
      "2\n",
      "2\n",
      "o\n",
      "3\n",
      "3\n",
      "3\n",
      "a\n",
      "4\n",
      "4\n",
      "e\n",
      "5\n",
      "5\n",
      "5\n",
      "o\n",
      "6\n",
      "u\n",
      "7\n"
     ]
    }
   ],
   "source": [
    "# Q7)\n",
    "\n",
    "str1='hai how are you'\n",
    "s1='aeiou'\n",
    "count=0\n",
    "for i in str1:\n",
    "    if i in s1:\n",
    "        print(i)\n",
    "        count=count+1\n",
    "    print(count)"
   ]
  },
  {
   "cell_type": "code",
   "execution_count": 12,
   "id": "7e1cad3d-58da-4a1c-ac16-f178a2cdf132",
   "metadata": {},
   "outputs": [
    {
     "name": "stdout",
     "output_type": "stream",
     "text": [
      "a\n",
      "e\n"
     ]
    }
   ],
   "source": [
    "# Q8)\n",
    "\n",
    "str1='aaae'#  'ae'\n",
    "s1=' '\n",
    "for i in str1:\n",
    "    if i in 'aeiou' and i not in s1:\n",
    "        print(i)\n",
    "        s1=s1+i"
   ]
  },
  {
   "cell_type": "markdown",
   "id": "83358c30-77f6-432f-a1c9-1998c09e5e12",
   "metadata": {},
   "source": [
    "**mutable-immutable**\n",
    "\n",
    "- mutable means change\n",
    "\n",
    "- immutable means can not change \n",
    "\n",
    "- we can not change the elements using index operations"
   ]
  },
  {
   "cell_type": "code",
   "execution_count": 17,
   "id": "80fb8e23-e4e1-4f78-b949-c3442182819c",
   "metadata": {},
   "outputs": [
    {
     "ename": "TypeError",
     "evalue": "'str' object does not support item assignment",
     "output_type": "error",
     "traceback": [
      "\u001b[1;31m---------------------------------------------------------------------------\u001b[0m",
      "\u001b[1;31mTypeError\u001b[0m                                 Traceback (most recent call last)",
      "Cell \u001b[1;32mIn[17], line 2\u001b[0m\n\u001b[0;32m      1\u001b[0m str1\u001b[38;5;241m=\u001b[39m\u001b[38;5;124m'\u001b[39m\u001b[38;5;124mhello\u001b[39m\u001b[38;5;124m'\u001b[39m\n\u001b[1;32m----> 2\u001b[0m str1[\u001b[38;5;241m4\u001b[39m]\u001b[38;5;241m=\u001b[39m\u001b[38;5;124m'\u001b[39m\u001b[38;5;124mL\u001b[39m\u001b[38;5;124m'\u001b[39m\n",
      "\u001b[1;31mTypeError\u001b[0m: 'str' object does not support item assignment"
     ]
    }
   ],
   "source": [
    "str1='hello'\n",
    "str1[4]='L'"
   ]
  },
  {
   "cell_type": "code",
   "execution_count": 18,
   "id": "6c804285-d648-482d-a0cf-71a34a2dd031",
   "metadata": {},
   "outputs": [
    {
     "data": {
      "text/plain": [
       "[10, 20, 30]"
      ]
     },
     "execution_count": 18,
     "metadata": {},
     "output_type": "execute_result"
    }
   ],
   "source": [
    "L=[10,20,30]\n",
    "L"
   ]
  },
  {
   "cell_type": "code",
   "execution_count": 21,
   "id": "5b66b06a-fbf8-49c0-8c23-7b4a42c1e0d6",
   "metadata": {},
   "outputs": [
    {
     "data": {
      "text/plain": [
       "30"
      ]
     },
     "execution_count": 21,
     "metadata": {},
     "output_type": "execute_result"
    }
   ],
   "source": [
    "L=[10,20,30]\n",
    "L[2]"
   ]
  },
  {
   "cell_type": "markdown",
   "id": "7bab6962-2c57-4524-aebf-9d779dc503d5",
   "metadata": {},
   "source": [
    "**slice**"
   ]
  },
  {
   "cell_type": "markdown",
   "id": "fecc1cd8-7622-41d1-a48f-25a5a2cd86f8",
   "metadata": {},
   "source": [
    "- slice means cut into two pieces\n",
    "\n",
    "- it has similar analogy with for loop range\n",
    "\n",
    "- in the for loop range we have start,stop,step\n",
    "\n",
    "- range(start,stop,step) str[start:stop:step]"
   ]
  },
  {
   "cell_type": "code",
   "execution_count": null,
   "id": "fd593790-91d4-413b-ac22-a538dae5144d",
   "metadata": {},
   "outputs": [],
   "source": [
    "-17  -16  -15  -14  -13  -12  -11  -10  -9  -8  -7  -6  -5  -4  -3  -2  -1\n",
    "h     e    l    l    o          h    o   w       a   r   e       y   o   u\n",
    "0     1    2    3    4     5    6    7   8    9  10  11  12  13  14  15  16"
   ]
  },
  {
   "cell_type": "markdown",
   "id": "e4f9116c-848f-4757-8160-3295bbdbf52e",
   "metadata": {},
   "source": [
    "$case-1$\n",
    "\n",
    "**str[:stop]**\n",
    "\n",
    "- by default start=0\n",
    "\n",
    "- by default step = positive direction 1\n",
    "\n",
    "- last=stop1\n"
   ]
  },
  {
   "cell_type": "code",
   "execution_count": 2,
   "id": "9f92eff9-b5d0-4974-bf0b-ad62bf70a71c",
   "metadata": {},
   "outputs": [
    {
     "data": {
      "text/plain": [
       "'hello'"
      ]
     },
     "execution_count": 2,
     "metadata": {},
     "output_type": "execute_result"
    }
   ],
   "source": [
    "str1='hello how are you'\n",
    "str1[:5]\n",
    "# start=0  step=1   stop=5-1=4 "
   ]
  },
  {
   "cell_type": "markdown",
   "id": "8c447b2f-36db-4e7e-bb02-d4efbcaa5d0a",
   "metadata": {},
   "source": [
    "$case-2$\n",
    "\n",
    "**str[:stop]**\n",
    "\n",
    "- by default start=start value\n",
    "\n",
    "- by default step = positive direction 1\n",
    "\n",
    "- last=last index"
   ]
  },
  {
   "cell_type": "code",
   "execution_count": 6,
   "id": "045787e5-c7f3-47d7-a187-ad1f86df1855",
   "metadata": {},
   "outputs": [
    {
     "data": {
      "text/plain": [
       "' how are you'"
      ]
     },
     "execution_count": 6,
     "metadata": {},
     "output_type": "execute_result"
    }
   ],
   "source": [
    "str1[5:]"
   ]
  },
  {
   "cell_type": "markdown",
   "id": "049f1b6a-0ef7-4b19-afd4-9cc09d26c73d",
   "metadata": {},
   "source": [
    "$case-3$\n",
    "\n",
    "**str[start:stop]**\n",
    "\n",
    "- by default start=start value\n",
    "\n",
    "- by default step = positive direction 1\n",
    "\n",
    "- last=stop-1"
   ]
  },
  {
   "cell_type": "code",
   "execution_count": 7,
   "id": "59bf7c63-3cc5-4661-a350-8fd56a3a498f",
   "metadata": {},
   "outputs": [
    {
     "data": {
      "text/plain": [
       "'are y'"
      ]
     },
     "execution_count": 7,
     "metadata": {},
     "output_type": "execute_result"
    }
   ],
   "source": [
    "# -17  -16  -15  -14  -13  -12  -11  -10  -9  -8  -7  -6  -5  -4  -3  -2  -1\n",
    "# h     e    l    l    o          h    o   w       a   r   e       y   o   u\n",
    "# 0     1    2    3    4     5    6    7   8    9  10  11  12  13  14  15  16\n",
    "\n",
    "str1[10:15]   # start=10   dire positive step 1 last 15-1=14"
   ]
  },
  {
   "cell_type": "code",
   "execution_count": 8,
   "id": "84a3a7ef-19d6-429d-9085-a4f51688b776",
   "metadata": {},
   "outputs": [
    {
     "data": {
      "text/plain": [
       "'ow'"
      ]
     },
     "execution_count": 8,
     "metadata": {},
     "output_type": "execute_result"
    }
   ],
   "source": [
    "str1[-10:9]"
   ]
  },
  {
   "cell_type": "code",
   "execution_count": 9,
   "id": "c457436b-763f-4bb8-bba7-cfad0c918374",
   "metadata": {},
   "outputs": [
    {
     "data": {
      "text/plain": [
       "'llo how '"
      ]
     },
     "execution_count": 9,
     "metadata": {},
     "output_type": "execute_result"
    }
   ],
   "source": [
    "str1[-15:10]"
   ]
  },
  {
   "cell_type": "code",
   "execution_count": 10,
   "id": "00c91596-f631-4736-9267-5e2e18695255",
   "metadata": {},
   "outputs": [],
   "source": [
    "for i in range(2,-2):\n",
    "    print(i)  # real line"
   ]
  },
  {
   "cell_type": "code",
   "execution_count": 11,
   "id": "e65552cd-2cd6-4715-87d2-4060c6cecc43",
   "metadata": {},
   "outputs": [
    {
     "data": {
      "text/plain": [
       "''"
      ]
     },
     "execution_count": 11,
     "metadata": {},
     "output_type": "execute_result"
    }
   ],
   "source": [
    "str1[-7:2]"
   ]
  },
  {
   "cell_type": "markdown",
   "id": "82448d4c-0762-4b8a-b4a6-ad2d35081053",
   "metadata": {},
   "source": [
    "$case-4$\n",
    "\n",
    "**str[start:stop:step]**\n",
    "\n",
    "- by default start=start value\n",
    "\n",
    "- if step is positive value\n",
    "\n",
    "    - last=stop-1\n",
    "\n",
    "- if step is negative value\n",
    "\n",
    "    - last=stop+1"
   ]
  },
  {
   "cell_type": "code",
   "execution_count": 12,
   "id": "8e2849f1-9b01-4a6b-8e61-019ae9467ab3",
   "metadata": {},
   "outputs": [
    {
     "data": {
      "text/plain": [
       "'lohwaey'"
      ]
     },
     "execution_count": 12,
     "metadata": {},
     "output_type": "execute_result"
    }
   ],
   "source": [
    "# -17  -16  -15  -14  -13  -12  -11  -10  -9  -8  -7  -6  -5  -4  -3  -2  -1\n",
    "# h     e    l    l    o          h    o   w       a   r   e       y   o   u\n",
    "# 0     1    2    3    4     5    6    7   8    9  10  11  12  13  14  15  16\n",
    "\n",
    "str1[2:15:2]   # start=2   dire=+  step 2 last 15-1=14"
   ]
  },
  {
   "cell_type": "code",
   "execution_count": 13,
   "id": "23b3f5f7-ba28-48b4-89e2-ce5d3762b9ae",
   "metadata": {},
   "outputs": [
    {
     "data": {
      "text/plain": [
       "''"
      ]
     },
     "execution_count": 13,
     "metadata": {},
     "output_type": "execute_result"
    }
   ],
   "source": [
    "str1[-16:4:-15]"
   ]
  },
  {
   "cell_type": "code",
   "execution_count": 18,
   "id": "18ad88e8-3b02-446f-88aa-6c8d49cea2fd",
   "metadata": {},
   "outputs": [
    {
     "data": {
      "text/plain": [
       "'lohwa'"
      ]
     },
     "execution_count": 18,
     "metadata": {},
     "output_type": "execute_result"
    }
   ],
   "source": [
    "str1[2:-5:2]"
   ]
  },
  {
   "cell_type": "code",
   "execution_count": 19,
   "id": "99708b7b-d272-410f-a073-52bf645b99a2",
   "metadata": {},
   "outputs": [
    {
     "data": {
      "text/plain": [
       "'l'"
      ]
     },
     "execution_count": 19,
     "metadata": {},
     "output_type": "execute_result"
    }
   ],
   "source": [
    "str1[3:-11:3]"
   ]
  },
  {
   "cell_type": "code",
   "execution_count": 20,
   "id": "05bdf6a6-8823-429c-b2c2-7b802abe4058",
   "metadata": {},
   "outputs": [],
   "source": [
    "# -17  -16  -15  -14  -13  -12  -11  -10  -9  -8  -7  -6  -5  -4  -3  -2  -1\n",
    "# h     e    l    l    o          h    o   w       a   r   e       y   o   u\n",
    "# 0     1    2    3    4     5    6    7   8    9  10  11  12  13  14  15  16\n"
   ]
  },
  {
   "cell_type": "code",
   "execution_count": 21,
   "id": "f8bd245d-a413-488e-89cb-17234950bebd",
   "metadata": {},
   "outputs": [
    {
     "data": {
      "text/plain": [
       "'llo how are you'"
      ]
     },
     "execution_count": 21,
     "metadata": {},
     "output_type": "execute_result"
    }
   ],
   "source": [
    "str1[2:150]"
   ]
  },
  {
   "cell_type": "code",
   "execution_count": 22,
   "id": "0b70ff42-65a3-432d-a1c4-34500bfdc762",
   "metadata": {},
   "outputs": [
    {
     "data": {
      "text/plain": [
       "'hello how are you'"
      ]
     },
     "execution_count": 22,
     "metadata": {},
     "output_type": "execute_result"
    }
   ],
   "source": [
    "str1[:]"
   ]
  },
  {
   "cell_type": "code",
   "execution_count": 23,
   "id": "26da4186-8769-4544-9c25-d0bf3b97e220",
   "metadata": {},
   "outputs": [
    {
     "data": {
      "text/plain": [
       "'uoy era woh olleh'"
      ]
     },
     "execution_count": 23,
     "metadata": {},
     "output_type": "execute_result"
    }
   ],
   "source": [
    "str1[: :-1]"
   ]
  },
  {
   "cell_type": "code",
   "execution_count": 24,
   "id": "9339872f-e066-424a-8b75-4f7034cb6b5b",
   "metadata": {},
   "outputs": [
    {
     "data": {
      "text/plain": [
       "'hello how are you'"
      ]
     },
     "execution_count": 24,
     "metadata": {},
     "output_type": "execute_result"
    }
   ],
   "source": [
    "str1[::]"
   ]
  },
  {
   "cell_type": "code",
   "execution_count": 26,
   "id": "ecdb50f5-f013-4955-97a7-7a0a6ac6da35",
   "metadata": {},
   "outputs": [
    {
     "data": {
      "text/plain": [
       "54321"
      ]
     },
     "execution_count": 26,
     "metadata": {},
     "output_type": "execute_result"
    }
   ],
   "source": [
    "num=12345\n",
    "int(str(num)[: :-1])"
   ]
  },
  {
   "cell_type": "markdown",
   "id": "afeac179-f2b2-44ba-8f51-9aaea437074b",
   "metadata": {},
   "source": [
    "- basic representation\n",
    "\n",
    "- inbuilt functions\n",
    "\n",
    "     - min max len type sum reversed sorted\n",
    "\n",
    "- concatenation\n",
    "\n",
    "- index\n",
    "\n",
    "- in vs range\n",
    "\n",
    "- mutable vs immutable\n",
    "\n",
    "- slice"
   ]
  },
  {
   "cell_type": "markdown",
   "id": "94c36d0a-fd1f-40d4-97c0-193e569e43e5",
   "metadata": {},
   "source": [
    "## methods"
   ]
  },
  {
   "cell_type": "code",
   "execution_count": 28,
   "id": "32dcd39a-95ff-4d8f-8fff-c669b3a73568",
   "metadata": {},
   "outputs": [
    {
     "data": {
      "text/plain": [
       "['__add__',\n",
       " '__class__',\n",
       " '__contains__',\n",
       " '__delattr__',\n",
       " '__dir__',\n",
       " '__doc__',\n",
       " '__eq__',\n",
       " '__format__',\n",
       " '__ge__',\n",
       " '__getattribute__',\n",
       " '__getitem__',\n",
       " '__getnewargs__',\n",
       " '__getstate__',\n",
       " '__gt__',\n",
       " '__hash__',\n",
       " '__init__',\n",
       " '__init_subclass__',\n",
       " '__iter__',\n",
       " '__le__',\n",
       " '__len__',\n",
       " '__lt__',\n",
       " '__mod__',\n",
       " '__mul__',\n",
       " '__ne__',\n",
       " '__new__',\n",
       " '__reduce__',\n",
       " '__reduce_ex__',\n",
       " '__repr__',\n",
       " '__rmod__',\n",
       " '__rmul__',\n",
       " '__setattr__',\n",
       " '__sizeof__',\n",
       " '__str__',\n",
       " '__subclasshook__',\n",
       " 'capitalize',\n",
       " 'casefold',\n",
       " 'center',\n",
       " 'count',\n",
       " 'encode',\n",
       " 'endswith',\n",
       " 'expandtabs',\n",
       " 'find',\n",
       " 'format',\n",
       " 'format_map',\n",
       " 'index',\n",
       " 'isalnum',\n",
       " 'isalpha',\n",
       " 'isascii',\n",
       " 'isdecimal',\n",
       " 'isdigit',\n",
       " 'isidentifier',\n",
       " 'islower',\n",
       " 'isnumeric',\n",
       " 'isprintable',\n",
       " 'isspace',\n",
       " 'istitle',\n",
       " 'isupper',\n",
       " 'join',\n",
       " 'ljust',\n",
       " 'lower',\n",
       " 'lstrip',\n",
       " 'maketrans',\n",
       " 'partition',\n",
       " 'removeprefix',\n",
       " 'removesuffix',\n",
       " 'replace',\n",
       " 'rfind',\n",
       " 'rindex',\n",
       " 'rjust',\n",
       " 'rpartition',\n",
       " 'rsplit',\n",
       " 'rstrip',\n",
       " 'split',\n",
       " 'splitlines',\n",
       " 'startswith',\n",
       " 'strip',\n",
       " 'swapcase',\n",
       " 'title',\n",
       " 'translate',\n",
       " 'upper',\n",
       " 'zfill']"
      ]
     },
     "execution_count": 28,
     "metadata": {},
     "output_type": "execute_result"
    }
   ],
   "source": [
    "name='python'\n",
    "dir(name)  # dir(' ')"
   ]
  },
  {
   "cell_type": "markdown",
   "id": "af964df5-67e6-4c8f-9e94-343c02bb5694",
   "metadata": {},
   "source": [
    "**upper**"
   ]
  },
  {
   "cell_type": "code",
   "execution_count": 31,
   "id": "317ddf6b-51c6-478e-81df-96315371314c",
   "metadata": {},
   "outputs": [
    {
     "data": {
      "text/plain": [
       "'WELCOME'"
      ]
     },
     "execution_count": 31,
     "metadata": {},
     "output_type": "execute_result"
    }
   ],
   "source": [
    "str1='welcome'# is the package\n",
    "str1.upper()"
   ]
  },
  {
   "cell_type": "code",
   "execution_count": 33,
   "id": "87b97795-7d74-4c2e-bdad-ad8e30d4f187",
   "metadata": {},
   "outputs": [
    {
     "data": {
      "text/plain": [
       "'welcome'"
      ]
     },
     "execution_count": 33,
     "metadata": {},
     "output_type": "execute_result"
    }
   ],
   "source": [
    "str1='WELCOME'\n",
    "str1.lower()"
   ]
  },
  {
   "cell_type": "code",
   "execution_count": 43,
   "id": "74672ecb-7dd8-431e-9769-67f513d34d6f",
   "metadata": {},
   "outputs": [
    {
     "data": {
      "text/plain": [
       "'Welcome'"
      ]
     },
     "execution_count": 43,
     "metadata": {},
     "output_type": "execute_result"
    }
   ],
   "source": [
    "str1='WELCOME'\n",
    "str1.title()"
   ]
  },
  {
   "cell_type": "code",
   "execution_count": 41,
   "id": "238dd63c-806d-428b-87bd-0e753c211789",
   "metadata": {},
   "outputs": [
    {
     "data": {
      "text/plain": [
       "'Welcome'"
      ]
     },
     "execution_count": 41,
     "metadata": {},
     "output_type": "execute_result"
    }
   ],
   "source": [
    "str1='WELCOME'\n",
    "str1.capitalize()"
   ]
  },
  {
   "cell_type": "code",
   "execution_count": 42,
   "id": "087f3664-3fa4-43f7-94ce-9511410fff43",
   "metadata": {},
   "outputs": [
    {
     "data": {
      "text/plain": [
       "'welcome'"
      ]
     },
     "execution_count": 42,
     "metadata": {},
     "output_type": "execute_result"
    }
   ],
   "source": [
    "str1='WELCOME'\n",
    "str1.casefold()"
   ]
  },
  {
   "cell_type": "markdown",
   "id": "55af4886-55d9-4050-a9e0-77ab36d427b0",
   "metadata": {},
   "source": [
    "**difference between methods and inbuilt functions**"
   ]
  },
  {
   "cell_type": "code",
   "execution_count": null,
   "id": "86ab4c2e-53eb-4c73-9b79-431c8f91dd32",
   "metadata": {},
   "outputs": [],
   "source": [
    "############# Inbuilt ########################\n",
    "len()\n",
    "max()\n",
    "min()\n",
    "type()\n",
    "print()\n",
    "sum()\n",
    "####################################\n",
    "str1.upper()\n",
    "str1.lower()\n",
    "str1.title()\n",
    "str1.capitalize()\n",
    "str1.casefold()"
   ]
  },
  {
   "cell_type": "code",
   "execution_count": 51,
   "id": "bf4376a8-5f3a-4980-85c2-0b08b6172ffb",
   "metadata": {},
   "outputs": [
    {
     "data": {
      "text/plain": [
       "'WELCOME*'"
      ]
     },
     "execution_count": 51,
     "metadata": {},
     "output_type": "execute_result"
    }
   ],
   "source": [
    "str1='WELCOME'\n",
    "str1.center(8,'*')\n",
    "\n",
    "# 3 starts + python(6)+ 4*\n",
    "# 4* + 6 +3*\n",
    "# here 12 means the len of string becomes 12 characters\n",
    "# already 'python' string has 6 charcters\n",
    "# so remaining 6 characters padd as *"
   ]
  },
  {
   "cell_type": "code",
   "execution_count": null,
   "id": "8b095807-7af5-4fae-b996-72f6fae254f4",
   "metadata": {},
   "outputs": [],
   "source": [
    "# assume that i already have\n",
    "# string='***python'"
   ]
  },
  {
   "cell_type": "markdown",
   "id": "fbdbff67-f9c8-45c2-a60e-96957bef641a",
   "metadata": {},
   "source": [
    "**strip-lstrip-rstrip**\n",
    "\n",
    "- strip will remove the characters both left and right side\n",
    "\n",
    "- lstrip will remove the characters on left side\n",
    "\n",
    "- rstrip will remove the characters on right side"
   ]
  },
  {
   "cell_type": "code",
   "execution_count": 52,
   "id": "160ea2d2-4925-454b-93e5-cdea4368b090",
   "metadata": {},
   "outputs": [
    {
     "data": {
      "text/plain": [
       "'python'"
      ]
     },
     "execution_count": 52,
     "metadata": {},
     "output_type": "execute_result"
    }
   ],
   "source": [
    "str1='  python   '\n",
    "str1.strip()"
   ]
  },
  {
   "cell_type": "code",
   "execution_count": 53,
   "id": "9f16fa59-1c72-4772-88e9-d6b97d06928c",
   "metadata": {},
   "outputs": [
    {
     "data": {
      "text/plain": [
       "'***python***'"
      ]
     },
     "execution_count": 53,
     "metadata": {},
     "output_type": "execute_result"
    }
   ],
   "source": [
    "str1='***python***'\n",
    "str1.strip()"
   ]
  },
  {
   "cell_type": "code",
   "execution_count": 54,
   "id": "f62f6887-6686-4eea-b9e0-729d6b6ecf75",
   "metadata": {},
   "outputs": [
    {
     "data": {
      "text/plain": [
       "'python***'"
      ]
     },
     "execution_count": 54,
     "metadata": {},
     "output_type": "execute_result"
    }
   ],
   "source": [
    "str1='   python***'\n",
    "str1.strip()"
   ]
  },
  {
   "cell_type": "code",
   "execution_count": 57,
   "id": "2d4e309e-aa99-422a-b95f-d6d74ffc5b3a",
   "metadata": {},
   "outputs": [
    {
     "data": {
      "text/plain": [
       "'python   '"
      ]
     },
     "execution_count": 57,
     "metadata": {},
     "output_type": "execute_result"
    }
   ],
   "source": [
    "str1='  python   '\n",
    "str1.lstrip()"
   ]
  },
  {
   "cell_type": "code",
   "execution_count": 56,
   "id": "5a01cf11-16c7-4076-b22f-79a8c0a37a24",
   "metadata": {},
   "outputs": [
    {
     "data": {
      "text/plain": [
       "'***python***'"
      ]
     },
     "execution_count": 56,
     "metadata": {},
     "output_type": "execute_result"
    }
   ],
   "source": [
    "str1='***python***'\n",
    "str1.lstrip()"
   ]
  },
  {
   "cell_type": "code",
   "execution_count": 1,
   "id": "cf837d2e-3263-42be-b696-7ac2871060bc",
   "metadata": {},
   "outputs": [
    {
     "data": {
      "text/plain": [
       "'python***'"
      ]
     },
     "execution_count": 1,
     "metadata": {},
     "output_type": "execute_result"
    }
   ],
   "source": [
    "str1='   python***'\n",
    "str1.lstrip()"
   ]
  },
  {
   "cell_type": "code",
   "execution_count": 59,
   "id": "167b993d-842b-4df1-b166-00d358450341",
   "metadata": {},
   "outputs": [
    {
     "data": {
      "text/plain": [
       "'  python'"
      ]
     },
     "execution_count": 59,
     "metadata": {},
     "output_type": "execute_result"
    }
   ],
   "source": [
    "str1='  python   '\n",
    "str1.rstrip()"
   ]
  },
  {
   "cell_type": "code",
   "execution_count": 2,
   "id": "01259a7f-2dd5-40f2-84c6-9d7e3796ebf3",
   "metadata": {},
   "outputs": [
    {
     "data": {
      "text/plain": [
       "'***python***'"
      ]
     },
     "execution_count": 2,
     "metadata": {},
     "output_type": "execute_result"
    }
   ],
   "source": [
    "str1='***python***'\n",
    "str1.rstrip()"
   ]
  },
  {
   "cell_type": "code",
   "execution_count": 3,
   "id": "67827299-2b03-40e2-aedc-71d28c11f5a9",
   "metadata": {},
   "outputs": [
    {
     "data": {
      "text/plain": [
       "'   python***'"
      ]
     },
     "execution_count": 3,
     "metadata": {},
     "output_type": "execute_result"
    }
   ],
   "source": [
    "str1='   python***'\n",
    "str1.rstrip()"
   ]
  },
  {
   "cell_type": "markdown",
   "id": "8d07f8b6-454f-4bef-96d1-0aa36638b753",
   "metadata": {},
   "source": [
    "**startswith**"
   ]
  },
  {
   "cell_type": "code",
   "execution_count": 12,
   "id": "28155d2f-d0c9-4e5e-9bcc-3b5e2292b0ab",
   "metadata": {},
   "outputs": [
    {
     "data": {
      "text/plain": [
       "True"
      ]
     },
     "execution_count": 12,
     "metadata": {},
     "output_type": "execute_result"
    }
   ],
   "source": [
    "str1='hello how are you'\n",
    "str1.startswith('h')"
   ]
  },
  {
   "cell_type": "code",
   "execution_count": 15,
   "id": "0155ac53-60c3-4dbf-a1ba-7de77d443d28",
   "metadata": {},
   "outputs": [
    {
     "data": {
      "text/plain": [
       "True"
      ]
     },
     "execution_count": 15,
     "metadata": {},
     "output_type": "execute_result"
    }
   ],
   "source": [
    "str1=\"pravalika\"\n",
    "str1.startswith('p')"
   ]
  },
  {
   "cell_type": "markdown",
   "id": "9dcc94f8-b649-4ebf-aee3-5df8a7a96e0e",
   "metadata": {},
   "source": [
    "**count**"
   ]
  },
  {
   "cell_type": "code",
   "execution_count": 13,
   "id": "267db18c-8292-40cd-bb53-36300482492d",
   "metadata": {},
   "outputs": [],
   "source": [
    "str1='ola ola ola'\n",
    "# in the above string how many 'a' are available"
   ]
  },
  {
   "cell_type": "code",
   "execution_count": 17,
   "id": "ed94fa11-79fb-4669-af25-fe0858688ee7",
   "metadata": {},
   "outputs": [
    {
     "name": "stdout",
     "output_type": "stream",
     "text": [
      "3\n"
     ]
    }
   ],
   "source": [
    "str1='ola ola ola'\n",
    "count=0\n",
    "for i in str1:\n",
    "    if i=='a':\n",
    "        count=count+1 # count+=1\n",
    "print(count)"
   ]
  },
  {
   "cell_type": "code",
   "execution_count": 19,
   "id": "15e35398-77f4-4884-9397-f8c4610e7d63",
   "metadata": {},
   "outputs": [
    {
     "data": {
      "text/plain": [
       "3"
      ]
     },
     "execution_count": 19,
     "metadata": {},
     "output_type": "execute_result"
    }
   ],
   "source": [
    "str1='ola ola ola'\n",
    "str1.count('ola')"
   ]
  },
  {
   "cell_type": "markdown",
   "id": "28007421-bba0-4955-8fc5-4a45e8bca165",
   "metadata": {},
   "source": [
    "$case-2$"
   ]
  },
  {
   "cell_type": "code",
   "execution_count": 21,
   "id": "55aa1a58-4445-41b9-8b67-7f4452248ec5",
   "metadata": {},
   "outputs": [
    {
     "data": {
      "text/plain": [
       "2"
      ]
     },
     "execution_count": 21,
     "metadata": {},
     "output_type": "execute_result"
    }
   ],
   "source": [
    "#o l a   o l a   o l a\n",
    "#0 1 2 3 4 5 6 7 8 9 10\n",
    "str1.count('a',4)"
   ]
  },
  {
   "cell_type": "code",
   "execution_count": 22,
   "id": "d51d79d7-9d59-4699-b7c0-9a332f51753a",
   "metadata": {},
   "outputs": [
    {
     "data": {
      "text/plain": [
       "0"
      ]
     },
     "execution_count": 22,
     "metadata": {},
     "output_type": "execute_result"
    }
   ],
   "source": [
    "str1.count('a',6,4)"
   ]
  },
  {
   "cell_type": "code",
   "execution_count": 23,
   "id": "d360b2a7-cd6a-42e8-b734-a281f0390d08",
   "metadata": {},
   "outputs": [
    {
     "data": {
      "text/plain": [
       "0"
      ]
     },
     "execution_count": 23,
     "metadata": {},
     "output_type": "execute_result"
    }
   ],
   "source": [
    "str1.count('a',4,6)"
   ]
  },
  {
   "cell_type": "code",
   "execution_count": 28,
   "id": "cfc0e0b4-4191-477f-887d-8a66b992d17d",
   "metadata": {},
   "outputs": [
    {
     "data": {
      "text/plain": [
       "1"
      ]
     },
     "execution_count": 28,
     "metadata": {},
     "output_type": "execute_result"
    }
   ],
   "source": [
    "str1.count('o',6)"
   ]
  },
  {
   "cell_type": "code",
   "execution_count": 31,
   "id": "33815d93-f863-46ad-b622-b30434cb7119",
   "metadata": {},
   "outputs": [
    {
     "data": {
      "text/plain": [
       "0"
      ]
     },
     "execution_count": 31,
     "metadata": {},
     "output_type": "execute_result"
    }
   ],
   "source": [
    "str1.count('a',-5,-8)"
   ]
  },
  {
   "cell_type": "code",
   "execution_count": 32,
   "id": "8281a418-fe52-417d-8e3d-21814d5a3d39",
   "metadata": {},
   "outputs": [
    {
     "data": {
      "text/plain": [
       "0"
      ]
     },
     "execution_count": 32,
     "metadata": {},
     "output_type": "execute_result"
    }
   ],
   "source": [
    "str1.count('z')"
   ]
  },
  {
   "cell_type": "markdown",
   "id": "988345de-a91f-493e-a5be-c41979c39be2",
   "metadata": {},
   "source": [
    "**sliding window approach**\n",
    "\n",
    "- fix the slice value first : **str1[i:i+3]**\n",
    "\n",
    "- then increase the slice by 1: **for i in range(len(str1))**\n",
    "\n",
    "- whenever it is equal to substring:**str1[i:i+3]=='ola'**\n",
    "\n",
    "- then update the count:**count=count+1"
   ]
  },
  {
   "cell_type": "code",
   "execution_count": null,
   "id": "bd68688f-a5eb-4758-9fa0-9586545cbb99",
   "metadata": {},
   "outputs": [],
   "source": [
    "str1='ola ola ola'"
   ]
  },
  {
   "cell_type": "code",
   "execution_count": null,
   "id": "376f9e93-b113-4a49-a53e-e30ec0020322",
   "metadata": {},
   "outputs": [],
   "source": [
    "str1.count('ola')"
   ]
  },
  {
   "cell_type": "markdown",
   "id": "c79d7e28-025f-4a08-8e11-ceda9892639c",
   "metadata": {},
   "source": [
    "**replace**"
   ]
  },
  {
   "cell_type": "code",
   "execution_count": 78,
   "id": "32965407-0697-4254-93c5-c14d20486800",
   "metadata": {},
   "outputs": [
    {
     "data": {
      "text/plain": [
       "'weLLLcome'"
      ]
     },
     "execution_count": 78,
     "metadata": {},
     "output_type": "execute_result"
    }
   ],
   "source": []
  },
  {
   "cell_type": "code",
   "execution_count": 72,
   "id": "90b73440-6051-485d-91d0-d152052c3f6f",
   "metadata": {},
   "outputs": [
    {
     "data": {
      "text/plain": [
       "'weLllcome'"
      ]
     },
     "execution_count": 72,
     "metadata": {},
     "output_type": "execute_result"
    }
   ],
   "source": [
    "str1='welllcome'\n",
    "str1.replace('l','L',1)"
   ]
  },
  {
   "cell_type": "code",
   "execution_count": 68,
   "id": "fd4d52cc-b885-4a31-8cdd-f24a0456ad06",
   "metadata": {},
   "outputs": [
    {
     "data": {
      "text/plain": [
       "'welcome'"
      ]
     },
     "execution_count": 68,
     "metadata": {},
     "output_type": "execute_result"
    }
   ],
   "source": [
    "str1.replace('z','z')"
   ]
  },
  {
   "cell_type": "code",
   "execution_count": 79,
   "id": "ef1d3b29-53ea-426b-a56f-4b4e335182bc",
   "metadata": {},
   "outputs": [
    {
     "data": {
      "text/plain": [
       "True"
      ]
     },
     "execution_count": 79,
     "metadata": {},
     "output_type": "execute_result"
    }
   ],
   "source": [
    "str1='welcome'\n",
    "str1[2]=='l'"
   ]
  },
  {
   "cell_type": "markdown",
   "id": "98cdada8-52ec-4f69-9e30-0eb50491418d",
   "metadata": {},
   "source": [
    "- Bye default it will provide all the occurences\n",
    "\n",
    "- The user can provide which indicates how many letters can replace\n",
    "\n",
    "- If the substring not found it will return the original string itself"
   ]
  },
  {
   "cell_type": "code",
   "execution_count": 83,
   "id": "a1fa1e7d-5268-4ae9-91cf-aeb1e1cc1d77",
   "metadata": {},
   "outputs": [
    {
     "data": {
      "text/plain": [
       "'resta$t'"
      ]
     },
     "execution_count": 83,
     "metadata": {},
     "output_type": "execute_result"
    }
   ],
   "source": [
    "str1='restart'\n",
    "str1.replace('rt','$t')"
   ]
  },
  {
   "cell_type": "code",
   "execution_count": 84,
   "id": "6c112ec6-f59e-4e99-ac5d-b5dff3a2f1e4",
   "metadata": {},
   "outputs": [
    {
     "data": {
      "text/plain": [
       "'$esta$t'"
      ]
     },
     "execution_count": 84,
     "metadata": {},
     "output_type": "execute_result"
    }
   ],
   "source": [
    "str1='restart'\n",
    "str1.replace('r','$')"
   ]
  },
  {
   "cell_type": "code",
   "execution_count": 87,
   "id": "515b0f96-2c6e-4368-9cc1-3d0ff21d70bc",
   "metadata": {},
   "outputs": [
    {
     "data": {
      "text/plain": [
       "'resta$t'"
      ]
     },
     "execution_count": 87,
     "metadata": {},
     "output_type": "execute_result"
    }
   ],
   "source": [
    "str1='restart'\n",
    "s1=str1[0:5]\n",
    "s2=str1[5:]\n",
    "s3=s2.replace('r','$')\n",
    "s1+s3"
   ]
  },
  {
   "cell_type": "code",
   "execution_count": 89,
   "id": "ac8f5cad-40cf-4711-a7dd-29e13aba16e1",
   "metadata": {},
   "outputs": [
    {
     "data": {
      "text/plain": [
       "'resta$t'"
      ]
     },
     "execution_count": 89,
     "metadata": {},
     "output_type": "execute_result"
    }
   ],
   "source": [
    "str1='restart'\n",
    "str1[::-1].replace('r','$',1)[::-1]"
   ]
  },
  {
   "cell_type": "markdown",
   "id": "4606235a-b6bc-49b1-ba22-f6a93d1913ff",
   "metadata": {},
   "source": [
    "**index**"
   ]
  },
  {
   "cell_type": "code",
   "execution_count": 94,
   "id": "947cae17-94d6-478e-b3de-9fc443ae9e95",
   "metadata": {},
   "outputs": [
    {
     "data": {
      "text/plain": [
       "(3, 0)"
      ]
     },
     "execution_count": 94,
     "metadata": {},
     "output_type": "execute_result"
    }
   ],
   "source": [
    "str1='restart restart'\n",
    "str1.index('t'),str1.index('r')\n",
    "# by default first string index will come"
   ]
  },
  {
   "cell_type": "code",
   "execution_count": 96,
   "id": "541183aa-56a7-40fc-a9b5-33896aefbe2c",
   "metadata": {},
   "outputs": [
    {
     "ename": "ValueError",
     "evalue": "substring not found",
     "output_type": "error",
     "traceback": [
      "\u001b[1;31m---------------------------------------------------------------------------\u001b[0m",
      "\u001b[1;31mValueError\u001b[0m                                Traceback (most recent call last)",
      "Cell \u001b[1;32mIn[96], line 2\u001b[0m\n\u001b[0;32m      1\u001b[0m str1\u001b[38;5;241m=\u001b[39m\u001b[38;5;124m'\u001b[39m\u001b[38;5;124mrestart\u001b[39m\u001b[38;5;124m'\u001b[39m\n\u001b[1;32m----> 2\u001b[0m str1\u001b[38;5;241m.\u001b[39mindex(\u001b[38;5;124m'\u001b[39m\u001b[38;5;124mz\u001b[39m\u001b[38;5;124m'\u001b[39m)\n",
      "\u001b[1;31mValueError\u001b[0m: substring not found"
     ]
    }
   ],
   "source": [
    "str1='restart'\n",
    "str1.index('z')"
   ]
  },
  {
   "cell_type": "code",
   "execution_count": 99,
   "id": "7d77fec0-5e99-4b9d-b2de-a8d9c1ce892f",
   "metadata": {},
   "outputs": [
    {
     "data": {
      "text/plain": [
       "13"
      ]
     },
     "execution_count": 99,
     "metadata": {},
     "output_type": "execute_result"
    }
   ],
   "source": [
    "str1='restart restart'\n",
    "str1.index('r') # 0\n",
    "str1.index('r',1) # 1= 0+1\n",
    "str1.index('r',6) # 6= 5+1\n",
    "str1.index('r',9) # 9= 8+1"
   ]
  },
  {
   "cell_type": "code",
   "execution_count": 100,
   "id": "51ff69e6-6838-4a15-a154-e8f1ed8d30c1",
   "metadata": {},
   "outputs": [
    {
     "data": {
      "text/plain": [
       "0"
      ]
     },
     "execution_count": 100,
     "metadata": {},
     "output_type": "execute_result"
    }
   ],
   "source": [
    "str1='restart restart'\n",
    "str1.index('r')"
   ]
  },
  {
   "cell_type": "code",
   "execution_count": 103,
   "id": "b196c935-412f-46a9-8e1d-39250f27d62b",
   "metadata": {},
   "outputs": [
    {
     "name": "stdout",
     "output_type": "stream",
     "text": [
      "0 5 8 13\n"
     ]
    }
   ],
   "source": [
    "str1='restart restart'\n",
    "i1=str1.index('r') # 0\n",
    "i2=str1.index('r',i1+1) # 1= 0+1\n",
    "i3=str1.index('r',i2+1) # 6= 5+1\n",
    "i4=str1.index('r',i3+1) # 9= 8+1\n",
    "print(i1,i2,i3,i4)"
   ]
  },
  {
   "cell_type": "code",
   "execution_count": 107,
   "id": "1c4888cc-2853-4b68-8e4a-8d5052ba506c",
   "metadata": {},
   "outputs": [
    {
     "name": "stdout",
     "output_type": "stream",
     "text": [
      "5\n"
     ]
    }
   ],
   "source": [
    "str1='restart restart'\n",
    "i2=str1.index('r',i1+1)\n",
    "print(i1)"
   ]
  },
  {
   "cell_type": "markdown",
   "id": "30f3d6b7-3753-4189-894b-7408ba4deb9c",
   "metadata": {},
   "source": [
    "**Find**\n",
    "\n"
   ]
  },
  {
   "cell_type": "code",
   "execution_count": 114,
   "id": "557a1ce9-6d83-4091-ae70-4260b07e2547",
   "metadata": {},
   "outputs": [
    {
     "data": {
      "text/plain": [
       "0"
      ]
     },
     "execution_count": 114,
     "metadata": {},
     "output_type": "execute_result"
    }
   ],
   "source": [
    "str1='restart'\n",
    "str1.count('z')"
   ]
  },
  {
   "cell_type": "code",
   "execution_count": null,
   "id": "c5cf99d8-d1de-4d91-b043-c6a36f658c22",
   "metadata": {},
   "outputs": [],
   "source": [
    "# count find index replace"
   ]
  },
  {
   "cell_type": "code",
   "execution_count": 3,
   "id": "0a43a255-9ad7-44da-aa84-3c590b5f31f8",
   "metadata": {},
   "outputs": [
    {
     "data": {
      "text/plain": [
       "'hello'"
      ]
     },
     "execution_count": 3,
     "metadata": {},
     "output_type": "execute_result"
    }
   ],
   "source": [
    "str1='virat.kohli@rcb.com'\n",
    "str2='rohit.sharma@mi.com'\n",
    "str3='ms.dhoni@csk.com'\n",
    "# extract the firstname from str1.virat\n",
    "# extract the second name from str1.kohli\n",
    "# extract the company name from str1.rcb\n",
    "str4='a.b@c.com'\n",
    "\n",
    "# Idea: try to get the trigger points\n",
    "str1='hello how'\n",
    "str1[0:5]\n",
    "# step-1: first extract . index\n",
    "# step-2 extract the @ index\n",
    "# step-3 extract the second . dot index"
   ]
  },
  {
   "cell_type": "code",
   "execution_count": 17,
   "id": "e5dd8adb-421b-4577-94ee-7b4efba27165",
   "metadata": {},
   "outputs": [
    {
     "data": {
      "text/plain": [
       "('ms', 'dhoni', 'csk')"
      ]
     },
     "execution_count": 17,
     "metadata": {},
     "output_type": "execute_result"
    }
   ],
   "source": [
    "str1='virat.kohli@rcb.com'\n",
    "str2='rohit.sharma@mi.com'\n",
    "str3='ms.dhoni@csk.com'\n",
    "str4='a.b@c.com'\n",
    "str1[0:5],str1[6:11],str1[12:15]\n",
    "str2[0:5],str2[6:12],str2[13:15]\n",
    "str3[0:2],str3[3:8],str3[9:12]"
   ]
  },
  {
   "cell_type": "code",
   "execution_count": 14,
   "id": "df78f9da-2c8a-49b9-8ad8-88fe7054c418",
   "metadata": {},
   "outputs": [
    {
     "data": {
      "text/plain": [
       "15"
      ]
     },
     "execution_count": 14,
     "metadata": {},
     "output_type": "execute_result"
    }
   ],
   "source": [
    "str1.index('.',5+1)"
   ]
  },
  {
   "cell_type": "code",
   "execution_count": 16,
   "id": "7db3e74a-8c24-4329-a76e-fba44fdfdb85",
   "metadata": {},
   "outputs": [
    {
     "data": {
      "text/plain": [
       "11"
      ]
     },
     "execution_count": 16,
     "metadata": {},
     "output_type": "execute_result"
    }
   ],
   "source": [
    "str1.index('@')"
   ]
  },
  {
   "cell_type": "code",
   "execution_count": 18,
   "id": "1fff844a-e0ee-4902-b301-5b4fc2d00557",
   "metadata": {},
   "outputs": [
    {
     "data": {
      "text/plain": [
       "('virat', 'kohli', 'rcb')"
      ]
     },
     "execution_count": 18,
     "metadata": {},
     "output_type": "execute_result"
    }
   ],
   "source": [
    "str1[0:5],str1[6:11],str1[12:15]"
   ]
  },
  {
   "cell_type": "code",
   "execution_count": 19,
   "id": "8f86dc72-b320-4ab1-a776-86add5351bd2",
   "metadata": {},
   "outputs": [
    {
     "data": {
      "text/plain": [
       "('rohit', 'sharma', 'mi')"
      ]
     },
     "execution_count": 19,
     "metadata": {},
     "output_type": "execute_result"
    }
   ],
   "source": [
    "str2[0:5],str2[6:12],str2[13:15]"
   ]
  },
  {
   "cell_type": "code",
   "execution_count": 20,
   "id": "294806f5-14d7-4bdb-b336-6961f736f637",
   "metadata": {},
   "outputs": [
    {
     "data": {
      "text/plain": [
       "('ms', 'dhoni', 'csk')"
      ]
     },
     "execution_count": 20,
     "metadata": {},
     "output_type": "execute_result"
    }
   ],
   "source": [
    "str3[0:2],str3[3:8],str3[9:12]"
   ]
  },
  {
   "cell_type": "code",
   "execution_count": 23,
   "id": "12a04649-ed32-4228-9f1f-47cddfae9a45",
   "metadata": {},
   "outputs": [
    {
     "name": "stdout",
     "output_type": "stream",
     "text": [
      "5\n",
      "virat\n"
     ]
    }
   ],
   "source": [
    "str1='virat.kohli@rcb.com'\n",
    "first_dot=str1.index('.')\n",
    "print(first_dot)\n",
    "first_name=str1[:first_dot]\n",
    "print(first_name)"
   ]
  },
  {
   "cell_type": "code",
   "execution_count": null,
   "id": "f4935089-71d3-43b0-b1f6-539078cc6422",
   "metadata": {},
   "outputs": [],
   "source": [
    "def extract(str1):\n",
    "    first_dot=str1.index('.')\n",
    "    second_dot=str1.index('.',first_dot+1)\n",
    "    at_the_rate=str1.index('@')\n",
    "    first\n",
    "    "
   ]
  },
  {
   "cell_type": "markdown",
   "id": "f4534f85-5ac3-465d-8416-205736c93005",
   "metadata": {},
   "source": [
    "**split**"
   ]
  },
  {
   "cell_type": "markdown",
   "id": "9e927ecf-ee0f-47b9-a43f-a971fbc719af",
   "metadata": {},
   "source": [
    "- split is used to convert a string to list of elements\n",
    "\n",
    "- by default it will split based on space"
   ]
  },
  {
   "cell_type": "code",
   "execution_count": 24,
   "id": "6f57a3d6-a6c5-4961-959b-698a43fdd596",
   "metadata": {},
   "outputs": [
    {
     "data": {
      "text/plain": [
       "['hai', 'how,', 'are', 'you']"
      ]
     },
     "execution_count": 24,
     "metadata": {},
     "output_type": "execute_result"
    }
   ],
   "source": [
    "str1='hai how, are you'\n",
    "str1.split()"
   ]
  },
  {
   "cell_type": "code",
   "execution_count": 26,
   "id": "edb76286-04f8-4576-80fb-11779ed0114d",
   "metadata": {},
   "outputs": [
    {
     "data": {
      "text/plain": [
       "['hai how', 'are you']"
      ]
     },
     "execution_count": 26,
     "metadata": {},
     "output_type": "execute_result"
    }
   ],
   "source": [
    "str1='hai how,are you'\n",
    "str1.split(',')"
   ]
  },
  {
   "cell_type": "code",
   "execution_count": 27,
   "id": "f2d7b67c-aa16-4b97-b685-43eaf59f2f29",
   "metadata": {},
   "outputs": [
    {
     "data": {
      "text/plain": [
       "['hai', 'how,are', 'you']"
      ]
     },
     "execution_count": 27,
     "metadata": {},
     "output_type": "execute_result"
    }
   ],
   "source": [
    "str1='hai how,are you'\n",
    "str1.split()"
   ]
  },
  {
   "cell_type": "code",
   "execution_count": 38,
   "id": "9688227c-f607-4f98-9ff8-b219d1d1bcea",
   "metadata": {},
   "outputs": [
    {
     "data": {
      "text/plain": [
       "[' hell', ' hai h', 'w are y', 'u']"
      ]
     },
     "execution_count": 38,
     "metadata": {},
     "output_type": "execute_result"
    }
   ],
   "source": [
    "str1=' hello hai how are you'\n",
    "str1.split('o')\n",
    "# 'hell', 'hai h', 'w are y', 'u'"
   ]
  },
  {
   "cell_type": "markdown",
   "id": "3eac906d-b198-49a6-a8b3-95f34087a5b8",
   "metadata": {},
   "source": [
    "**join**"
   ]
  },
  {
   "cell_type": "code",
   "execution_count": 34,
   "id": "77f1ba50-9933-4ea2-8f7b-77403bfdfb1f",
   "metadata": {},
   "outputs": [
    {
     "data": {
      "text/plain": [
       "'hai how are you'"
      ]
     },
     "execution_count": 34,
     "metadata": {},
     "output_type": "execute_result"
    }
   ],
   "source": [
    "str1='hai how are you'\n",
    "l=str1.split() # how it is splitted = ' '\n",
    "l\n",
    "' '.join(l)"
   ]
  },
  {
   "cell_type": "code",
   "execution_count": 35,
   "id": "7ba616fb-4da3-4d74-a852-1d0e4484286d",
   "metadata": {},
   "outputs": [
    {
     "data": {
      "text/plain": [
       "'hai,how,are,you'"
      ]
     },
     "execution_count": 35,
     "metadata": {},
     "output_type": "execute_result"
    }
   ],
   "source": [
    "str1='hai how,are you'\n",
    "str1.split(',')\n",
    "l\n",
    "\n",
    "','.join(l)"
   ]
  },
  {
   "cell_type": "code",
   "execution_count": 42,
   "id": "b35469e9-4076-4639-a388-df35431e91eb",
   "metadata": {},
   "outputs": [
    {
     "data": {
      "text/plain": [
       "'hello hai how are you'"
      ]
     },
     "execution_count": 42,
     "metadata": {},
     "output_type": "execute_result"
    }
   ],
   "source": [
    "str1='hello hai how are you'\n",
    "l=str1.split('o')\n",
    "l\n",
    "\n",
    "'o'. join(l)"
   ]
  },
  {
   "cell_type": "markdown",
   "id": "ce93fa5f-4b8a-4e7d-80b2-7a6e16bf3ede",
   "metadata": {},
   "source": [
    "- upper/lower/casefold\n",
    "\n",
    "- title/capitalize\n",
    "\n",
    "- centre\n",
    "\n",
    "- lstrip/rstrip/strip\n",
    "\n",
    "- count"
   ]
  },
  {
   "cell_type": "code",
   "execution_count": null,
   "id": "6a1b8e2c-6a02-4a02-b308-a47150120158",
   "metadata": {},
   "outputs": [],
   "source": []
  }
 ],
 "metadata": {
  "kernelspec": {
   "display_name": "Python 3 (ipykernel)",
   "language": "python",
   "name": "python3"
  },
  "language_info": {
   "codemirror_mode": {
    "name": "ipython",
    "version": 3
   },
   "file_extension": ".py",
   "mimetype": "text/x-python",
   "name": "python",
   "nbconvert_exporter": "python",
   "pygments_lexer": "ipython3",
   "version": "3.12.7"
  }
 },
 "nbformat": 4,
 "nbformat_minor": 5
}
