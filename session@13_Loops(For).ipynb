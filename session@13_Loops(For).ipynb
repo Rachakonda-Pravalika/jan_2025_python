{
 "cells": [
  {
   "cell_type": "code",
   "execution_count": 5,
   "id": "5cfdd945-6e60-49b6-ba3c-cef7b373cda2",
   "metadata": {},
   "outputs": [
    {
     "name": "stdin",
     "output_type": "stream",
     "text": [
      "enter the salary: 100000\n",
      "tax percentage: 100\n"
     ]
    },
    {
     "name": "stdout",
     "output_type": "stream",
     "text": [
      "100000.0\n"
     ]
    }
   ],
   "source": [
    "salary=eval(input('enter the salary:'))\n",
    "tax_per=eval(input('tax percentage:'))\n",
    "tax_pay=salary*tax_per/100\n",
    "print(tax_pay)"
   ]
  },
  {
   "cell_type": "markdown",
   "id": "8159cb88-bdc7-4925-8a08-59479323fa6a",
   "metadata": {},
   "source": [
    "**Loops**\n",
    "\n",
    "- loops are used to iterate the code multiple times \n",
    "\n",
    "- functions are used to reuse the code block\n",
    "\n",
    "- that code block can be repeated multiple times\n",
    "\n",
    "- whenever you are doing same task multiple times then think abount loop\n",
    "\n",
    "- we have two loops\n",
    "\n",
    "    - for loop\n",
    "\n",
    "    - while loop\n",
    "\n",
    "- Any loop we need three things\n",
    "\n",
    "   - Intialization(start point)\n",
    "\n",
    "   - increment or decrement\n",
    "\n",
    "   - condition to stop"
   ]
  },
  {
   "cell_type": "code",
   "execution_count": null,
   "id": "6765ea0d-ee06-429d-9b76-eabb0a70fc26",
   "metadata": {},
   "outputs": [],
   "source": []
  },
  {
   "cell_type": "markdown",
   "id": "966f2772-d7f2-4726-8034-adbf60fbe1d0",
   "metadata": {},
   "source": [
    "**For loop**"
   ]
  },
  {
   "cell_type": "code",
   "execution_count": null,
   "id": "b347c405-d213-4362-b81f-10ea28459cb9",
   "metadata": {},
   "outputs": [],
   "source": [
    "for <variable> in range of (<number>):\n",
    "    <write your code here>"
   ]
  },
  {
   "cell_type": "code",
   "execution_count": 2,
   "id": "a0785c37-c50e-45db-a642-c92560a59219",
   "metadata": {},
   "outputs": [
    {
     "name": "stdout",
     "output_type": "stream",
     "text": [
      "0\n",
      "1\n",
      "2\n",
      "3\n",
      "4\n"
     ]
    }
   ],
   "source": [
    "for i in range(5):\n",
    "    print(i)"
   ]
  },
  {
   "cell_type": "code",
   "execution_count": 4,
   "id": "25f9fa79-fac1-489d-abeb-437c411e099c",
   "metadata": {},
   "outputs": [
    {
     "name": "stdout",
     "output_type": "stream",
     "text": [
      "0\n",
      "1\n",
      "2\n"
     ]
    }
   ],
   "source": [
    "# print(0)\n",
    "# print(1)\n",
    "# print(2)\n",
    "for trump in range(3):\n",
    "    print(trump)"
   ]
  },
  {
   "cell_type": "code",
   "execution_count": 5,
   "id": "77d01802-0437-40e7-8246-1ca53ffc2445",
   "metadata": {},
   "outputs": [
    {
     "name": "stdout",
     "output_type": "stream",
     "text": [
      "0 1 2 "
     ]
    }
   ],
   "source": [
    "# print(0,end=' ')\n",
    "# print(1,end=' ')\n",
    "# print(2)\n",
    "for  i in range(3):\n",
    "    print(i,end=' ')"
   ]
  },
  {
   "cell_type": "markdown",
   "id": "0aa3d102-43f7-4a63-aa25-539f6a21fcab",
   "metadata": {},
   "source": [
    "**case-1:range(stop)**\n",
    "\n",
    "- satrt=0 : python index always starts with zero\n",
    "\n",
    "- increment by 1\n",
    "\n",
    "- last=stop-1\n",
    "\n"
   ]
  },
  {
   "cell_type": "code",
   "execution_count": 6,
   "id": "5d55222f-60c6-4bd4-979b-521fe161e529",
   "metadata": {},
   "outputs": [
    {
     "name": "stdout",
     "output_type": "stream",
     "text": [
      "0 1 2 3 4 5 6 7 8 9 "
     ]
    }
   ],
   "source": [
    "for i in range(10):\n",
    "    print(i,end=' ')"
   ]
  },
  {
   "cell_type": "code",
   "execution_count": 7,
   "id": "3819faae-bc96-493f-9370-0babb2f3575e",
   "metadata": {},
   "outputs": [
    {
     "name": "stdout",
     "output_type": "stream",
     "text": [
      "good night\n",
      "good night\n",
      "good night\n"
     ]
    }
   ],
   "source": [
    "print('good night')\n",
    "print('good night')\n",
    "print('good night')"
   ]
  },
  {
   "cell_type": "code",
   "execution_count": 9,
   "id": "d1943cbf-0170-4c63-9ca6-e9d595f2555d",
   "metadata": {},
   "outputs": [
    {
     "name": "stdout",
     "output_type": "stream",
     "text": [
      "good night\n",
      "good night\n",
      "good night\n"
     ]
    }
   ],
   "source": [
    "for i in range(3):\n",
    "    print('good night')"
   ]
  },
  {
   "cell_type": "markdown",
   "id": "a5a9d3db-cdeb-410f-9d29-ce003c1d910e",
   "metadata": {},
   "source": [
    "**case-2:range(start,stop)**\n",
    "\n",
    "- suppose I want to start also inside range\n",
    "\n",
    "- then start also inside range\n",
    "\n",
    "- start=start\n",
    "\n",
    "- increment by 1\n",
    "\n",
    "- last= stop-1\n",
    "\n",
    "- last=stop-1\n",
    "\n",
    "range(10,20)\n",
    "\n",
    "- start=10,increment by 1, last=20-1=19"
   ]
  },
  {
   "cell_type": "code",
   "execution_count": 11,
   "id": "6bcdc7f4-7ef2-4a7e-b1fc-e80ff98face1",
   "metadata": {},
   "outputs": [
    {
     "name": "stdout",
     "output_type": "stream",
     "text": [
      "10 11 12 13 14 15 16 17 18 19 "
     ]
    }
   ],
   "source": [
    "for i in range(10,20):\n",
    "    print(i,end=' ')"
   ]
  },
  {
   "cell_type": "code",
   "execution_count": 14,
   "id": "fcc8652d-c576-4cdc-be69-5e68ed128929",
   "metadata": {},
   "outputs": [
    {
     "name": "stdout",
     "output_type": "stream",
     "text": [
      " the square of 1 is:1\n",
      " the square of 2 is:4\n",
      " the square of 3 is:9\n",
      " the square of 4 is:16\n",
      " the square of 5 is:25\n"
     ]
    }
   ],
   "source": [
    "# wap ask the user print the square first 5 number\n",
    "# square of 1 is 1\n",
    "# square of 2 is 4\n",
    "# so on  \n",
    "\n",
    "for i in range(1,6):\n",
    "    print(f\" the square of {i} is:{i*i}\")"
   ]
  },
  {
   "cell_type": "code",
   "execution_count": 1,
   "id": "802c673f-6789-4073-81ac-5e053e66754b",
   "metadata": {},
   "outputs": [
    {
     "name": "stdin",
     "output_type": "stream",
     "text": [
      "enter the number: 20\n"
     ]
    },
    {
     "name": "stdout",
     "output_type": "stream",
     "text": [
      "the square of 20 is: 400\n"
     ]
    },
    {
     "name": "stdin",
     "output_type": "stream",
     "text": [
      "enter the number: 30\n"
     ]
    },
    {
     "name": "stdout",
     "output_type": "stream",
     "text": [
      "the square of 30 is: 900\n"
     ]
    },
    {
     "name": "stdin",
     "output_type": "stream",
     "text": [
      "enter the number: 40\n"
     ]
    },
    {
     "name": "stdout",
     "output_type": "stream",
     "text": [
      "the square of 40 is: 1600\n"
     ]
    },
    {
     "name": "stdin",
     "output_type": "stream",
     "text": [
      "enter the number: 50\n"
     ]
    },
    {
     "name": "stdout",
     "output_type": "stream",
     "text": [
      "the square of 50 is: 2500\n"
     ]
    },
    {
     "name": "stdin",
     "output_type": "stream",
     "text": [
      "enter the number: 60\n"
     ]
    },
    {
     "name": "stdout",
     "output_type": "stream",
     "text": [
      "the square of 60 is: 3600\n"
     ]
    }
   ],
   "source": [
    "# wap ask the user enter number the prompt should happen 5 times\n",
    "# and print the square of the number\n",
    "for i in range(5):\n",
    "    num=eval(input('enter the number:'))\n",
    "    print(f\"the square of {num} is: {num*num}\")"
   ]
  },
  {
   "cell_type": "code",
   "execution_count": 2,
   "id": "4fdee7eb-8c6a-49dc-adcc-9fa440209323",
   "metadata": {},
   "outputs": [
    {
     "name": "stdin",
     "output_type": "stream",
     "text": [
      "enter the number: 20\n"
     ]
    },
    {
     "name": "stdout",
     "output_type": "stream",
     "text": [
      "the square of 20 is: 400\n"
     ]
    },
    {
     "name": "stdin",
     "output_type": "stream",
     "text": [
      "enter the number: 30\n"
     ]
    },
    {
     "name": "stdout",
     "output_type": "stream",
     "text": [
      "the square of 30 is: 900\n"
     ]
    }
   ],
   "source": [
    "def square():\n",
    "    num=eval(input('enter the number:'))\n",
    "    print(f\"the square of {num} is: {num*num}\")\n",
    "\n",
    "for i in range(2):\n",
    "    square()"
   ]
  },
  {
   "cell_type": "code",
   "execution_count": 1,
   "id": "d5a01c37-ef14-4310-aea2-a104f4a966ad",
   "metadata": {},
   "outputs": [
    {
     "name": "stdin",
     "output_type": "stream",
     "text": [
      "enter the number: 30\n"
     ]
    },
    {
     "name": "stdout",
     "output_type": "stream",
     "text": [
      "the square of 30 is:900\n"
     ]
    },
    {
     "name": "stdin",
     "output_type": "stream",
     "text": [
      "enter the number: 50\n"
     ]
    },
    {
     "name": "stdout",
     "output_type": "stream",
     "text": [
      "the square of 50 is:2500\n"
     ]
    }
   ],
   "source": [
    "def square():\n",
    "    num=eval(input('enter the number:'))\n",
    "    print(f\"the square of {num} is:{num*num}\")\n",
    "\n",
    "for i in range(2):\n",
    "    square()"
   ]
  },
  {
   "cell_type": "code",
   "execution_count": 3,
   "id": "04ca2de0-b413-4e93-bdaf-6acf7f4b2a53",
   "metadata": {},
   "outputs": [
    {
     "name": "stdin",
     "output_type": "stream",
     "text": [
      "enter the number: 4\n"
     ]
    },
    {
     "name": "stdout",
     "output_type": "stream",
     "text": [
      "the square of 4 is:16\n"
     ]
    },
    {
     "name": "stdin",
     "output_type": "stream",
     "text": [
      "enter the number: 7\n"
     ]
    },
    {
     "name": "stdout",
     "output_type": "stream",
     "text": [
      "the square of 7 is:49\n"
     ]
    },
    {
     "name": "stdin",
     "output_type": "stream",
     "text": [
      "enter the number: 9\n"
     ]
    },
    {
     "name": "stdout",
     "output_type": "stream",
     "text": [
      "the square of 9 is:81\n"
     ]
    }
   ],
   "source": [
    "for i in range(133,136):\n",
    "    num=eval(input('enter the number:'))\n",
    "    print(f\"the square of {num} is:{num*num}\")"
   ]
  },
  {
   "cell_type": "markdown",
   "id": "5360c567-81de-401a-973f-e361d766552e",
   "metadata": {},
   "source": [
    "**case-3: range(start,stop,step)**\n",
    "\n",
    "- start=start only\n",
    "\n",
    "- step:\n",
    "\n",
    "   - look about step sign is it positive or negative sign\n",
    "\n",
    "   - positive means increment\n",
    "\n",
    "     - last:stop-1\n",
    "\n",
    "   - negative means decrement\n",
    "\n",
    "      - last:stop+1"
   ]
  },
  {
   "cell_type": "code",
   "execution_count": 24,
   "id": "c4cce74e-a2aa-4b7e-8c97-e06e3f61717b",
   "metadata": {},
   "outputs": [
    {
     "name": "stdout",
     "output_type": "stream",
     "text": [
      "3 5 7 9 11 13 15 17 "
     ]
    }
   ],
   "source": [
    "# example1: range(3,20,2)\n",
    "# start=3\n",
    "# step=+2 positive direction\n",
    "# last = 20-1=19\n",
    "# 3,5,7,9,11,13,15,17\n",
    "for i in range(3,19,2):\n",
    "    print(i,end=' ')"
   ]
  },
  {
   "cell_type": "code",
   "execution_count": 25,
   "id": "711ac7e0-71a3-4de3-8c7f-11c867c4e5c0",
   "metadata": {},
   "outputs": [],
   "source": [
    "# example2: range(3,19,-2)\n",
    "# start=3\n",
    "# step=-2 negative direction\n",
    "# last = 19+1=20\n",
    "for i in range(3,19,-2):\n",
    "    print(i)"
   ]
  },
  {
   "cell_type": "code",
   "execution_count": 28,
   "id": "248613de-b4d3-4bbe-bb50-f8b4f635b835",
   "metadata": {},
   "outputs": [
    {
     "name": "stdout",
     "output_type": "stream",
     "text": [
      "3 1 -1 -3 -5 -7 -9 -11 -13 -15 -17 "
     ]
    }
   ],
   "source": [
    "for i in range(3,-19,-2):\n",
    "    print(i,end=' ')\n",
    "\n",
    "# start=3 dire=nega last= stop+1= -19+1=-18"
   ]
  },
  {
   "cell_type": "code",
   "execution_count": 29,
   "id": "9e8ef4e4-60aa-4eb1-bd06-c53a3d66894e",
   "metadata": {},
   "outputs": [],
   "source": [
    "for i in range(3,-19,2): # no error no answers\n",
    "    print(i,end=' ')"
   ]
  },
  {
   "cell_type": "code",
   "execution_count": null,
   "id": "8e5d2255-19ef-4b63-8096-931b709c0f8d",
   "metadata": {},
   "outputs": [],
   "source": [
    "range(3,15,3) # p\n",
    "range(3,15,-3) # np\n",
    "range(3,-15,3) # np\n",
    "range(-3,15,3) # p \n",
    "range(3,-15,-3) # p\n",
    "range(-3,-15,3) # np\n",
    "range(-3,15,-3) # np\n",
    "range(15,3,3) # np\n",
    "range(15,3,-3) # p\n",
    "range(15,-3,3) # np\n",
    "range(-15,3,3) # p\n",
    "range(-15,3,-3) # np\n",
    "range(-15,-3,3) # p\n",
    "range(-15,-3,-3) # np"
   ]
  },
  {
   "cell_type": "code",
   "execution_count": 1,
   "id": "d5d0a68e-94c2-4471-bd2f-f23cc8282f4e",
   "metadata": {},
   "outputs": [
    {
     "name": "stdout",
     "output_type": "stream",
     "text": [
      "20\n",
      "10\n",
      "0\n",
      "-10\n"
     ]
    }
   ],
   "source": [
    "for i in range(20,-20,-10):\n",
    "    print(i)"
   ]
  },
  {
   "cell_type": "code",
   "execution_count": 5,
   "id": "61cd54b9-3133-4f93-9e89-2d9e6f4af402",
   "metadata": {},
   "outputs": [
    {
     "name": "stdin",
     "output_type": "stream",
     "text": [
      "enter the table number: 9\n"
     ]
    },
    {
     "name": "stdout",
     "output_type": "stream",
     "text": [
      "9x1=9\n",
      "9x2=18\n",
      "9x3=27\n",
      "9x4=36\n",
      "9x5=45\n",
      "9x6=54\n",
      "9x7=63\n",
      "9x8=72\n",
      "9x9=81\n",
      "9x10=90\n",
      "9x11=99\n",
      "9x12=108\n",
      "9x13=117\n",
      "9x14=126\n",
      "9x15=135\n",
      "9x16=144\n",
      "9x17=153\n",
      "9x18=162\n",
      "9x19=171\n"
     ]
    }
   ],
   "source": [
    "# Q4) Print the 7th table\n",
    "# 7x1=7\n",
    "# 7x2=14\n",
    "# 7x3=21\n",
    "# 7xi=num*i\n",
    "num=eval(input('enter the table number:'))\n",
    "for i in range(1,20):\n",
    "    print(f\"{num}x{i}={num*i}\")"
   ]
  },
  {
   "cell_type": "code",
   "execution_count": 7,
   "id": "eab1338b-6f4b-4eba-8a65-bfaf8b8f4768",
   "metadata": {},
   "outputs": [
    {
     "name": "stdin",
     "output_type": "stream",
     "text": [
      "which number divisors you want: 75\n"
     ]
    },
    {
     "name": "stdout",
     "output_type": "stream",
     "text": [
      "1 is a divisor of 75\n",
      "3 is a divisor of 75\n",
      "5 is a divisor of 75\n",
      "15 is a divisor of 75\n",
      "25 is a divisor of 75\n",
      "75 is a divisor of 75\n"
     ]
    }
   ],
   "source": [
    "#Q5) Find the number of divisors of 75\n",
    "# if you divide 75 with any number the reminder should be zero\n",
    "# 75%1==0 True the print 1\n",
    "# 75%2==0 False\n",
    "# 75%3==0 True\n",
    "# 75%4==0 F\n",
    "# 75%5==0 T\n",
    "#\n",
    "# 75%15==0 T\n",
    "#\n",
    "# 75%15==0 T\n",
    "# 75%75==0\n",
    "\n",
    "#if 75%i==0\n",
    "\n",
    "num=eval(input('which number divisors you want:'))\n",
    "for i in range(1,num+1):\n",
    "    if num%i==0:\n",
    "       print(f\"{i} is a divisor of {num}\")"
   ]
  },
  {
   "cell_type": "code",
   "execution_count": 8,
   "id": "bd05cacd-3b6a-4a66-9474-c0245788e187",
   "metadata": {},
   "outputs": [
    {
     "data": {
      "text/plain": [
       "55.0"
      ]
     },
     "execution_count": 8,
     "metadata": {},
     "output_type": "execute_result"
    }
   ],
   "source": [
    "# Q6) sum of first 10 natural numbers \n",
    "# natural : starts from 1\n",
    "# 1+2+3+4+5+6+7+8+9+10=55\n",
    "# n(n+1)/2\n",
    "\n",
    "n=10\n",
    "n*(n+1)/2"
   ]
  },
  {
   "cell_type": "markdown",
   "id": "5ecc8d6e-9352-42d2-839d-30dc122cb88b",
   "metadata": {},
   "source": [
    "**summation wrapper**\n",
    "\n",
    "- starting we intialise the sum value =0\n",
    "\n",
    "- inside loop we will add a simple line : summ=summ+i\n",
    "\n",
    "- summ=0\n",
    "\n",
    "- for loop \n",
    "\n",
    "   - summ=summm+i"
   ]
  },
  {
   "cell_type": "code",
   "execution_count": null,
   "id": "11929059-3eb4-4ca7-b2d3-5afab5fe7cbb",
   "metadata": {},
   "outputs": [],
   "source": [
    "0+1=1\n",
    "1+2=3\n",
    "3+3=6\n",
    "6+4=10\n",
    "10+5=15\n",
    "15+6=21\n",
    "21+7=28\n",
    "28+8=36\n",
    "36+9=45\n",
    "45+10=55\n",
    "op=0\n",
    "op+i=op ==== >  op=op+i"
   ]
  },
  {
   "cell_type": "code",
   "execution_count": 19,
   "id": "52251a9b-b308-4041-a3ca-1d55c477addc",
   "metadata": {},
   "outputs": [
    {
     "name": "stdout",
     "output_type": "stream",
     "text": [
      "55\n"
     ]
    }
   ],
   "source": [
    "summ=0\n",
    "#########################################\n",
    "for i in range(1,11):\n",
    "    summ=summ+i\n",
    "###########################################\n",
    "print(summ)"
   ]
  },
  {
   "cell_type": "code",
   "execution_count": 25,
   "id": "2025c18c-0229-4108-8970-ef382207fa9d",
   "metadata": {},
   "outputs": [
    {
     "name": "stdout",
     "output_type": "stream",
     "text": [
      "0\n",
      "1\n",
      "2\n",
      "3\n"
     ]
    }
   ],
   "source": [
    "num=eval(input('enter the num;'))\n",
    "for val in range(1,num+1):\n",
    "   print(val)"
   ]
  },
  {
   "cell_type": "code",
   "execution_count": 21,
   "id": "583980e3-e430-4ea9-b85e-3b1d9df777c8",
   "metadata": {},
   "outputs": [
    {
     "data": {
      "text/plain": [
       "3"
      ]
     },
     "execution_count": 21,
     "metadata": {},
     "output_type": "execute_result"
    }
   ],
   "source": [
    "val"
   ]
  },
  {
   "cell_type": "code",
   "execution_count": 18,
   "id": "635d0dcf-44e3-4426-abd3-cc493f07ac9b",
   "metadata": {},
   "outputs": [
    {
     "name": "stdin",
     "output_type": "stream",
     "text": [
      "enter the num: 75\n"
     ]
    },
    {
     "name": "stdout",
     "output_type": "stream",
     "text": [
      "1\n",
      "3\n",
      "5\n",
      "15\n",
      "25\n",
      "75\n"
     ]
    },
    {
     "data": {
      "text/plain": [
       "124"
      ]
     },
     "execution_count": 18,
     "metadata": {},
     "output_type": "execute_result"
    }
   ],
   "source": [
    "#Q) find the sum of divisors of 75\n",
    "# 75 : 1,3,5,15,25,75\n",
    "#      1+3+5+15+25+75\n",
    "\n",
    "summ=0\n",
    "\n",
    "num=eval(input('enter the num:'))\n",
    "for i in range(1,num+1):\n",
    "    if num%i==0:\n",
    "        print(i)\n",
    "        summ=summ+i\n",
    "summ"
   ]
  },
  {
   "cell_type": "markdown",
   "id": "141a8b0d-2552-482c-9add-1d4ac5ed654c",
   "metadata": {},
   "source": [
    "# **counter wrapper**\n",
    "\n",
    "- counter means counting the sucess one \n",
    "\n",
    "- count=0\n",
    "\n",
    "- for loop\n",
    "\n",
    "    - count=count+1"
   ]
  },
  {
   "cell_type": "code",
   "execution_count": 17,
   "id": "11852b9f-a5b8-40ef-990a-ca55ffb9fb82",
   "metadata": {},
   "outputs": [
    {
     "name": "stdin",
     "output_type": "stream",
     "text": [
      "enter the num: 75\n"
     ]
    },
    {
     "name": "stdout",
     "output_type": "stream",
     "text": [
      "1\n",
      "3\n",
      "5\n",
      "15\n",
      "25\n",
      "75\n",
      "the number of divisors are: 6\n"
     ]
    }
   ],
   "source": [
    "# Q7) Find the number of divisors of 75\n",
    "count=0\n",
    "num=eval(input('enter the num:'))\n",
    "for i in range(1,num+1):#\n",
    "     if num%i==0:\n",
    "           print(i)\n",
    "           count=count+1\n",
    "print('the number of divisors are:',count)"
   ]
  },
  {
   "cell_type": "code",
   "execution_count": 23,
   "id": "850e8f4a-4518-4789-98c6-894143582250",
   "metadata": {},
   "outputs": [
    {
     "name": "stdout",
     "output_type": "stream",
     "text": [
      "78 is an even\n",
      "57 is an odd\n",
      "49 is an odd\n",
      "91 is an odd\n",
      "62 is an even\n",
      "number of evens are: 2\n",
      "number of odds are: 3\n",
      "sum of evens are: 140\n",
      "sum of odds are: 197\n"
     ]
    }
   ],
   "source": [
    "# Q8)\n",
    "# ask the get 5 random numbers\n",
    "# means you need a get a random number inside for loop\n",
    "# the loop should run 5 times\n",
    "# now perform the even and odd operation\n",
    "# 1) even count # 2) sum of even numbers 3) odd count 4) sum of odd numbers\n",
    "# even_count=0\n",
    "# odd_count=0\n",
    "# even_sum=0\n",
    "# odd_sum=0\n",
    "# for loop\n",
    "#   random\n",
    "#  if even \n",
    "#   summ\n",
    "#   counter\n",
    "# else\n",
    "#   summ\n",
    "#   count\n",
    "import random\n",
    "even_count,odd_count=0,0\n",
    "even_sum,odd_sum=0,0\n",
    "for i in range(5):\n",
    "    num=random.randint(1,100)\n",
    "    if num%2==0:\n",
    "        print(f\"{num} is an even\")\n",
    "        even_count=even_count+1\n",
    "        even_sum=even_sum+num\n",
    "    else:\n",
    "        print(f\"{num} is an odd\")\n",
    "        odd_count=odd_count+1\n",
    "        odd_sum=odd_sum+num\n",
    "print('number of evens are:',even_count)\n",
    "print('number of odds are:',odd_count)\n",
    "print('sum of evens are:',even_sum)\n",
    "print('sum of odds are:',odd_sum)   "
   ]
  },
  {
   "cell_type": "code",
   "execution_count": 24,
   "id": "2fdee301-7c84-4377-8085-ae5fb004c727",
   "metadata": {},
   "outputs": [
    {
     "name": "stdout",
     "output_type": "stream",
     "text": [
      "46 is an even\n",
      "58 is an even\n",
      "65 is an odd\n",
      "66 is an even\n",
      "93 is an odd\n",
      "enter the even num,even_num\n"
     ]
    }
   ],
   "source": [
    "import random\n",
    "for i in range(5):\n",
    "    num=random.randint(1,100)\n",
    "    if num%2==0:\n",
    "       print(f'{num} is an even')\n",
    "    else:\n",
    "       print(f'{num} is an odd')\n",
    "print('enter the even num,even_num')     "
   ]
  },
  {
   "cell_type": "code",
   "execution_count": 12,
   "id": "f109e2d9-3fe9-40d2-b105-7365c0967e0d",
   "metadata": {},
   "outputs": [
    {
     "name": "stdin",
     "output_type": "stream",
     "text": [
      "enter a num: 9\n"
     ]
    },
    {
     "name": "stdout",
     "output_type": "stream",
     "text": [
      "better luck next time\n"
     ]
    },
    {
     "name": "stdin",
     "output_type": "stream",
     "text": [
      "enter a num: 3\n"
     ]
    },
    {
     "name": "stdout",
     "output_type": "stream",
     "text": [
      "better luck next time\n"
     ]
    },
    {
     "name": "stdin",
     "output_type": "stream",
     "text": [
      "enter a num: 5\n"
     ]
    },
    {
     "name": "stdout",
     "output_type": "stream",
     "text": [
      "better luck next time\n"
     ]
    }
   ],
   "source": [
    "# Q9) game program\n",
    "# user enter one num\n",
    "# another number will generate randomly\n",
    "# if both numbers are equal then you won\n",
    "# otherwise you lost\n",
    "# i want to give 3 chances\n",
    "\n",
    "# for loop\n",
    "#   num1=random\n",
    "#   num2=user keyboard\n",
    "#   if num1==num2\n",
    "#      print won\n",
    "#   else\n",
    "#      print fail\n",
    "import random\n",
    "for i in range(3):\n",
    "    n1=random.randint(1,10)\n",
    "    n2=eval(input('enter a num:')) \n",
    "    if n1==n2:\n",
    "        print('you won')\n",
    "    else:\n",
    "        print('better luck next time')"
   ]
  },
  {
   "cell_type": "code",
   "execution_count": 13,
   "id": "2f09bc54-316f-4553-a8b9-d200b62c263f",
   "metadata": {},
   "outputs": [
    {
     "name": "stdout",
     "output_type": "stream",
     "text": [
      "5\n"
     ]
    },
    {
     "name": "stdin",
     "output_type": "stream",
     "text": [
      "enter a num: 3\n"
     ]
    },
    {
     "name": "stdout",
     "output_type": "stream",
     "text": [
      "better luck next time\n",
      "8\n"
     ]
    },
    {
     "name": "stdin",
     "output_type": "stream",
     "text": [
      "enter a num: 2\n"
     ]
    },
    {
     "name": "stdout",
     "output_type": "stream",
     "text": [
      "better luck next time\n",
      "5\n"
     ]
    },
    {
     "name": "stdin",
     "output_type": "stream",
     "text": [
      "enter a num: 4\n"
     ]
    },
    {
     "name": "stdout",
     "output_type": "stream",
     "text": [
      "better luck next time\n"
     ]
    }
   ],
   "source": [
    "import random\n",
    "for i in range(3):\n",
    "    n1=random.randint(1,10)\n",
    "    print(n1)\n",
    "    n2=eval(input('enter a num:'))\n",
    "    if n1==n2:\n",
    "        print('you won')\n",
    "        break\n",
    "    else:\n",
    "        print('better luck next time')"
   ]
  },
  {
   "cell_type": "code",
   "execution_count": null,
   "id": "c6bf4485-3fd9-4048-8458-62d23baf2c3f",
   "metadata": {},
   "outputs": [],
   "source": [
    "# case-1: we apply the break === completed\n",
    "# case-2: whenever the user enter the wroth answer\n",
    "#         better luck next time\n",
    "#         how many chances you are left\n",
    "# case-3: if you lost all the chances\n",
    "#         print try after 24hours time\n",
    "#         dont give time.sleep 24hours katam your zindagi\n",
    "# whatsapp group online and offline"
   ]
  },
  {
   "cell_type": "markdown",
   "id": "282b4616-fd08-4adc-bd86-214f0af15aeb",
   "metadata": {},
   "source": [
    "**in**"
   ]
  },
  {
   "cell_type": "markdown",
   "id": "2bf9022d-be43-417c-be92-9336b41fd6d0",
   "metadata": {},
   "source": [
    "- in for loop we have range and in operator\n",
    "\n",
    "- range is math related word, whenever we use range it expects a number inside range\n",
    "\n",
    "- in operator expects a string "
   ]
  },
  {
   "cell_type": "code",
   "execution_count": 1,
   "id": "e31cf1e1-c8d5-4e24-a514-8e9778255c84",
   "metadata": {},
   "outputs": [
    {
     "name": "stdout",
     "output_type": "stream",
     "text": [
      "0 1 2 3 4 5 6 7 8 9 "
     ]
    }
   ],
   "source": [
    "for i in range(10):\n",
    "    print(i,end=' ')"
   ]
  },
  {
   "cell_type": "code",
   "execution_count": 2,
   "id": "39a458c5-ef0a-4c4a-b6bf-29f0999d583d",
   "metadata": {},
   "outputs": [
    {
     "ename": "TypeError",
     "evalue": "'str' object cannot be interpreted as an integer",
     "output_type": "error",
     "traceback": [
      "\u001b[1;31m---------------------------------------------------------------------------\u001b[0m",
      "\u001b[1;31mTypeError\u001b[0m                                 Traceback (most recent call last)",
      "Cell \u001b[1;32mIn[2], line 1\u001b[0m\n\u001b[1;32m----> 1\u001b[0m \u001b[38;5;28;01mfor\u001b[39;00m i \u001b[38;5;129;01min\u001b[39;00m \u001b[38;5;28mrange\u001b[39m(\u001b[38;5;124m'\u001b[39m\u001b[38;5;124mpython\u001b[39m\u001b[38;5;124m'\u001b[39m):\n\u001b[0;32m      2\u001b[0m     \u001b[38;5;28mprint\u001b[39m(i,end\u001b[38;5;241m=\u001b[39m\u001b[38;5;124m'\u001b[39m\u001b[38;5;124m \u001b[39m\u001b[38;5;124m'\u001b[39m)\n",
      "\u001b[1;31mTypeError\u001b[0m: 'str' object cannot be interpreted as an integer"
     ]
    }
   ],
   "source": [
    "for i in range('python'):\n",
    "    print(i,end=' ')"
   ]
  },
  {
   "cell_type": "code",
   "execution_count": 7,
   "id": "99d092f0-3421-4d0d-9ff7-61f38d4cfd78",
   "metadata": {},
   "outputs": [
    {
     "name": "stdout",
     "output_type": "stream",
     "text": [
      "p y t h o n "
     ]
    }
   ],
   "source": [
    "for i in 'python':\n",
    "    print(i,end=' ')"
   ]
  },
  {
   "cell_type": "code",
   "execution_count": null,
   "id": "1649556b-26c7-4b24-9570-07ed16a482d0",
   "metadata": {},
   "outputs": [],
   "source": [
    "'p' in 'python'\n",
    "\n",
    "'y' in 'python\n",
    "\n",
    "'t' in 'python'\n",
    "\n",
    "'h' in 'python'\n",
    "\n",
    "'o' in 'python'\n",
    "\n",
    "'n' in 'python'\n",
    "\n",
    "i in 'python'"
   ]
  },
  {
   "cell_type": "markdown",
   "id": "2dbbe112-b15b-4780-ba82-16936fac566b",
   "metadata": {},
   "source": [
    "**ASCII**\n",
    "\n",
    "- AMERICAN STANDARD CODE FOR INFORMATION INTERCHANGE"
   ]
  },
  {
   "cell_type": "code",
   "execution_count": 8,
   "id": "c1d644ca-777b-48a3-aea8-6399da4ad138",
   "metadata": {},
   "outputs": [
    {
     "data": {
      "text/plain": [
       "False"
      ]
     },
     "execution_count": 8,
     "metadata": {},
     "output_type": "execute_result"
    }
   ],
   "source": [
    "#'A' ==== 65\n",
    "#'a' ==== 97\n",
    "\n",
    "'A'>'a'   # 65>97"
   ]
  },
  {
   "cell_type": "markdown",
   "id": "9fc9ab85-fcc8-4e44-8927-cc0862aa2253",
   "metadata": {},
   "source": [
    "- How to convert char to number\n",
    "\n",
    "- How to convert number to char"
   ]
  },
  {
   "cell_type": "markdown",
   "id": "d8cd84f3-5ff9-46fc-ac22-48bea943ae0d",
   "metadata": {},
   "source": [
    "**char-ord**"
   ]
  },
  {
   "cell_type": "code",
   "execution_count": 10,
   "id": "1b7bec2c-7804-4a3d-b858-ec70ba906eee",
   "metadata": {},
   "outputs": [
    {
     "data": {
      "text/plain": [
       "65"
      ]
     },
     "execution_count": 10,
     "metadata": {},
     "output_type": "execute_result"
    }
   ],
   "source": [
    "ord('A')"
   ]
  },
  {
   "cell_type": "code",
   "execution_count": 12,
   "id": "c4ab590c-c07e-4a3a-bd95-800a0ea3cc5d",
   "metadata": {},
   "outputs": [
    {
     "data": {
      "text/plain": [
       "'A'"
      ]
     },
     "execution_count": 12,
     "metadata": {},
     "output_type": "execute_result"
    }
   ],
   "source": [
    "chr(65)"
   ]
  },
  {
   "cell_type": "markdown",
   "id": "b357c1f7-8792-4ac3-9204-42ee0f014cec",
   "metadata": {},
   "source": [
    "- so **ord** coverting char to number\n",
    "\n",
    "- **chr** converting number to char"
   ]
  },
  {
   "cell_type": "code",
   "execution_count": 17,
   "id": "6435fab7-0c35-4a1b-88b2-df43571adb60",
   "metadata": {},
   "outputs": [
    {
     "data": {
      "text/plain": [
       "110"
      ]
     },
     "execution_count": 17,
     "metadata": {},
     "output_type": "execute_result"
    }
   ],
   "source": [
    "# wap ask the user get the ASCII numbers from A to Z\n",
    "# print: A:65\n",
    "#        B:66\n",
    "\n",
    "ord('A')\n",
    "ord('B')\n",
    "\n",
    "ord(i)"
   ]
  },
  {
   "cell_type": "code",
   "execution_count": 24,
   "id": "3728617b-7c96-4dfd-b396-89635df57b36",
   "metadata": {},
   "outputs": [
    {
     "name": "stdout",
     "output_type": "stream",
     "text": [
      "A:65\n",
      "B:66\n",
      "C:67\n",
      "D:68\n",
      "E:69\n",
      "F:70\n",
      "G:71\n",
      "H:72\n",
      "I:73\n",
      "J:74\n",
      "K:75\n",
      "L:76\n",
      "M:77\n",
      "N:78\n",
      "O:79\n",
      "P:80\n",
      "Q:81\n",
      "R:82\n",
      "S:83\n",
      "T:84\n",
      "U:85\n",
      "V:86\n",
      "W:87\n",
      "X:88\n",
      "Y:89\n",
      "Z:90\n"
     ]
    }
   ],
   "source": [
    "for i in 'ABCDEFGHIJKLMNOPQRSTUVWXYZ':\n",
    "    print(f'{i}:{ord(i)}')"
   ]
  },
  {
   "cell_type": "markdown",
   "id": "c7ee999f-0127-4521-a233-0521aa6d652b",
   "metadata": {},
   "source": [
    "**package:string**"
   ]
  },
  {
   "cell_type": "code",
   "execution_count": null,
   "id": "545373c0-40e1-45e7-96ed-7d53b64ff4df",
   "metadata": {},
   "outputs": [],
   "source": [
    "import <packagename>\n",
    "dir(<packagename>)\n",
    "in that A to Z will be given by one method tell me that"
   ]
  },
  {
   "cell_type": "code",
   "execution_count": 25,
   "id": "4821a6a9-4d93-45b0-9cee-e94b80e51480",
   "metadata": {},
   "outputs": [
    {
     "data": {
      "text/plain": [
       "['Formatter',\n",
       " 'Template',\n",
       " '_ChainMap',\n",
       " '__all__',\n",
       " '__builtins__',\n",
       " '__cached__',\n",
       " '__doc__',\n",
       " '__file__',\n",
       " '__loader__',\n",
       " '__name__',\n",
       " '__package__',\n",
       " '__spec__',\n",
       " '_re',\n",
       " '_sentinel_dict',\n",
       " '_string',\n",
       " 'ascii_letters',\n",
       " 'ascii_lowercase',\n",
       " 'ascii_uppercase',\n",
       " 'capwords',\n",
       " 'digits',\n",
       " 'hexdigits',\n",
       " 'octdigits',\n",
       " 'printable',\n",
       " 'punctuation',\n",
       " 'whitespace']"
      ]
     },
     "execution_count": 25,
     "metadata": {},
     "output_type": "execute_result"
    }
   ],
   "source": [
    "import string\n",
    "dir(string)"
   ]
  },
  {
   "cell_type": "code",
   "execution_count": 26,
   "id": "1a036e1c-6e3f-4be9-ae0a-ae360e310fed",
   "metadata": {},
   "outputs": [
    {
     "ename": "AttributeError",
     "evalue": "module 'string' has no attribute 'ascii_letter'",
     "output_type": "error",
     "traceback": [
      "\u001b[1;31m---------------------------------------------------------------------------\u001b[0m",
      "\u001b[1;31mAttributeError\u001b[0m                            Traceback (most recent call last)",
      "Cell \u001b[1;32mIn[26], line 1\u001b[0m\n\u001b[1;32m----> 1\u001b[0m string\u001b[38;5;241m.\u001b[39mascii_letter\n",
      "\u001b[1;31mAttributeError\u001b[0m: module 'string' has no attribute 'ascii_letter'"
     ]
    }
   ],
   "source": [
    "string.ascii_letter"
   ]
  },
  {
   "cell_type": "code",
   "execution_count": 30,
   "id": "65b8488e-2724-40fe-91f1-4896b65fec08",
   "metadata": {},
   "outputs": [
    {
     "name": "stdout",
     "output_type": "stream",
     "text": [
      "A:65 B:66 C:67 D:68 E:69 F:70 G:71 H:72 I:73 J:74 K:75 L:76 M:77 N:78 O:79 P:80 Q:81 R:82 S:83 T:84 U:85 V:86 W:87 X:88 Y:89 Z:90 "
     ]
    }
   ],
   "source": [
    "for i in string.ascii_uppercase:\n",
    "     print(f'{i}:{ord(i)}',end=' ')"
   ]
  },
  {
   "cell_type": "code",
   "execution_count": 28,
   "id": "c65387fa-dbc0-4d45-b913-d9340e39752f",
   "metadata": {},
   "outputs": [
    {
     "name": "stdout",
     "output_type": "stream",
     "text": [
      "a:97 b:98 c:99 d:100 e:101 f:102 g:103 h:104 i:105 j:106 k:107 l:108 m:109 n:110 o:111 p:112 q:113 r:114 s:115 t:116 u:117 v:118 w:119 x:120 y:121 z:122 "
     ]
    }
   ],
   "source": [
    "for i in string.ascii_lowercase:\n",
    "    print(f'{i}:{ord(i)}',end=' ')"
   ]
  },
  {
   "cell_type": "code",
   "execution_count": 31,
   "id": "7e8cd410-48bd-4c5d-a348-8855884c2a85",
   "metadata": {},
   "outputs": [
    {
     "name": "stdout",
     "output_type": "stream",
     "text": [
      "!:33 \":34 #:35 $:36 %:37 &:38 ':39 (:40 ):41 *:42 +:43 ,:44 -:45 .:46 /:47 ::58 ;:59 <:60 =:61 >:62 ?:63 @:64 [:91 \\:92 ]:93 ^:94 _:95 `:96 {:123 |:124 }:125 ~:126 "
     ]
    }
   ],
   "source": [
    "for i in string.punctuation:\n",
    "    print(f'{i}:{ord(i)}',end=' ')"
   ]
  },
  {
   "cell_type": "code",
   "execution_count": 36,
   "id": "f3262101-0c3f-49f8-8b20-07776feb8007",
   "metadata": {},
   "outputs": [
    {
     "name": "stdout",
     "output_type": "stream",
     "text": [
      "33:! 34:\" 35:# 36:$ 37:% 38:& 39:' 40:( 41:) 42:* 43:+ 44:, 45:- 46:. 47:/ 48:0 49:1 50:2 51:3 52:4 53:5 54:6 55:7 56:8 57:9 58:: 59:; 60:< 61:= 62:> 63:? 64:@ 65:A 66:B 67:C 68:D 69:E 70:F 71:G 72:H 73:I 74:J 75:K 76:L 77:M 78:N 79:O 80:P 81:Q 82:R 83:S 84:T 85:U 86:V 87:W 88:X 89:Y 90:Z 91:[ 92:\\ 93:] 94:^ 95:_ 96:` 97:a 98:b 99:c 100:d 101:e 102:f 103:g 104:h 105:i 106:j 107:k 108:l 109:m 110:n 111:o 112:p 113:q 114:r 115:s 116:t 117:u 118:v 119:w 120:x 121:y 122:z 123:{ 124:| 125:} 126:~ "
     ]
    }
   ],
   "source": [
    "for i in range(33,127):\n",
    "    print(f'{i}:{chr(i)}',end=' ')"
   ]
  },
  {
   "cell_type": "code",
   "execution_count": 38,
   "id": "8ddb9df0-f5cd-4c97-ab7c-45c62398276b",
   "metadata": {},
   "outputs": [
    {
     "name": "stdout",
     "output_type": "stream",
     "text": [
      "1:\u0001 2:\u0002 3:\u0003 4:\u0004 5:\u0005 6:\u0006 7:\u0007 8 9:\t 10:\n",
      " 14:\u000e 15:\u000f 16:\u0010 17:\u0011 18:\u0012 19:\u0013 20:\u0014 21:\u0015 22:\u0016 23:\u0017 24:\u0018 25:\u0019 26:\u001a 27:\u001b 28:\u001c",
      " 29:\u001d",
      " 30:\u001e",
      " 31:\u001f 32:  33:! "
     ]
    }
   ],
   "source": [
    "for i in range(1,34):\n",
    "    print(f'{i}:{chr(i)}',end=' ')"
   ]
  },
  {
   "cell_type": "code",
   "execution_count": 39,
   "id": "2525ae8d-3f3a-4f48-96cc-95a6abaa84e3",
   "metadata": {},
   "outputs": [
    {
     "name": "stdout",
     "output_type": "stream",
     "text": [
      "2400:ॠ 2401:ॡ 2402:ॢ 2403:ॣ 2404:। 2405:॥ 2406:० 2407:१ 2408:२ 2409:३ 2410:४ 2411:५ 2412:६ 2413:७ 2414:८ 2415:९ 2416:॰ 2417:ॱ 2418:ॲ 2419:ॳ 2420:ॴ 2421:ॵ 2422:ॶ 2423:ॷ 2424:ॸ 2425:ॹ 2426:ॺ 2427:ॻ 2428:ॼ 2429:ॽ 2430:ॾ 2431:ॿ 2432:ঀ 2433:ঁ 2434:ং 2435:ঃ 2436:঄ 2437:অ 2438:আ 2439:ই 2440:ঈ 2441:উ 2442:ঊ 2443:ঋ 2444:ঌ 2445:঍ 2446:঎ 2447:এ 2448:ঐ 2449:঑ 2450:঒ 2451:ও 2452:ঔ 2453:ক 2454:খ 2455:গ "
     ]
    }
   ],
   "source": [
    "for i in range(2400,2456):\n",
    "    print(f'{i}:{chr(i)}',end=' ')"
   ]
  },
  {
   "cell_type": "code",
   "execution_count": 42,
   "id": "7ab66bb0-2fe6-4f98-a885-879f3b870d90",
   "metadata": {},
   "outputs": [
    {
     "name": "stdout",
     "output_type": "stream",
     "text": [
      "3077:అ 3078:ఆ 3079:ఇ 3080:ఈ 3081:ఉ 3082:ఊ 3083:ఋ 3084:ఌ 3085:఍ 3086:ఎ 3087:ఏ 3088:ఐ 3089:఑ 3090:ఒ 3091:ఓ 3092:ఔ 3093:క 3094:ఖ 3095:గ 3096:ఘ 3097:ఙ 3098:చ 3099:ఛ 3100:జ 3101:ఝ 3102:ఞ 3103:ట 3104:ఠ 3105:డ 3106:ఢ 3107:ణ 3108:త 3109:థ 3110:ద 3111:ధ 3112:న 3113:఩ 3114:ప 3115:ఫ 3116:బ 3117:భ 3118:మ 3119:య 3120:ర 3121:ఱ 3122:ల 3123:ళ 3124:ఴ 3125:వ 3126:శ 3127:ష 3128:స 3129:హ 3130:఺ 3131:఻ 3132:఼ 3133:ఽ 3134:ా 3135:ి 3136:ీ 3137:ు 3138:ూ 3139:ృ 3140:ౄ 3141:౅ 3142:ె 3143:ే 3144:ై 3145:౉ 3146:ొ 3147:ో 3148:ౌ 3149:్ "
     ]
    }
   ],
   "source": [
    "for i in range(3077,3150):\n",
    "    print(f'{i}:{chr(i)}',end=' ')"
   ]
  },
  {
   "cell_type": "code",
   "execution_count": null,
   "id": "63000bf5-6ffc-44b8-9dbf-4d643b60080f",
   "metadata": {},
   "outputs": [],
   "source": []
  }
 ],
 "metadata": {
  "kernelspec": {
   "display_name": "Python 3 (ipykernel)",
   "language": "python",
   "name": "python3"
  },
  "language_info": {
   "codemirror_mode": {
    "name": "ipython",
    "version": 3
   },
   "file_extension": ".py",
   "mimetype": "text/x-python",
   "name": "python",
   "nbconvert_exporter": "python",
   "pygments_lexer": "ipython3",
   "version": "3.12.7"
  }
 },
 "nbformat": 4,
 "nbformat_minor": 5
}
