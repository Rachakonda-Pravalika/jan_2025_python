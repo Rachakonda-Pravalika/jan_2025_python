{
 "cells": [
  {
   "cell_type": "markdown",
   "id": "77d73676-120c-481e-863a-676a0ade754d",
   "metadata": {},
   "source": [
    "## Functions\n",
    "\n",
    "- reuse of the code block\n",
    "\n",
    "- Function also called as method\n",
    "\n",
    "- funtion with out arguments\n",
    "\n",
    "- function with arguments\n",
    "\n",
    "- function with default arguments\n",
    "\n",
    "- function with keyword arguments\n",
    "\n",
    "- function with global and local variable\n",
    "\n",
    "- function with return\n",
    "\n",
    "- function in function"
   ]
  },
  {
   "cell_type": "markdown",
   "id": "c5e617ea-e20b-4bcd-82ef-8bf2d0b02980",
   "metadata": {},
   "source": [
    "**Functions with out arguments**"
   ]
  },
  {
   "cell_type": "code",
   "execution_count": null,
   "id": "4f9bde98-f001-44aa-ba8f-65475510aa22",
   "metadata": {},
   "outputs": [],
   "source": [
    "# syntax\n",
    "def <function name>():\n",
    "  <write your lines here>"
   ]
  },
  {
   "cell_type": "code",
   "execution_count": 2,
   "id": "6e7245bd-b164-49e5-9949-db73cdfbfbc1",
   "metadata": {},
   "outputs": [
    {
     "name": "stdout",
     "output_type": "stream",
     "text": [
      "the addition of 100 and 200 is: 300\n"
     ]
    }
   ],
   "source": [
    "num1=100\n",
    "num2=200\n",
    "add=num1+num2\n",
    "print(f'the addition of {num1} and {num2} is: {add}')"
   ]
  },
  {
   "cell_type": "code",
   "execution_count": 3,
   "id": "72fa2ca9-1a34-4458-9cff-0c8e3afe620c",
   "metadata": {},
   "outputs": [],
   "source": [
    "def addition():\n",
    "   num1=eval(input('enter a num1: '))\n",
    "   num2=eval(input('enter a num2: '))\n",
    "   add=num1+num2\n",
    "   print(f'the addition of {num1} and {num2} is: {add}')"
   ]
  },
  {
   "cell_type": "markdown",
   "id": "b5c900fd-34f1-42ae-8e75-6035a17be8d1",
   "metadata": {},
   "source": [
    "#### call the function"
   ]
  },
  {
   "cell_type": "code",
   "execution_count": 4,
   "id": "1c7e78f7-d447-4a3c-857c-2e78c7843889",
   "metadata": {},
   "outputs": [
    {
     "name": "stdin",
     "output_type": "stream",
     "text": [
      "enter a num1:  100\n",
      "enter a num2:  200\n"
     ]
    },
    {
     "name": "stdout",
     "output_type": "stream",
     "text": [
      "the addition of 100 and 200 is: 300\n"
     ]
    }
   ],
   "source": [
    "addition()"
   ]
  },
  {
   "cell_type": "code",
   "execution_count": 5,
   "id": "41f175b4-e201-46d9-ac38-e82546af02ba",
   "metadata": {},
   "outputs": [
    {
     "data": {
      "text/plain": [
       "<bound method Random.randint of <random.Random object at 0x000001C089E10400>>"
      ]
     },
     "execution_count": 5,
     "metadata": {},
     "output_type": "execute_result"
    }
   ],
   "source": [
    "import random\n",
    "random.randint"
   ]
  },
  {
   "cell_type": "code",
   "execution_count": null,
   "id": "0b2e0e79-c95e-4fbb-a91b-be54ed7a3b6c",
   "metadata": {},
   "outputs": [],
   "source": [
    "def addition():\n",
    "    num1=eval(input('enter a num1:'))\n",
    "    num2=eval(input('enter a num2:'))\n",
    "    add=num1+num2\n",
    "    print(f'the addition of {num1) and {num2} is: {add}')\n",
    "\n",
    "addition()"
   ]
  },
  {
   "cell_type": "markdown",
   "id": "3b99c943-b7f3-4abe-9727-1acd7cb200df",
   "metadata": {},
   "source": [
    "**Note**\n",
    "\n",
    " - Function name rules same as variables rules\n",
    "\n",
    "    - No special characters \n",
    "\n",
    "    - No numbers before\n",
    "\n",
    "    - No space between words etc\n",
    "\n",
    "- Function name should not be any keyword\n",
    "\n",
    "- Function name should not be any package names\n",
    "\n",
    "- Function name should not be any your notebook name\n",
    "\n",
    "- Function name should not be any variable which is using inside the function"
   ]
  },
  {
   "cell_type": "code",
   "execution_count": null,
   "id": "a31e6a5c-5458-4c48-9f07-f43cfb27b920",
   "metadata": {},
   "outputs": [],
   "source": [
    "def addition1():\n",
    "    n1=eval(input('enter a num1:'))\n",
    "    n2=eval(input('enter a num2:'))\n",
    "    add1=n11+n2\n",
    "    print(f'the addition of {n1} and {n2} is: {add1}')"
   ]
  },
  {
   "cell_type": "code",
   "execution_count": 6,
   "id": "06b76761-062d-4777-ba10-4d98e4673871",
   "metadata": {},
   "outputs": [
    {
     "name": "stdin",
     "output_type": "stream",
     "text": [
      "enter a num1:  100\n",
      "enter a num2:  200\n"
     ]
    },
    {
     "name": "stdout",
     "output_type": "stream",
     "text": [
      "the addition of 100 and 200 is: 300\n"
     ]
    }
   ],
   "source": [
    "addition1()"
   ]
  },
  {
   "cell_type": "markdown",
   "id": "508d06cd-7b9a-414c-945b-1f5353f05263",
   "metadata": {},
   "source": [
    "- while define the function we does not know whether the error is there or not\n",
    "\n",
    "- for what we need to call the function"
   ]
  },
  {
   "cell_type": "code",
   "execution_count": 7,
   "id": "cc449844-08f1-4334-9faa-266dcd7a87ee",
   "metadata": {},
   "outputs": [
    {
     "ename": "SyntaxError",
     "evalue": "unterminated f-string literal (detected at line 6) (3601438908.py, line 6)",
     "output_type": "error",
     "traceback": [
      "\u001b[1;36m  Cell \u001b[1;32mIn[7], line 6\u001b[1;36m\u001b[0m\n\u001b[1;33m    print(f'the addition of {n1} and {n2} is: {add1},)\u001b[0m\n\u001b[1;37m          ^\u001b[0m\n\u001b[1;31mSyntaxError\u001b[0m\u001b[1;31m:\u001b[0m unterminated f-string literal (detected at line 6)\n"
     ]
    }
   ],
   "source": [
    "try:\n",
    "    def addition1():\n",
    "        n1=eval(input('enter a num1:'))\n",
    "        n2=eval(input('enter a num2:'))\n",
    "        add1=n11+n2\n",
    "        print(f'the addition of {n1} and {n2} is: {add1},)\n",
    "except Exception as e:\n",
    "    print(e)"
   ]
  },
  {
   "cell_type": "code",
   "execution_count": 8,
   "id": "6320f5da-c7d1-4f7a-bb23-2df09158290a",
   "metadata": {},
   "outputs": [
    {
     "name": "stdin",
     "output_type": "stream",
     "text": [
      "enter a num1:  100\n",
      "enter a num2:  200\n"
     ]
    },
    {
     "ename": "NameError",
     "evalue": "name 'n11' is not defined",
     "output_type": "error",
     "traceback": [
      "\u001b[1;31m---------------------------------------------------------------------------\u001b[0m",
      "\u001b[1;31mNameError\u001b[0m                                 Traceback (most recent call last)",
      "Cell \u001b[1;32mIn[8], line 10\u001b[0m\n\u001b[0;32m      7\u001b[0m \u001b[38;5;28;01mexcept\u001b[39;00m exception \u001b[38;5;28;01mas\u001b[39;00m e:\n\u001b[0;32m      8\u001b[0m        \u001b[38;5;28mprint\u001b[39m(e)\n\u001b[1;32m---> 10\u001b[0m addition2()\n",
      "Cell \u001b[1;32mIn[8], line 5\u001b[0m, in \u001b[0;36maddition2\u001b[1;34m()\u001b[0m\n\u001b[0;32m      3\u001b[0m num1\u001b[38;5;241m=\u001b[39m\u001b[38;5;28meval\u001b[39m(\u001b[38;5;28minput\u001b[39m(\u001b[38;5;124m'\u001b[39m\u001b[38;5;124menter a num1: \u001b[39m\u001b[38;5;124m'\u001b[39m))\n\u001b[0;32m      4\u001b[0m num2\u001b[38;5;241m=\u001b[39m\u001b[38;5;28meval\u001b[39m(\u001b[38;5;28minput\u001b[39m(\u001b[38;5;124m'\u001b[39m\u001b[38;5;124menter a num2: \u001b[39m\u001b[38;5;124m'\u001b[39m))\n\u001b[1;32m----> 5\u001b[0m add1\u001b[38;5;241m=\u001b[39mn11\u001b[38;5;241m+\u001b[39mn2\n\u001b[0;32m      6\u001b[0m \u001b[38;5;28mprint\u001b[39m(\u001b[38;5;124mf\u001b[39m\u001b[38;5;124m'\u001b[39m\u001b[38;5;124mthe addition of \u001b[39m\u001b[38;5;132;01m{\u001b[39;00mn1\u001b[38;5;132;01m}\u001b[39;00m\u001b[38;5;124m and \u001b[39m\u001b[38;5;132;01m{\u001b[39;00mn2\u001b[38;5;132;01m}\u001b[39;00m\u001b[38;5;124m is: \u001b[39m\u001b[38;5;132;01m{\u001b[39;00madd\u001b[38;5;132;01m}\u001b[39;00m\u001b[38;5;124m'\u001b[39m)\n",
      "\u001b[1;31mNameError\u001b[0m: name 'n11' is not defined"
     ]
    }
   ],
   "source": [
    "try:\n",
    "   def addition2():\n",
    "       num1=eval(input('enter a num1: '))\n",
    "       num2=eval(input('enter a num2: '))\n",
    "       add1=n11+n2\n",
    "       print(f'the addition of {n1} and {n2} is: {add}')\n",
    "except exception as e:\n",
    "       print(e)\n",
    "\n",
    "addition2()\n"
   ]
  },
  {
   "cell_type": "code",
   "execution_count": 9,
   "id": "ea9d35a1-482c-47f3-9686-dd2dd7952c52",
   "metadata": {},
   "outputs": [
    {
     "name": "stdin",
     "output_type": "stream",
     "text": [
      "enter a num1: 100\n",
      "enter a num2: 200\n"
     ]
    },
    {
     "name": "stdout",
     "output_type": "stream",
     "text": [
      "name 'n11' is not defined\n"
     ]
    }
   ],
   "source": [
    "def addition3():\n",
    "    try:\n",
    "        n1=eval(input('enter a num1:'))\n",
    "        n2=eval(input('enter a num2:'))\n",
    "        add1=n11+n2\n",
    "        print(f'the addition of {n1} and {n2} is: {add1}')\n",
    "    except Exception as e:\n",
    "        print(e)\n",
    "\n",
    "addition3()                "
   ]
  },
  {
   "cell_type": "markdown",
   "id": "6e18c3db-c49b-4dbe-8adb-103476a7a63d",
   "metadata": {},
   "source": [
    "- try-except should write inside the function"
   ]
  },
  {
   "cell_type": "code",
   "execution_count": null,
   "id": "477f8293-eead-4c5a-adf2-7983c40962ea",
   "metadata": {},
   "outputs": [],
   "source": []
  },
  {
   "cell_type": "markdown",
   "id": "feb3b06c-5b44-49b5-85d4-acd2d48c35cc",
   "metadata": {},
   "source": [
    "**Functions with arguments**"
   ]
  },
  {
   "cell_type": "code",
   "execution_count": 10,
   "id": "6089a41c-8851-4a8c-bb1d-783e793b9ffe",
   "metadata": {},
   "outputs": [
    {
     "name": "stdin",
     "output_type": "stream",
     "text": [
      "enter a num1: 100\n",
      "enter a num2: 200\n",
      "enter a num3: 300\n"
     ]
    },
    {
     "name": "stdout",
     "output_type": "stream",
     "text": [
      "the avg of 100,200 and 300 is: 200.0\n"
     ]
    }
   ],
   "source": [
    "def AVG():\n",
    "    n1=eval(input('enter a num1:'))\n",
    "    n2=eval(input('enter a num2:'))\n",
    "    n3=eval(input('enter a num3:'))\n",
    "    avg=(n1+n2+n3)/3\n",
    "    avg1=round(avg,2)\n",
    "    print(f'the avg of {n1},{n2} and {n3} is: {avg1}')\n",
    "AVG()    "
   ]
  },
  {
   "cell_type": "code",
   "execution_count": 11,
   "id": "f052afb5-ede2-4662-9cff-67158bd47ce4",
   "metadata": {},
   "outputs": [
    {
     "name": "stdin",
     "output_type": "stream",
     "text": [
      "enter a num1: 100\n",
      "enter a num2: 400\n"
     ]
    },
    {
     "name": "stdout",
     "output_type": "stream",
     "text": [
      "the sum of 100 and 400 is : 500\n"
     ]
    }
   ],
   "source": [
    "def addition():\n",
    "    n1=eval(input('enter a num1:'))\n",
    "    n2=eval(input('enter a num2:'))\n",
    "    add=n1+n2\n",
    "    print(f'the sum of {n1} and {n2} is : {add}')\n",
    "\n",
    "addition()"
   ]
  },
  {
   "cell_type": "code",
   "execution_count": 12,
   "id": "da9a8ad5-a874-4c19-81be-58f01e4c8e1a",
   "metadata": {},
   "outputs": [
    {
     "name": "stdin",
     "output_type": "stream",
     "text": [
      "enter a num1: 100\n",
      "enter a num2: 200\n"
     ]
    },
    {
     "name": "stdout",
     "output_type": "stream",
     "text": [
      "the sum of 100 and 200 is : 300\n"
     ]
    }
   ],
   "source": [
    "addition()"
   ]
  },
  {
   "cell_type": "code",
   "execution_count": 1,
   "id": "f87587ae-72c3-40d2-a8a0-7f991e33f464",
   "metadata": {},
   "outputs": [
    {
     "ename": "TypeError",
     "evalue": "Random.randint() missing 2 required positional arguments: 'a' and 'b'",
     "output_type": "error",
     "traceback": [
      "\u001b[1;31m---------------------------------------------------------------------------\u001b[0m",
      "\u001b[1;31mTypeError\u001b[0m                                 Traceback (most recent call last)",
      "Cell \u001b[1;32mIn[1], line 2\u001b[0m\n\u001b[0;32m      1\u001b[0m \u001b[38;5;28;01mfrom\u001b[39;00m \u001b[38;5;21;01mrandom\u001b[39;00m \u001b[38;5;28;01mimport\u001b[39;00m randint\n\u001b[1;32m----> 2\u001b[0m randint()\n",
      "\u001b[1;31mTypeError\u001b[0m: Random.randint() missing 2 required positional arguments: 'a' and 'b'"
     ]
    }
   ],
   "source": [
    "from random import randint\n",
    "randint()"
   ]
  },
  {
   "cell_type": "code",
   "execution_count": null,
   "id": "cd4a6135-eb77-4dc0-aa9b-7227e3a78223",
   "metadata": {},
   "outputs": [],
   "source": [
    "def addition():\n",
    "    n1=eval(input('enter a num1:'))\n",
    "    n2=eval(input('enter a num2:'))\n",
    "    add=n1+n2\n",
    "    print(f'the sum of {n1} and {n2} is : {add}')\n",
    "\n",
    "addition()"
   ]
  },
  {
   "cell_type": "markdown",
   "id": "caad660a-7b6d-4790-a13e-ca537a91dc0b",
   "metadata": {},
   "source": [
    "- How many variables are there inside the function\n",
    "\n",
    "   - in above **addition** function 3 variables are there : **n1,n2,add**\n",
    "\n",
    "- How many input variables are there \n",
    "\n",
    "   - input variables means the variable access the valus from user as input:**n1**,**n2**\n",
    "\n",
    "- How many output variables are there\n",
    "\n",
    "   - output variables means the variable created because of some operations : **add**\n",
    "\n",
    "- **dont touch the output variable**"
   ]
  },
  {
   "cell_type": "code",
   "execution_count": 4,
   "id": "489b1001-180d-44c5-930a-c2b6fdf209e2",
   "metadata": {},
   "outputs": [],
   "source": [
    "def addition1(n1,n2) :\n",
    "    print('n1:',n1)\n",
    "    print('n2:',n2)\n",
    "    add=n1+n2\n",
    "    print(f'the sum of {n1} and {n2} is: {add}')"
   ]
  },
  {
   "cell_type": "code",
   "execution_count": 5,
   "id": "dcc1ffc0-fdfa-4b20-9b69-cb56520a8d57",
   "metadata": {},
   "outputs": [
    {
     "name": "stdout",
     "output_type": "stream",
     "text": [
      "n1: 500\n",
      "n2: 1000\n",
      "the sum of 500 and 1000 is: 1500\n"
     ]
    }
   ],
   "source": [
    "addition1(500,1000)"
   ]
  },
  {
   "cell_type": "code",
   "execution_count": 7,
   "id": "41971bcd-1280-40ea-b986-595663387cac",
   "metadata": {},
   "outputs": [
    {
     "ename": "TypeError",
     "evalue": "addition1() missing 1 required positional argument: 'n2'",
     "output_type": "error",
     "traceback": [
      "\u001b[1;31m---------------------------------------------------------------------------\u001b[0m",
      "\u001b[1;31mTypeError\u001b[0m                                 Traceback (most recent call last)",
      "Cell \u001b[1;32mIn[7], line 1\u001b[0m\n\u001b[1;32m----> 1\u001b[0m addition1(\u001b[38;5;241m300\u001b[39m)\n",
      "\u001b[1;31mTypeError\u001b[0m: addition1() missing 1 required positional argument: 'n2'"
     ]
    }
   ],
   "source": [
    "addition1(300)"
   ]
  },
  {
   "cell_type": "code",
   "execution_count": null,
   "id": "2ed64dc4-aa23-40fb-b26a-09b685041d65",
   "metadata": {},
   "outputs": [],
   "source": [
    "def addition2(n1):\n",
    "    n2=eval(input('enter a num2:'))\n",
    "    add=n1+n2\n",
    "    print(f'the sum of {n1} and {n2} is: {add}')"
   ]
  },
  {
   "cell_type": "code",
   "execution_count": 9,
   "id": "57fa5f73-f3b1-4a49-809e-edc099361edf",
   "metadata": {},
   "outputs": [
    {
     "ename": "NameError",
     "evalue": "name 'addition2' is not defined",
     "output_type": "error",
     "traceback": [
      "\u001b[1;31m---------------------------------------------------------------------------\u001b[0m",
      "\u001b[1;31mNameError\u001b[0m                                 Traceback (most recent call last)",
      "Cell \u001b[1;32mIn[9], line 1\u001b[0m\n\u001b[1;32m----> 1\u001b[0m addition2(\u001b[38;5;241m2000\u001b[39m)\n",
      "\u001b[1;31mNameError\u001b[0m: name 'addition2' is not defined"
     ]
    }
   ],
   "source": [
    "addition2(2000)"
   ]
  },
  {
   "cell_type": "code",
   "execution_count": 14,
   "id": "ae6f28ca-2d84-451d-8bb4-edcef7bdacbc",
   "metadata": {},
   "outputs": [],
   "source": [
    "def addition():\n",
    "    n1=eval(input('enter a num1:'))\n",
    "    n2=eval(input('enter a num2:'))\n",
    "    add=n1+n2\n",
    "    print(f'the sum of {n1} and {n2} is:{add}')\n",
    "\n",
    "def addition1(n1,n2):\n",
    "    add=n1+n2\n",
    "    print(f'the sum of {n1} and {n2} is:{add}')\n",
    "\n",
    "def addition2(n2):\n",
    "    n2=eval(input('enter a num2:'))\n",
    "    add=n1+n2\n",
    "    print(f'the sum of {n1} and {n2} is:{add}')"
   ]
  },
  {
   "cell_type": "code",
   "execution_count": 11,
   "id": "81fd2dee-6f15-4f8d-aebc-61ae00258570",
   "metadata": {},
   "outputs": [
    {
     "name": "stdin",
     "output_type": "stream",
     "text": [
      "enter a num1: 100\n",
      "enter a num2: 200\n",
      "enter a num3: 300\n"
     ]
    },
    {
     "name": "stdout",
     "output_type": "stream",
     "text": [
      "the avg of 100,200 and 300 is:200.0\n",
      "============ AVG1 function starts==============\n",
      "n1: 100\n"
     ]
    },
    {
     "name": "stdin",
     "output_type": "stream",
     "text": [
      "enter a num2: 100\n",
      "enter a num3: 200\n"
     ]
    },
    {
     "name": "stdout",
     "output_type": "stream",
     "text": [
      "the avg of 100,100 and 200 is : 133.33\n",
      "============AVG2 function starts===============\n",
      "n1: 20\n",
      "n2: 30\n"
     ]
    },
    {
     "name": "stdin",
     "output_type": "stream",
     "text": [
      "enter a num3: 300\n"
     ]
    },
    {
     "name": "stdout",
     "output_type": "stream",
     "text": [
      "the avg of 20,30 and 300 is: 116.67\n",
      "=============AVG3 function starts===============\n",
      "n1: 10\n",
      "n2: 20\n",
      "n3: 30\n",
      "the avg of 10,20 and 30 is: 20.0\n"
     ]
    }
   ],
   "source": [
    "## print('=========== AVG function starts====================')\n",
    "def AVG():\n",
    "    n1=eval(input('enter a num1:'))\n",
    "    n2=eval(input('enter a num2:'))\n",
    "    n3=eval(input('enter a num3:'))\n",
    "    avg=(n1+n2+n3)/3\n",
    "    avg1=round(avg,2)\n",
    "    print(f'the avg of {n1},{n2} and {n3} is:{avg1}')\n",
    "\n",
    "AVG()\n",
    "\n",
    "\n",
    "print('============ AVG1 function starts==============')\n",
    "def AVG1(n1):\n",
    "    print('n1:',n1)\n",
    "    n2=eval(input('enter a num2:'))\n",
    "    n3=eval(input('enter a num3:'))\n",
    "    avg=(n1+n2+n3)/3\n",
    "    avg1=round(avg,2)\n",
    "    print(f'the avg of {n1},{n2} and {n3} is : {avg1}')\n",
    "\n",
    "AVG1(100)\n",
    "\n",
    "print('============AVG2 function starts===============')\n",
    "def AVG2(n1,n2):\n",
    "    print('n1:',n1)\n",
    "    print('n2:',n2)\n",
    "    n3=eval(input('enter a num3:'))\n",
    "    avg=(n1+n2+n3)/3\n",
    "    avg1=round(avg,2)\n",
    "    print(f'the avg of {n1},{n2} and {n3} is: {avg1}')\n",
    "\n",
    "AVG2(20,30)\n",
    "\n",
    "print('=============AVG3 function starts===============')\n",
    "def AVG3(n1,n2,n3):\n",
    "    print('n1:',n1)\n",
    "    print('n2:',n2)\n",
    "    print('n3:',n3)\n",
    "    avg=(n1+n2+n3)/3\n",
    "    avg1=round(avg,2)\n",
    "    print(f'the avg of {n1},{n2} and {n3} is: {avg1}')\n",
    "AVG3(10,20,30)"
   ]
  },
  {
   "cell_type": "markdown",
   "id": "85660d72-3dff-43c7-bf26-9ed6aeac47b9",
   "metadata": {},
   "source": [
    "### Funtions with default arguments"
   ]
  },
  {
   "cell_type": "code",
   "execution_count": 16,
   "id": "65c92e3f-de5d-49ec-aafe-d1c04ea77928",
   "metadata": {},
   "outputs": [
    {
     "data": {
      "text/plain": [
       "5"
      ]
     },
     "execution_count": 16,
     "metadata": {},
     "output_type": "execute_result"
    }
   ],
   "source": [
    "n1=12345//10\n",
    "d1=12345%10\n",
    "d1"
   ]
  },
  {
   "cell_type": "code",
   "execution_count": 17,
   "id": "243a62c4-1ab6-4a81-93c3-98de1cd04626",
   "metadata": {},
   "outputs": [
    {
     "data": {
      "text/plain": [
       "4"
      ]
     },
     "execution_count": 17,
     "metadata": {},
     "output_type": "execute_result"
    }
   ],
   "source": [
    "n2=n1//10\n",
    "d2=n1%10\n",
    "d2"
   ]
  },
  {
   "cell_type": "code",
   "execution_count": 18,
   "id": "46ba92d8-c1d5-4591-b03b-f35a27039e59",
   "metadata": {},
   "outputs": [
    {
     "data": {
      "text/plain": [
       "'54'"
      ]
     },
     "execution_count": 18,
     "metadata": {},
     "output_type": "execute_result"
    }
   ],
   "source": [
    "str(d1)+str(d2)"
   ]
  },
  {
   "cell_type": "code",
   "execution_count": null,
   "id": "c2a81202-2568-4106-b066-4de45b61bb56",
   "metadata": {},
   "outputs": [],
   "source": [
    "in future we will learn easy methods\n",
    "then you will understand what is the use of method\n",
    "\n",
    "then same an i have done lengthy way\n",
    "this tim im doing in simple way"
   ]
  },
  {
   "cell_type": "code",
   "execution_count": 19,
   "id": "129f71f7-5456-4c6e-b127-e4a70b13448e",
   "metadata": {},
   "outputs": [
    {
     "data": {
      "text/plain": [
       "'54321'"
      ]
     },
     "execution_count": 19,
     "metadata": {},
     "output_type": "execute_result"
    }
   ],
   "source": [
    "n1=12345\n",
    "str(n1)[::-1]"
   ]
  },
  {
   "cell_type": "code",
   "execution_count": 20,
   "id": "bdfab1c9-3a69-4ca1-9361-498a2d5e8d3c",
   "metadata": {},
   "outputs": [
    {
     "name": "stdin",
     "output_type": "stream",
     "text": [
      "enter the bill: 100\n",
      "enter the tip_per 200\n"
     ]
    },
    {
     "name": "stdout",
     "output_type": "stream",
     "text": [
      "total bill is: 300.0\n"
     ]
    }
   ],
   "source": [
    "def bill_amount():\n",
    "    bill=eval(input('enter the bill:'))\n",
    "    tip_per=eval(input('enter the tip_per'))\n",
    "    tip_amount=bill*tip_per/100\n",
    "    total_bill=bill+tip_amount\n",
    "    print('total bill is:',total_bill)\n",
    "    \n",
    "bill_amount()"
   ]
  },
  {
   "cell_type": "code",
   "execution_count": 21,
   "id": "720d6afd-07f9-4690-a05a-13bcf6f76738",
   "metadata": {},
   "outputs": [
    {
     "name": "stdout",
     "output_type": "stream",
     "text": [
      "total bill is: 1100.0\n"
     ]
    }
   ],
   "source": [
    "def bill_amount1(bill,tip_per):\n",
    "    tip_amount=bill*tip_per/100\n",
    "    total_bill=bill+tip_amount\n",
    "    print('total bill is:',total_bill)\n",
    "\n",
    "bill_amount1(1000,10)"
   ]
  },
  {
   "cell_type": "code",
   "execution_count": 24,
   "id": "542a636d-d106-44d1-87b7-92c7e6c5f39b",
   "metadata": {},
   "outputs": [
    {
     "name": "stdout",
     "output_type": "stream",
     "text": [
      "total bill is: 200000.0\n"
     ]
    }
   ],
   "source": [
    "def bill_amount1(bill,tip_per=20):\n",
    "    tip_amount=bill*tip_per/100\n",
    "    total_bill=bill*tip_amount\n",
    "    print('total bill is:',total_bill)\n",
    "\n",
    "bill_amount1(1000)"
   ]
  },
  {
   "cell_type": "markdown",
   "id": "86a47612-0970-4c36-863d-c75d6f8e1b18",
   "metadata": {},
   "source": [
    "- in above function the tip_per is fixed as 20\n",
    "\n",
    "- this is called default arguments\n",
    "\n",
    "- while calling the function no need to provide tip_per again\n",
    "\n",
    "- if you provide again the value will be change"
   ]
  },
  {
   "cell_type": "code",
   "execution_count": 25,
   "id": "810a5c92-8e0b-4779-82df-30208ba8c21f",
   "metadata": {},
   "outputs": [
    {
     "name": "stdout",
     "output_type": "stream",
     "text": [
      "total bill is: 1300.0\n"
     ]
    }
   ],
   "source": [
    "def bill_amount1(bill,tip_per=20):\n",
    "    tip_amount=bill*tip_per/100\n",
    "    total_bill=bill+tip_amount\n",
    "    print('total bill is:',total_bill)\n",
    "\n",
    "bill_amount1(1000,30)"
   ]
  },
  {
   "cell_type": "code",
   "execution_count": 26,
   "id": "b08d4792-71cb-41c8-9eeb-f158ca303579",
   "metadata": {},
   "outputs": [
    {
     "name": "stdout",
     "output_type": "stream",
     "text": [
      "n1: 100\n",
      "n2: 200\n",
      "n3: 30\n",
      "the avg of 100,200 and 30 is : 110.0\n"
     ]
    }
   ],
   "source": [
    "def AVG3(n1,n2,n3=30):\n",
    "    print('n1:',n1)\n",
    "    print('n2:',n2)\n",
    "    print('n3:',n3)\n",
    "    avg=(n1+n2+n3)/3\n",
    "    avg1=round(avg,2)\n",
    "    print(f'the avg of {n1},{n2} and {n3} is : {avg1}')\n",
    "AVG3(100,200)"
   ]
  },
  {
   "cell_type": "markdown",
   "id": "429c6fea-be0f-414e-8e00-641034f7c32c",
   "metadata": {},
   "source": [
    "**note: default aruguments always at last**"
   ]
  },
  {
   "cell_type": "code",
   "execution_count": 27,
   "id": "65e68886-0e9a-44ba-8768-65ed482cdf04",
   "metadata": {},
   "outputs": [
    {
     "name": "stdout",
     "output_type": "stream",
     "text": [
      "n1: 100\n",
      "n2: 200\n",
      "n3: 20\n",
      "the avg of 100,200 and 20 is : 106.67\n"
     ]
    }
   ],
   "source": [
    "def AVG3(n1,n2,n3=20):\n",
    "    print('n1:',n1)\n",
    "    print('n2:',n2)\n",
    "    print('n3:',n3)\n",
    "    avg=(n1+n2+n3)/3\n",
    "    avg1=round(avg,2)\n",
    "    print(f'the avg of {n1},{n2} and {n3} is : {avg1}')\n",
    "AVG3(100,200)"
   ]
  },
  {
   "cell_type": "code",
   "execution_count": null,
   "id": "becdcdf9-9651-440f-b5be-27d070fecf45",
   "metadata": {},
   "outputs": [],
   "source": [
    "n1,n2,n3=100  # W\n",
    "n1,n2=100,n3   # F\n",
    "n1=100,n2,n3   # F\n",
    "n1,n2=100,n3=100  # W\n",
    "n1=100,n2,n3=100  # F\n",
    "n1=100,n2=100,n3  # F\n",
    "n1=100,n2=100,n3=100 # W"
   ]
  },
  {
   "cell_type": "markdown",
   "id": "6abef721-286e-48eb-ba53-9d8ffc96130e",
   "metadata": {},
   "source": [
    "- Functions with arguments\n",
    "\n",
    "- function with out arguments\n",
    "\n",
    "- function with default arguments"
   ]
  },
  {
   "cell_type": "code",
   "execution_count": 28,
   "id": "d1707425-8376-4b35-b9c0-1a3d5c2fb52f",
   "metadata": {},
   "outputs": [
    {
     "name": "stdout",
     "output_type": "stream",
     "text": [
      "Function with out arguments\n"
     ]
    },
    {
     "name": "stdin",
     "output_type": "stream",
     "text": [
      "enter the salary: 1000\n",
      "enter the tax: 2000\n"
     ]
    },
    {
     "name": "stdout",
     "output_type": "stream",
     "text": [
      "the total tax pay: 20000.0\n",
      "Function with arguments\n",
      "the total tax pay: 200.0\n",
      "Function with default arguments\n",
      "the total tax pay: 5000.0\n"
     ]
    }
   ],
   "source": [
    "print(\"Function with out arguments\")\n",
    "def tax_cal():\n",
    "    salary= eval(input('enter the salary:'))\n",
    "    tax_per=eval(input('enter the tax:'))\n",
    "    tax_pay=salary*tax_per/100\n",
    "    print('the total tax pay:',tax_pay)\n",
    "\n",
    "tax_cal()\n",
    "\n",
    "print(\"Function with arguments\")\n",
    "def tax_cal1(salary,tax_per):\n",
    "    tax_pay=salary*tax_per/100\n",
    "    print(\"the total tax pay:\",tax_pay)\n",
    "\n",
    "tax_cal1(1000,20)\n",
    "\n",
    "print(\"Function with default arguments\")\n",
    "def tax_cal2(salary,tax_per=10):\n",
    "    tax_pay=salary*tax_per/100\n",
    "    print(\"the total tax pay:\",tax_pay)\n",
    "\n",
    "tax_cal2(50000)  "
   ]
  },
  {
   "cell_type": "markdown",
   "id": "9e8865dd-0808-4602-8c32-118de69077be",
   "metadata": {},
   "source": [
    "**analogy with the packages**"
   ]
  },
  {
   "cell_type": "code",
   "execution_count": null,
   "id": "7c7b2b0f-40db-435e-ad62-dcd6266ce826",
   "metadata": {},
   "outputs": [],
   "source": [
    "from random import randint,random"
   ]
  },
  {
   "cell_type": "code",
   "execution_count": 29,
   "id": "4206f0c7-7b8f-4de6-8a84-b78f652838b7",
   "metadata": {},
   "outputs": [
    {
     "data": {
      "text/plain": [
       "(3+4j)"
      ]
     },
     "execution_count": 29,
     "metadata": {},
     "output_type": "execute_result"
    }
   ],
   "source": [
    "complex(3,4) # real=3 imag=4 3+4j"
   ]
  },
  {
   "cell_type": "code",
   "execution_count": 30,
   "id": "e31a0fd9-3b52-41b2-9ed6-8945a6e6fd71",
   "metadata": {},
   "outputs": [
    {
     "data": {
      "text/plain": [
       "(3+0j)"
      ]
     },
     "execution_count": 30,
     "metadata": {},
     "output_type": "execute_result"
    }
   ],
   "source": [
    "complex(3) # real=3 imag=0 3+0j"
   ]
  },
  {
   "cell_type": "code",
   "execution_count": 31,
   "id": "e2efe0cb-6b5d-48f3-9b5d-7d38a3d59a74",
   "metadata": {},
   "outputs": [
    {
     "data": {
      "text/plain": [
       "0j"
      ]
     },
     "execution_count": 31,
     "metadata": {},
     "output_type": "execute_result"
    }
   ],
   "source": [
    "complex() # real=0 imag=0 0+0j"
   ]
  },
  {
   "cell_type": "markdown",
   "id": "b086424a-402a-4871-a0c2-cf48e5316375",
   "metadata": {},
   "source": [
    "- now onwrds whenever you see any package\n",
    "\n",
    "- always do shift+tab inside the brackets and observe\n",
    "\n",
    "- with or without or default"
   ]
  },
  {
   "cell_type": "code",
   "execution_count": 32,
   "id": "3da59c1d-9aaa-46c3-b19a-4a18b6a7f761",
   "metadata": {},
   "outputs": [
    {
     "name": "stdout",
     "output_type": "stream",
     "text": [
      "a: 100\n",
      "b: 200\n",
      "c: 300\n",
      "the summation of 100,200 and 300 is: 600\n"
     ]
    }
   ],
   "source": [
    "def add(a,b,c):\n",
    "    print('a:',a)\n",
    "    print('b:',b)\n",
    "    print('c:',c)\n",
    "    summ=a+b+c\n",
    "    print(f'the summation of {a},{b} and {c} is: {summ}')\n",
    "\n",
    "add(100,200,300)"
   ]
  },
  {
   "cell_type": "markdown",
   "id": "4d96841f-ad2a-484c-9283-b77ea6fbc821",
   "metadata": {},
   "source": [
    "**case-1**"
   ]
  },
  {
   "cell_type": "code",
   "execution_count": 33,
   "id": "3a869f46-34ad-4e2c-98a6-c35e2bb85ac8",
   "metadata": {},
   "outputs": [
    {
     "name": "stdout",
     "output_type": "stream",
     "text": [
      "a: 100\n",
      "b: 200\n",
      "c: 400\n",
      "the summation of 100,200 and 400 is: 700\n"
     ]
    }
   ],
   "source": [
    "def add(a,b,c=400):\n",
    "    print('a:',a)\n",
    "    print('b:',b)\n",
    "    print('c:',c)\n",
    "    summ=a+b+c\n",
    "    print(f'the summation of {a},{b} and {c} is: {summ}')\n",
    "\n",
    "add(100,200)"
   ]
  },
  {
   "cell_type": "markdown",
   "id": "6c6e60d5-64bd-4d4c-ab55-8405537da562",
   "metadata": {},
   "source": [
    "**case-2**"
   ]
  },
  {
   "cell_type": "code",
   "execution_count": 34,
   "id": "db2ec368-4cb9-4f4d-a985-29a89a9ca124",
   "metadata": {},
   "outputs": [
    {
     "name": "stdout",
     "output_type": "stream",
     "text": [
      "a: 100\n",
      "b: 200\n",
      "c: 600\n",
      "the summation of 100,200 and 600 is: 900\n"
     ]
    }
   ],
   "source": [
    "def add(a,b,c=400):\n",
    "    print('a:',a)\n",
    "    print('b:',b)\n",
    "    print('c:',c)\n",
    "    summ=a+b+c\n",
    "    print(f'the summation of {a},{b} and {c} is: {summ}')\n",
    "\n",
    "add(100,200,600)"
   ]
  },
  {
   "cell_type": "markdown",
   "id": "a65f14e8-01c5-469d-aa0e-6325df3d87a1",
   "metadata": {},
   "source": [
    "- in above case we already provided default value c=400\n",
    "\n",
    "- but while we call the function c value become=600\n",
    "\n",
    "- step-1: Define the function: while define what is the value 400\n",
    "\n",
    "- step-2: call the function: while call the function what is the value 600\n",
    "\n",
    "- step-3: Running the funtion: while running the function what is the value:600"
   ]
  },
  {
   "cell_type": "code",
   "execution_count": 36,
   "id": "ed290df8-7e00-4e06-bf37-1b89e8e62971",
   "metadata": {},
   "outputs": [
    {
     "ename": "NameError",
     "evalue": "name 'add1' is not defined",
     "output_type": "error",
     "traceback": [
      "\u001b[1;31m---------------------------------------------------------------------------\u001b[0m",
      "\u001b[1;31mNameError\u001b[0m                                 Traceback (most recent call last)",
      "Cell \u001b[1;32mIn[36], line 1\u001b[0m\n\u001b[1;32m----> 1\u001b[0m add1(\u001b[38;5;241m100\u001b[39m,\u001b[38;5;241m200\u001b[39m,\u001b[38;5;241m600\u001b[39m)\n\u001b[0;32m      3\u001b[0m \u001b[38;5;28;01mdef\u001b[39;00m \u001b[38;5;21madd1\u001b[39m(a,b,c\u001b[38;5;241m=\u001b[39m\u001b[38;5;241m400\u001b[39m):\n\u001b[0;32m      4\u001b[0m     \u001b[38;5;28mprint\u001b[39m(\u001b[38;5;124m'\u001b[39m\u001b[38;5;124ma:\u001b[39m\u001b[38;5;124m'\u001b[39m,a)\n",
      "\u001b[1;31mNameError\u001b[0m: name 'add1' is not defined"
     ]
    }
   ],
   "source": [
    "add1(100,200,600)\n",
    "\n",
    "def add1(a,b,c=400):\n",
    "    print('a:',a)\n",
    "    print('b:',b)\n",
    "    print('c:',c)\n",
    "    summ=a+b+c\n",
    "    print(f'the summation of {a},{b} and {c} is : {summ}')"
   ]
  },
  {
   "cell_type": "code",
   "execution_count": 37,
   "id": "3b1e375a-9185-446b-9214-be2f524d967e",
   "metadata": {},
   "outputs": [],
   "source": [
    "def add(a,b,c=400):\n",
    "    c=1000\n",
    "    print('a:',a)\n",
    "    print('b:',b)\n",
    "    print('c:',c)\n",
    "    summ=a+b+ccccc\n",
    "    print(f'the summation of {a},{b} and {c} is : {summ}')"
   ]
  },
  {
   "cell_type": "code",
   "execution_count": 40,
   "id": "ab837af3-7eb2-44d6-826e-ab6ef76327eb",
   "metadata": {},
   "outputs": [
    {
     "name": "stdout",
     "output_type": "stream",
     "text": [
      "a: 100\n",
      "b: 200\n",
      "c: 1000\n",
      "the summation of 100,200 and 1000 is: 1300\n"
     ]
    }
   ],
   "source": [
    "def add(a,b,c=400):\n",
    "    c=1000\n",
    "    print('a:',a)\n",
    "    print('b:',b)\n",
    "    print('c:',c)\n",
    "    summ=a+b+c\n",
    "    print(f'the summation of {a},{b} and {c} is: {summ}')\n",
    "\n",
    "add(100,200,600)\n",
    "\n",
    "# while define c=400\n",
    "# while calling c=600\n",
    "# while running c=1000"
   ]
  },
  {
   "cell_type": "code",
   "execution_count": 38,
   "id": "a6f69ed7-7657-4d3c-b7fa-120c1826ae4b",
   "metadata": {},
   "outputs": [
    {
     "name": "stdout",
     "output_type": "stream",
     "text": [
      "a: 100\n",
      "b: 200\n",
      "c: 1000\n",
      "the summation of 100,200 and 1000 is: 1300\n"
     ]
    }
   ],
   "source": [
    "def add(a,b,c):\n",
    "    c=1000\n",
    "    print('a:',a)\n",
    "    print('b:',b)\n",
    "    print('c:',c)\n",
    "    summ=a+b+c\n",
    "    print(f'the summation of {a},{b} and {c} is: {summ}')\n",
    "\n",
    "add(100,200,600)"
   ]
  },
  {
   "cell_type": "code",
   "execution_count": 43,
   "id": "e024f16a-e2fb-4663-988c-017c56dbb658",
   "metadata": {},
   "outputs": [
    {
     "name": "stdout",
     "output_type": "stream",
     "text": [
      "a: 100\n",
      "b: 200\n",
      "c: 1000\n",
      "the summation of 100,200 and 1000 is: 1300\n"
     ]
    }
   ],
   "source": [
    "c=3000\n",
    "def add(a,b,c=600):\n",
    "    c=1000\n",
    "    print('a:',a)\n",
    "    print('b:',b)\n",
    "    print('c:',c)\n",
    "    summ=a+b+c\n",
    "    print(f'the summation of {a},{b} and {c} is: {summ}')\n",
    "c=2000\n",
    "add(100,200,800)"
   ]
  },
  {
   "cell_type": "code",
   "execution_count": 44,
   "id": "c0c246fa-0387-4585-a8e9-e9447af32572",
   "metadata": {},
   "outputs": [
    {
     "name": "stdout",
     "output_type": "stream",
     "text": [
      "a: 100\n",
      "b: 200\n",
      "c: 2000\n",
      "the summation of 100,200 and 2000 is: 2300\n"
     ]
    }
   ],
   "source": [
    "c=3000\n",
    "\n",
    "def add(a,b):\n",
    "    print('a:',a)\n",
    "    print('b:',b)\n",
    "    print('c:',c)\n",
    "    summ=a+b+c\n",
    "    print(f'the summation of {a},{b} and {c} is: {summ}')\n",
    "c=2000\n",
    "add(100,200)\n",
    "\n",
    "# c=3000\n",
    "# add() there is no c  :  c=3000\n",
    "# call  no c          : c=3000\n",
    "# inside the any c    : c=3000"
   ]
  },
  {
   "cell_type": "markdown",
   "id": "8d88c67c-e89b-46b3-b42f-4998572aecdf",
   "metadata": {},
   "source": [
    "**global variable vs local variable**\n",
    "\n",
    "- The variable outside the function is called as **GObal variable**\n",
    "\n",
    "     - gobal variables can be use anywhwere \n",
    "\n",
    "     - gobal variables cn be use inside the function also out side the function\n",
    "\n",
    "- The variables inside the function is called as **Local variable**\n",
    "\n",
    "     - local variables be use only inside function\n",
    "\n",
    "     - local variables can not be use out the function\n",
    "    \n"
   ]
  },
  {
   "cell_type": "code",
   "execution_count": 45,
   "id": "34ace04f-aa98-4c97-926b-67dec83c2895",
   "metadata": {},
   "outputs": [
    {
     "name": "stdout",
     "output_type": "stream",
     "text": [
      "the summation of 100,200 is: 300\n"
     ]
    }
   ],
   "source": [
    "def addition():\n",
    "    n1=100\n",
    "    n2=200\n",
    "    summ=n1+n2\n",
    "    print(f'the summation of {n1},{n2} is: {summ}')\n",
    "addition()"
   ]
  },
  {
   "cell_type": "code",
   "execution_count": 46,
   "id": "c77760e4-f68b-4eba-a37a-9775af025368",
   "metadata": {},
   "outputs": [
    {
     "data": {
      "text/plain": [
       "12345"
      ]
     },
     "execution_count": 46,
     "metadata": {},
     "output_type": "execute_result"
    }
   ],
   "source": [
    "n1"
   ]
  },
  {
   "cell_type": "code",
   "execution_count": 47,
   "id": "b88d8537-304b-4e39-a2ff-957787fece7a",
   "metadata": {},
   "outputs": [
    {
     "name": "stdout",
     "output_type": "stream",
     "text": [
      "the summation of 1000,2000 is: 3000\n"
     ]
    }
   ],
   "source": [
    "n1=1000\n",
    "n2=2000\n",
    "def addition():\n",
    "    summ=n1+n2\n",
    "    print(f'the summation of {n1},{n2} is: {summ}')\n",
    "addition()"
   ]
  },
  {
   "cell_type": "code",
   "execution_count": 48,
   "id": "2f8d64b8-e61f-451a-aadb-3725bdf0d976",
   "metadata": {},
   "outputs": [
    {
     "data": {
      "text/plain": [
       "1000"
      ]
     },
     "execution_count": 48,
     "metadata": {},
     "output_type": "execute_result"
    }
   ],
   "source": [
    "n1"
   ]
  },
  {
   "cell_type": "markdown",
   "id": "ef55a71f-13eb-44b7-9373-750e1bf4b3e7",
   "metadata": {},
   "source": [
    "**How to convert local variable to Global variable**\n",
    "\n",
    "- if we want to use summ variable outside the function\n",
    "\n",
    "- Then intialise summ as global also using global function"
   ]
  },
  {
   "cell_type": "code",
   "execution_count": 49,
   "id": "d53ed1b7-eb4b-4102-a86d-7962c2906a2c",
   "metadata": {},
   "outputs": [
    {
     "name": "stdout",
     "output_type": "stream",
     "text": [
      "the summation of 1000,2000 is: 3000\n"
     ]
    }
   ],
   "source": [
    "n1=1000\n",
    "n2=2000\n",
    "def addition():\n",
    "    global summ\n",
    "    summ=n1+n2\n",
    "    print(f'the summation of {n1},{n2} is: {summ}')\n",
    "addition()"
   ]
  },
  {
   "cell_type": "code",
   "execution_count": 50,
   "id": "5a221ed8-1c22-412c-a4b9-a45a2f927431",
   "metadata": {},
   "outputs": [
    {
     "data": {
      "text/plain": [
       "3000"
      ]
     },
     "execution_count": 50,
     "metadata": {},
     "output_type": "execute_result"
    }
   ],
   "source": [
    "summ"
   ]
  },
  {
   "cell_type": "markdown",
   "id": "d2d34125-91ab-4885-a27c-9e205df17fad",
   "metadata": {},
   "source": [
    "**unbound local error**"
   ]
  },
  {
   "cell_type": "markdown",
   "id": "1fb005bf-fcca-4b6a-a9e9-e8837b7e6795",
   "metadata": {},
   "source": [
    "- in below example s is not intialise \n",
    "\n",
    "- we might think name error will come\n",
    "\n",
    "- but inside function we will get **unbounded local error**"
   ]
  },
  {
   "cell_type": "code",
   "execution_count": 51,
   "id": "34b333f1-ca9f-48b9-b6f7-31ef43ddc407",
   "metadata": {},
   "outputs": [
    {
     "ename": "UnboundLocalError",
     "evalue": "cannot access local variable 's' where it is not associated with a value",
     "output_type": "error",
     "traceback": [
      "\u001b[1;31m---------------------------------------------------------------------------\u001b[0m",
      "\u001b[1;31mUnboundLocalError\u001b[0m                         Traceback (most recent call last)",
      "Cell \u001b[1;32mIn[51], line 7\u001b[0m\n\u001b[0;32m      5\u001b[0m     s\u001b[38;5;241m=\u001b[39ms\u001b[38;5;241m+\u001b[39mn1\n\u001b[0;32m      6\u001b[0m     \u001b[38;5;28mprint\u001b[39m(s)\n\u001b[1;32m----> 7\u001b[0m add1()\n",
      "Cell \u001b[1;32mIn[51], line 5\u001b[0m, in \u001b[0;36madd1\u001b[1;34m()\u001b[0m\n\u001b[0;32m      3\u001b[0m \u001b[38;5;28;01mdef\u001b[39;00m \u001b[38;5;21madd1\u001b[39m():\n\u001b[0;32m      4\u001b[0m     n1\u001b[38;5;241m=\u001b[39m\u001b[38;5;241m100\u001b[39m\n\u001b[1;32m----> 5\u001b[0m     s\u001b[38;5;241m=\u001b[39ms\u001b[38;5;241m+\u001b[39mn1\n\u001b[0;32m      6\u001b[0m     \u001b[38;5;28mprint\u001b[39m(s)\n",
      "\u001b[1;31mUnboundLocalError\u001b[0m: cannot access local variable 's' where it is not associated with a value"
     ]
    }
   ],
   "source": [
    "s=0\n",
    "\n",
    "def add1():\n",
    "    n1=100\n",
    "    s=s+n1\n",
    "    print(s)\n",
    "add1()"
   ]
  },
  {
   "cell_type": "code",
   "execution_count": 52,
   "id": "2fd968ba-4f8f-4741-81b1-1e1470207d42",
   "metadata": {},
   "outputs": [
    {
     "ename": "NameError",
     "evalue": "name 'summ1' is not defined",
     "output_type": "error",
     "traceback": [
      "\u001b[1;31m---------------------------------------------------------------------------\u001b[0m",
      "\u001b[1;31mNameError\u001b[0m                                 Traceback (most recent call last)",
      "Cell \u001b[1;32mIn[52], line 5\u001b[0m\n\u001b[0;32m      3\u001b[0m     s1\u001b[38;5;241m=\u001b[39msumm1\u001b[38;5;241m+\u001b[39mn1\n\u001b[0;32m      4\u001b[0m     \u001b[38;5;28mprint\u001b[39m(s)\n\u001b[1;32m----> 5\u001b[0m add1()\n",
      "Cell \u001b[1;32mIn[52], line 3\u001b[0m, in \u001b[0;36madd1\u001b[1;34m()\u001b[0m\n\u001b[0;32m      1\u001b[0m \u001b[38;5;28;01mdef\u001b[39;00m \u001b[38;5;21madd1\u001b[39m():\n\u001b[0;32m      2\u001b[0m     n1\u001b[38;5;241m=\u001b[39m\u001b[38;5;241m100\u001b[39m\n\u001b[1;32m----> 3\u001b[0m     s1\u001b[38;5;241m=\u001b[39msumm1\u001b[38;5;241m+\u001b[39mn1\n\u001b[0;32m      4\u001b[0m     \u001b[38;5;28mprint\u001b[39m(s)\n",
      "\u001b[1;31mNameError\u001b[0m: name 'summ1' is not defined"
     ]
    }
   ],
   "source": [
    "def add1():\n",
    "    n1=100\n",
    "    s1=summ1+n1\n",
    "    print(s)\n",
    "add1()"
   ]
  },
  {
   "cell_type": "code",
   "execution_count": 53,
   "id": "066740ea-d6d1-466e-8bb1-4442579f3594",
   "metadata": {},
   "outputs": [
    {
     "ename": "UnboundLocalError",
     "evalue": "cannot access local variable 'summ1' where it is not associated with a value",
     "output_type": "error",
     "traceback": [
      "\u001b[1;31m---------------------------------------------------------------------------\u001b[0m",
      "\u001b[1;31mUnboundLocalError\u001b[0m                         Traceback (most recent call last)",
      "Cell \u001b[1;32mIn[53], line 5\u001b[0m\n\u001b[0;32m      3\u001b[0m     summ1\u001b[38;5;241m=\u001b[39msumm1\u001b[38;5;241m+\u001b[39mn1\n\u001b[0;32m      4\u001b[0m     \u001b[38;5;28mprint\u001b[39m(s)\n\u001b[1;32m----> 5\u001b[0m add1()\n",
      "Cell \u001b[1;32mIn[53], line 3\u001b[0m, in \u001b[0;36madd1\u001b[1;34m()\u001b[0m\n\u001b[0;32m      1\u001b[0m \u001b[38;5;28;01mdef\u001b[39;00m \u001b[38;5;21madd1\u001b[39m():\n\u001b[0;32m      2\u001b[0m     n1\u001b[38;5;241m=\u001b[39m\u001b[38;5;241m100\u001b[39m\n\u001b[1;32m----> 3\u001b[0m     summ1\u001b[38;5;241m=\u001b[39msumm1\u001b[38;5;241m+\u001b[39mn1\n\u001b[0;32m      4\u001b[0m     \u001b[38;5;28mprint\u001b[39m(s)\n",
      "\u001b[1;31mUnboundLocalError\u001b[0m: cannot access local variable 'summ1' where it is not associated with a value"
     ]
    }
   ],
   "source": [
    "def add1():\n",
    "    n1=100\n",
    "    summ1=summ1+n1\n",
    "    print(s)\n",
    "add1()"
   ]
  },
  {
   "cell_type": "code",
   "execution_count": 54,
   "id": "bdbae0db-3a32-4f01-ac5c-2c31050a03cf",
   "metadata": {},
   "outputs": [
    {
     "name": "stdout",
     "output_type": "stream",
     "text": [
      "0\n"
     ]
    }
   ],
   "source": [
    "def add1():\n",
    "    summ1=0\n",
    "    summ1=summ1+n1\n",
    "    print(s)\n",
    "add1()"
   ]
  },
  {
   "cell_type": "code",
   "execution_count": 55,
   "id": "2506744f-9465-40f7-b99c-638117c5b55c",
   "metadata": {},
   "outputs": [
    {
     "name": "stdout",
     "output_type": "stream",
     "text": [
      "0\n"
     ]
    }
   ],
   "source": [
    "def add2():\n",
    "    n1=100\n",
    "    summ1=0\n",
    "    summ1=summ1+n1\n",
    "    print(s)\n",
    "add2()"
   ]
  },
  {
   "cell_type": "code",
   "execution_count": 56,
   "id": "7bdee026-4637-4a46-97bd-1b84f884bb76",
   "metadata": {},
   "outputs": [
    {
     "name": "stdout",
     "output_type": "stream",
     "text": [
      "200\n"
     ]
    }
   ],
   "source": [
    "def add3():\n",
    "    n1=100\n",
    "    summ2=100\n",
    "    summ2=summ2+n1\n",
    "    print(summ2)\n",
    "add3()"
   ]
  },
  {
   "cell_type": "code",
   "execution_count": 57,
   "id": "db027e5f-4483-4894-8a28-1a8381bd75ab",
   "metadata": {},
   "outputs": [
    {
     "name": "stdout",
     "output_type": "stream",
     "text": [
      "60 20.0\n"
     ]
    }
   ],
   "source": [
    "def avg(a,b,c):\n",
    "    ADD=a+b+c\n",
    "    AVG1=ADD/3\n",
    "    print(ADD,AVG1)\n",
    "avg(10,20,30)"
   ]
  },
  {
   "cell_type": "code",
   "execution_count": 61,
   "id": "a191cba5-3d73-485e-8a1a-52dd3d839a92",
   "metadata": {},
   "outputs": [
    {
     "ename": "NameError",
     "evalue": "name 'ADD' is not defined",
     "output_type": "error",
     "traceback": [
      "\u001b[1;31m---------------------------------------------------------------------------\u001b[0m",
      "\u001b[1;31mNameError\u001b[0m                                 Traceback (most recent call last)",
      "Cell \u001b[1;32mIn[61], line 1\u001b[0m\n\u001b[1;32m----> 1\u001b[0m ADD,AVG1\n",
      "\u001b[1;31mNameError\u001b[0m: name 'ADD' is not defined"
     ]
    }
   ],
   "source": [
    "ADD,AVG1"
   ]
  },
  {
   "cell_type": "code",
   "execution_count": 63,
   "id": "1365855b-1b2a-4216-a7a9-31b1a1173940",
   "metadata": {},
   "outputs": [
    {
     "name": "stdout",
     "output_type": "stream",
     "text": [
      "a: 100\n",
      "b: 200\n",
      "c: 5000\n",
      "the summation of 100,200 and 5000 is : 5300\n"
     ]
    }
   ],
   "source": [
    "c=3000\n",
    "def add(a,b):\n",
    "    print('a:',a)\n",
    "    print('b:',b)\n",
    "    print('c:',c)\n",
    "    summ=a+b+c\n",
    "    print(f'the summation of {a},{b} and {c} is : {summ}')\n",
    "c=5000\n",
    "add(100,200)\n",
    "\n",
    "# st-1: c=3000\n",
    "# st-2: def\n",
    "# st-3:  c=5000\n",
    "# st-4:  call\n",
    "# st-5: run"
   ]
  },
  {
   "cell_type": "code",
   "execution_count": 1,
   "id": "bbbc78d0-2d6f-4b4a-9c90-f5dcd4584594",
   "metadata": {},
   "outputs": [
    {
     "name": "stdout",
     "output_type": "stream",
     "text": [
      "a: 100\n",
      "b: 200\n",
      "c: 7000\n",
      "the summation of 100,200 and 8000 is : 7300\n"
     ]
    }
   ],
   "source": [
    "c=3000\n",
    "def add(a,b):\n",
    "    c=7000\n",
    "    print('a:',a)\n",
    "    print('b:',b)\n",
    "    print('c:',c)\n",
    "    summ=a+b+c\n",
    "    c=8000\n",
    "    print(f'the summation of {a},{b} and {c} is : {summ}')\n",
    "c=5000\n",
    "add(100,200)"
   ]
  },
  {
   "cell_type": "code",
   "execution_count": 4,
   "id": "fb3a74d9-6994-4988-ad00-31aed2cc8aa1",
   "metadata": {},
   "outputs": [
    {
     "name": "stdout",
     "output_type": "stream",
     "text": [
      "a: 100\n",
      "b: 200\n",
      "c: 9000\n",
      "the summation of 100,200 and 8000 is : 9300\n"
     ]
    }
   ],
   "source": [
    "c=3000\n",
    "def add(a,b,c=10000):\n",
    "    print('a:',a)\n",
    "    print('b:',b)\n",
    "    print('c:',c)\n",
    "    summ=a+b+c\n",
    "    c=8000\n",
    "    print(f'the summation of {a},{b} and {c} is : {summ}')\n",
    "c=5000\n",
    "add(100,200,9000)"
   ]
  },
  {
   "cell_type": "code",
   "execution_count": 3,
   "id": "62c00eef-ce65-4df3-b7c8-a01f3ed70691",
   "metadata": {},
   "outputs": [
    {
     "data": {
      "text/plain": [
       "<function __main__.num()>"
      ]
     },
     "execution_count": 3,
     "metadata": {},
     "output_type": "execute_result"
    }
   ],
   "source": [
    "# wap ask the user enter a number\n",
    "# print it is an even or odd\n",
    "\n",
    "#a) Function with out argument with default\n",
    "\n",
    "def num():\n",
    "    n1=eval(input('enter a even:'))\n",
    "    n2=eval(input('enter a odd:'))\n",
    "    print(f'it is an even or odd:')\n",
    "nu"
   ]
  },
  {
   "cell_type": "markdown",
   "id": "6b44ecfb-92c6-43c0-aaca-dced6926ecc2",
   "metadata": {},
   "source": [
    "- parameters also called as arguments\n",
    "\n",
    "    - This always inside the function brackets\n",
    "\n",
    "- variables either outside the function or inside the function"
   ]
  },
  {
   "cell_type": "code",
   "execution_count": 13,
   "id": "99ba6c57-0071-42a2-b447-abf14e560e08",
   "metadata": {},
   "outputs": [
    {
     "name": "stdin",
     "output_type": "stream",
     "text": [
      "enter a num: 10\n"
     ]
    },
    {
     "name": "stdout",
     "output_type": "stream",
     "text": [
      "10 is an even\n"
     ]
    }
   ],
   "source": [
    "def even_odd():\n",
    "    num2=eval(input('enter a num:'))\n",
    "    if num2%2==0:\n",
    "       print(f'{num2} is an even')\n",
    "    else:\n",
    "       print(f'{num2} is an odd')\n",
    "\n",
    "even_odd()"
   ]
  },
  {
   "cell_type": "markdown",
   "id": "b243d464-d167-4d05-8e4a-16ebbbfe6558",
   "metadata": {},
   "source": [
    "**parameters vs variable**"
   ]
  },
  {
   "cell_type": "code",
   "execution_count": null,
   "id": "81b18c2d-2db4-46d2-a0b2-6b4427130cd0",
   "metadata": {},
   "outputs": [],
   "source": [
    "**return**\n",
    "\n",
    "- return mean function is giving something\n",
    "\n",
    "- we know that local variables can not use outside the function\n",
    "\n",
    "- in order use local variables outside the function, we have two methods \n",
    "\n",
    "    - global\n",
    "\n",
    "    - return"
   ]
  },
  {
   "cell_type": "code",
   "execution_count": 7,
   "id": "2492022e-01aa-4dda-b71c-8f1fd880952c",
   "metadata": {},
   "outputs": [
    {
     "name": "stdout",
     "output_type": "stream",
     "text": [
      "30\n"
     ]
    }
   ],
   "source": [
    "def add():\n",
    "    a=10\n",
    "    b=20\n",
    "    c=a+b\n",
    "    print(c)\n",
    "\n",
    "add()"
   ]
  },
  {
   "cell_type": "code",
   "execution_count": 5,
   "id": "2331ce3a-552a-4a3c-8b08-59f2a233df98",
   "metadata": {},
   "outputs": [
    {
     "name": "stdout",
     "output_type": "stream",
     "text": [
      "30\n"
     ]
    },
    {
     "ename": "TypeError",
     "evalue": "cannot unpack non-iterable NoneType object",
     "output_type": "error",
     "traceback": [
      "\u001b[1;31m---------------------------------------------------------------------------\u001b[0m",
      "\u001b[1;31mTypeError\u001b[0m                                 Traceback (most recent call last)",
      "Cell \u001b[1;32mIn[5], line 7\u001b[0m\n\u001b[0;32m      4\u001b[0m     c\u001b[38;5;241m=\u001b[39ma\u001b[38;5;241m+\u001b[39mb\n\u001b[0;32m      5\u001b[0m     \u001b[38;5;28mprint\u001b[39m(c)\n\u001b[1;32m----> 7\u001b[0m val1,val2\u001b[38;5;241m=\u001b[39madd()\n",
      "\u001b[1;31mTypeError\u001b[0m: cannot unpack non-iterable NoneType object"
     ]
    }
   ],
   "source": [
    "def add():\n",
    "    a=10\n",
    "    b=20\n",
    "    c=a+b\n",
    "    print(c)\n",
    "\n",
    "val1,val2=add()"
   ]
  },
  {
   "cell_type": "code",
   "execution_count": 6,
   "id": "657cb4b0-dd80-4d5f-ba58-0d1920685be9",
   "metadata": {},
   "outputs": [
    {
     "name": "stdout",
     "output_type": "stream",
     "text": [
      "30\n"
     ]
    }
   ],
   "source": [
    "def add():\n",
    "    a=10\n",
    "    b=20\n",
    "    c=a+b\n",
    "    print(c)\n",
    "\n",
    "value=add()"
   ]
  },
  {
   "cell_type": "code",
   "execution_count": 10,
   "id": "520a122d-9b69-4d6a-b365-e2820d0591e6",
   "metadata": {},
   "outputs": [
    {
     "name": "stdout",
     "output_type": "stream",
     "text": [
      "10 30\n"
     ]
    },
    {
     "ename": "TypeError",
     "evalue": "cannot unpack non-iterable NoneType object",
     "output_type": "error",
     "traceback": [
      "\u001b[1;31m---------------------------------------------------------------------------\u001b[0m",
      "\u001b[1;31mTypeError\u001b[0m                                 Traceback (most recent call last)",
      "Cell \u001b[1;32mIn[10], line 7\u001b[0m\n\u001b[0;32m      4\u001b[0m     c\u001b[38;5;241m=\u001b[39ma\u001b[38;5;241m+\u001b[39mb\n\u001b[0;32m      5\u001b[0m     \u001b[38;5;28mprint\u001b[39m(a,c)\n\u001b[1;32m----> 7\u001b[0m a,c\u001b[38;5;241m=\u001b[39madd()\n\u001b[0;32m      8\u001b[0m \u001b[38;5;28mprint\u001b[39m(a)\n\u001b[0;32m      9\u001b[0m \u001b[38;5;28mprint\u001b[39m(b)\n",
      "\u001b[1;31mTypeError\u001b[0m: cannot unpack non-iterable NoneType object"
     ]
    }
   ],
   "source": [
    "def add():\n",
    "    a=10\n",
    "    b=20\n",
    "    c=a+b\n",
    "    print(a,c)\n",
    "    \n",
    "a,c=add()\n",
    "print(a)\n",
    "print(b)"
   ]
  },
  {
   "cell_type": "code",
   "execution_count": 11,
   "id": "597b1b5e-34ec-46b2-93cb-bea1f3e7c8b9",
   "metadata": {},
   "outputs": [
    {
     "data": {
      "text/plain": [
       "(60, 20.0)"
      ]
     },
     "execution_count": 11,
     "metadata": {},
     "output_type": "execute_result"
    }
   ],
   "source": [
    "def avg(a,b,c):\n",
    "    summ=a+b+c\n",
    "    AVG=summ/3\n",
    "    return(summ,AVG)\n",
    "\n",
    "summ,AVG=avg(10,20,30)"
   ]
  },
  {
   "cell_type": "code",
   "execution_count": 19,
   "id": "71754fd0-f32e-41fe-b8e3-022cf3387039",
   "metadata": {},
   "outputs": [
    {
     "name": "stdin",
     "output_type": "stream",
     "text": [
      "enter a num: 20\n"
     ]
    },
    {
     "data": {
      "text/plain": [
       "'20 is an even'"
      ]
     },
     "execution_count": 19,
     "metadata": {},
     "output_type": "execute_result"
    }
   ],
   "source": [
    "def even_odd():\n",
    "    num2=eval(input('enter a num:'))\n",
    "    if num2%2==0:\n",
    "       return(f'{num2} is an even')\n",
    "    else:\n",
    "       return(f'{num2} is an odd')\n",
    "       \n",
    "even_odd()"
   ]
  },
  {
   "cell_type": "code",
   "execution_count": 21,
   "id": "6d7e9b34-7a5a-42a0-85cb-f977e30a3eca",
   "metadata": {},
   "outputs": [
    {
     "name": "stdin",
     "output_type": "stream",
     "text": [
      "enter a num: 30\n"
     ]
    },
    {
     "name": "stdout",
     "output_type": "stream",
     "text": [
      "30 is an even\n",
      "40\n"
     ]
    }
   ],
   "source": [
    "def even_odd():\n",
    "    num2=eval(input('enter a num:'))\n",
    "    if num2%2==0:\n",
    "       val=10\n",
    "       print(f'{num2} is an even')\n",
    "       return(num2+10)\n",
    "    else:\n",
    "       val=20\n",
    "       print(f'{num2} is an odd')\n",
    "       return(num2+20)\n",
    "       \n",
    "output=even_odd()\n",
    "print(output)"
   ]
  },
  {
   "cell_type": "markdown",
   "id": "fa075347-ef54-4eb8-8203-9983cee94b26",
   "metadata": {},
   "source": [
    "**function in function**"
   ]
  },
  {
   "cell_type": "code",
   "execution_count": 27,
   "id": "e7073c76-b5ff-4475-95ac-c7635a269d7a",
   "metadata": {},
   "outputs": [
    {
     "name": "stdout",
     "output_type": "stream",
     "text": [
      "hello good morning\n",
      "hello good night\n"
     ]
    }
   ],
   "source": [
    "def greet1():\n",
    "    print('hello good morning')\n",
    "    \n",
    "def greet2():\n",
    "    print('hello good night')\n",
    "\n",
    "greet1()\n",
    "greet2()"
   ]
  },
  {
   "cell_type": "code",
   "execution_count": 28,
   "id": "0cdc17de-d605-4182-b822-2e54b995c993",
   "metadata": {},
   "outputs": [
    {
     "name": "stdout",
     "output_type": "stream",
     "text": [
      "hello good morning\n",
      "hello good night\n"
     ]
    }
   ],
   "source": [
    "def greet1():\n",
    "    print('hello good morning')\n",
    "    greet2()\n",
    "    \n",
    "def greet2():\n",
    "    print('hello good night')\n",
    "\n",
    "greet1()"
   ]
  },
  {
   "cell_type": "code",
   "execution_count": 30,
   "id": "74412cfd-9479-4d65-9db4-7fcb60c3a166",
   "metadata": {},
   "outputs": [
    {
     "name": "stdout",
     "output_type": "stream",
     "text": [
      "hello good night\n",
      "hello good morning\n"
     ]
    }
   ],
   "source": [
    "def greet1():\n",
    "    print('hello good morning')\n",
    "    \n",
    "def greet2():\n",
    "    print('hello good night')\n",
    "    greet1()\n",
    "    \n",
    "greet2()"
   ]
  },
  {
   "cell_type": "code",
   "execution_count": 32,
   "id": "04424f78-80ad-4f24-b0b7-a10000ab21d7",
   "metadata": {},
   "outputs": [
    {
     "name": "stdout",
     "output_type": "stream",
     "text": [
      "hello good morning\n",
      "hello good night\n"
     ]
    }
   ],
   "source": [
    "def greet11():\n",
    "    print('hello good morning')\n",
    "    greet22()\n",
    "    \n",
    "def greet22():\n",
    "    print('hello good night')\n",
    "    \n",
    "greet11()"
   ]
  },
  {
   "cell_type": "code",
   "execution_count": null,
   "id": "665843d2-ad91-4c2c-a400-e2ab1612db08",
   "metadata": {},
   "outputs": [],
   "source": [
    "def greet3():\n",
    "    print('i dont know what iam doing')\n",
    "    "
   ]
  },
  {
   "cell_type": "code",
   "execution_count": 12,
   "id": "78ea20a7-c9c3-42c4-83e8-962c9d88d9fd",
   "metadata": {},
   "outputs": [
    {
     "data": {
      "text/plain": [
       "15"
      ]
     },
     "execution_count": 12,
     "metadata": {},
     "output_type": "execute_result"
    }
   ],
   "source": [
    "def add(n):\n",
    "    if n==0:\n",
    "       return(0)\n",
    "    else:\n",
    "       return(n+add(n-1))\n",
    "\n",
    "add(5)\n",
    "# step-1: n=5 if F else 5+add(4)\n",
    "#         n=5 if F else 5+4+add(3)\n",
    "#         n=5 if F else 5+4+3+add(2)\n",
    "#         n=5 if F else 5+4+3+2+add(1)\n",
    "#         n=5 if F else 5+4+3+2+1+add(0)\n",
    "#         n=5 if F else 5+4+3+2+1+0"
   ]
  },
  {
   "cell_type": "code",
   "execution_count": null,
   "id": "59998a52-1b8c-4c6c-b56f-aa5b48a8fb70",
   "metadata": {},
   "outputs": [],
   "source": [
    "# Q1) Factorial recursion 5! = 5*4*3*2*1*\n",
    "# Q2) calcultor\n",
    "\n",
    "# step-1: create 4 functions\n",
    "# def add(a,b):\n",
    "#     return(a+b)\n",
    "# def mul\n",
    "# def div\n",
    "# def sub\n",
    "\n",
    "# print('enter 1 for add 2 sub so on')"
   ]
  },
  {
   "cell_type": "code",
   "execution_count": 2,
   "id": "d49e136d-9db7-4518-90a1-b3f931fe7492",
   "metadata": {},
   "outputs": [
    {
     "data": {
      "text/plain": [
       "120"
      ]
     },
     "execution_count": 2,
     "metadata": {},
     "output_type": "execute_result"
    }
   ],
   "source": [
    "def fact(n):\n",
    "    if n==0:\n",
    "       return(1) \n",
    "    else:\n",
    "       return(n*fact(n-1))\n",
    "\n",
    "fact(5)"
   ]
  },
  {
   "cell_type": "code",
   "execution_count": 1,
   "id": "87cfc668-226d-479b-a237-8d65f358bdad",
   "metadata": {},
   "outputs": [
    {
     "name": "stdin",
     "output_type": "stream",
     "text": [
      "enter between 1 to 4: 1\n"
     ]
    },
    {
     "data": {
      "text/plain": [
       "30"
      ]
     },
     "execution_count": 1,
     "metadata": {},
     "output_type": "execute_result"
    }
   ],
   "source": [
    "def main():\n",
    "    option=eval(input('enter between 1 to 4:'))\n",
    "    if option==1:\n",
    "        a=10\n",
    "        b=20\n",
    "        add=(a+b)\n",
    "        return(add)\n",
    "    elif option==2:\n",
    "        a=10\n",
    "        b=20\n",
    "        mul=(a*b)\n",
    "        return(mul)\n",
    "    elif option==3:\n",
    "        a=10\n",
    "        b=20\n",
    "        sub=(a-b)\n",
    "        return(sub)\n",
    "    elif option==4:\n",
    "        a=10\n",
    "        b=20\n",
    "        div=(a/b)\n",
    "        return(div)\n",
    "main()"
   ]
  },
  {
   "cell_type": "code",
   "execution_count": null,
   "id": "e897117c-abfc-4ca9-999b-279afa518bba",
   "metadata": {},
   "outputs": [],
   "source": []
  }
 ],
 "metadata": {
  "kernelspec": {
   "display_name": "Python 3 (ipykernel)",
   "language": "python",
   "name": "python3"
  },
  "language_info": {
   "codemirror_mode": {
    "name": "ipython",
    "version": 3
   },
   "file_extension": ".py",
   "mimetype": "text/x-python",
   "name": "python",
   "nbconvert_exporter": "python",
   "pygments_lexer": "ipython3",
   "version": "3.12.7"
  }
 },
 "nbformat": 4,
 "nbformat_minor": 5
}
